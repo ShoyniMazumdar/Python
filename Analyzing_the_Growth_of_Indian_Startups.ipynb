{
  "nbformat": 4,
  "nbformat_minor": 0,
  "metadata": {
    "colab": {
      "provenance": [],
      "authorship_tag": "ABX9TyOYx91KvR34iLR6eGVwt89i",
      "include_colab_link": true
    },
    "kernelspec": {
      "name": "python3",
      "display_name": "Python 3"
    },
    "language_info": {
      "name": "python"
    },
    "widgets": {
      "application/vnd.jupyter.widget-state+json": {
        "33e0c604409d497698edcad38517a5d1": {
          "model_module": "@jupyter-widgets/controls",
          "model_name": "VBoxModel",
          "model_module_version": "1.5.0",
          "state": {
            "_dom_classes": [
              "widget-interact"
            ],
            "_model_module": "@jupyter-widgets/controls",
            "_model_module_version": "1.5.0",
            "_model_name": "VBoxModel",
            "_view_count": null,
            "_view_module": "@jupyter-widgets/controls",
            "_view_module_version": "1.5.0",
            "_view_name": "VBoxView",
            "box_style": "",
            "children": [
              "IPY_MODEL_0a4dcd7b4f114e6199375616816beb29",
              "IPY_MODEL_a6ff204d6f8547e2ad45ec18507868b5",
              "IPY_MODEL_2e273a9cbf354723aa7a26d77c8887dd"
            ],
            "layout": "IPY_MODEL_d00df8dabd98460487e67c452b8af7ad"
          }
        },
        "0a4dcd7b4f114e6199375616816beb29": {
          "model_module": "@jupyter-widgets/controls",
          "model_name": "DropdownModel",
          "model_module_version": "1.5.0",
          "state": {
            "_dom_classes": [],
            "_model_module": "@jupyter-widgets/controls",
            "_model_module_version": "1.5.0",
            "_model_name": "DropdownModel",
            "_options_labels": [
              "StartupName",
              "IndustryVertical",
              "SubVertical",
              "City",
              "InvestorsName",
              "InvestmentType",
              "AmountInUSD"
            ],
            "_view_count": null,
            "_view_module": "@jupyter-widgets/controls",
            "_view_module_version": "1.5.0",
            "_view_name": "DropdownView",
            "description": "x",
            "description_tooltip": null,
            "disabled": false,
            "index": 1,
            "layout": "IPY_MODEL_250da2f9f8664365b6e36fba61be66c0",
            "style": "IPY_MODEL_b7eae7c8bf524d4ebf51e71dc202498d"
          }
        },
        "a6ff204d6f8547e2ad45ec18507868b5": {
          "model_module": "@jupyter-widgets/controls",
          "model_name": "ButtonModel",
          "model_module_version": "1.5.0",
          "state": {
            "_dom_classes": [],
            "_model_module": "@jupyter-widgets/controls",
            "_model_module_version": "1.5.0",
            "_model_name": "ButtonModel",
            "_view_count": null,
            "_view_module": "@jupyter-widgets/controls",
            "_view_module_version": "1.5.0",
            "_view_name": "ButtonView",
            "button_style": "",
            "description": "Run Interact",
            "disabled": false,
            "icon": "",
            "layout": "IPY_MODEL_053345955adb42388d995ef9b95d45bf",
            "style": "IPY_MODEL_f819a61310e54ff8a904984f84751fc9",
            "tooltip": ""
          }
        },
        "2e273a9cbf354723aa7a26d77c8887dd": {
          "model_module": "@jupyter-widgets/output",
          "model_name": "OutputModel",
          "model_module_version": "1.0.0",
          "state": {
            "_dom_classes": [],
            "_model_module": "@jupyter-widgets/output",
            "_model_module_version": "1.0.0",
            "_model_name": "OutputModel",
            "_view_count": null,
            "_view_module": "@jupyter-widgets/output",
            "_view_module_version": "1.0.0",
            "_view_name": "OutputView",
            "layout": "IPY_MODEL_7594d9568225448b9ace0ebe30859e5a",
            "msg_id": "",
            "outputs": [
              {
                "output_type": "display_data",
                "data": {
                  "text/plain": "<Figure size 432x288 with 1 Axes>",
                  "image/png": "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\n"
                },
                "metadata": {
                  "needs_background": "light"
                }
              }
            ]
          }
        },
        "d00df8dabd98460487e67c452b8af7ad": {
          "model_module": "@jupyter-widgets/base",
          "model_name": "LayoutModel",
          "model_module_version": "1.2.0",
          "state": {
            "_model_module": "@jupyter-widgets/base",
            "_model_module_version": "1.2.0",
            "_model_name": "LayoutModel",
            "_view_count": null,
            "_view_module": "@jupyter-widgets/base",
            "_view_module_version": "1.2.0",
            "_view_name": "LayoutView",
            "align_content": null,
            "align_items": null,
            "align_self": null,
            "border": null,
            "bottom": null,
            "display": null,
            "flex": null,
            "flex_flow": null,
            "grid_area": null,
            "grid_auto_columns": null,
            "grid_auto_flow": null,
            "grid_auto_rows": null,
            "grid_column": null,
            "grid_gap": null,
            "grid_row": null,
            "grid_template_areas": null,
            "grid_template_columns": null,
            "grid_template_rows": null,
            "height": null,
            "justify_content": null,
            "justify_items": null,
            "left": null,
            "margin": null,
            "max_height": null,
            "max_width": null,
            "min_height": null,
            "min_width": null,
            "object_fit": null,
            "object_position": null,
            "order": null,
            "overflow": null,
            "overflow_x": null,
            "overflow_y": null,
            "padding": null,
            "right": null,
            "top": null,
            "visibility": null,
            "width": null
          }
        },
        "250da2f9f8664365b6e36fba61be66c0": {
          "model_module": "@jupyter-widgets/base",
          "model_name": "LayoutModel",
          "model_module_version": "1.2.0",
          "state": {
            "_model_module": "@jupyter-widgets/base",
            "_model_module_version": "1.2.0",
            "_model_name": "LayoutModel",
            "_view_count": null,
            "_view_module": "@jupyter-widgets/base",
            "_view_module_version": "1.2.0",
            "_view_name": "LayoutView",
            "align_content": null,
            "align_items": null,
            "align_self": null,
            "border": null,
            "bottom": null,
            "display": null,
            "flex": null,
            "flex_flow": null,
            "grid_area": null,
            "grid_auto_columns": null,
            "grid_auto_flow": null,
            "grid_auto_rows": null,
            "grid_column": null,
            "grid_gap": null,
            "grid_row": null,
            "grid_template_areas": null,
            "grid_template_columns": null,
            "grid_template_rows": null,
            "height": null,
            "justify_content": null,
            "justify_items": null,
            "left": null,
            "margin": null,
            "max_height": null,
            "max_width": null,
            "min_height": null,
            "min_width": null,
            "object_fit": null,
            "object_position": null,
            "order": null,
            "overflow": null,
            "overflow_x": null,
            "overflow_y": null,
            "padding": null,
            "right": null,
            "top": null,
            "visibility": null,
            "width": null
          }
        },
        "b7eae7c8bf524d4ebf51e71dc202498d": {
          "model_module": "@jupyter-widgets/controls",
          "model_name": "DescriptionStyleModel",
          "model_module_version": "1.5.0",
          "state": {
            "_model_module": "@jupyter-widgets/controls",
            "_model_module_version": "1.5.0",
            "_model_name": "DescriptionStyleModel",
            "_view_count": null,
            "_view_module": "@jupyter-widgets/base",
            "_view_module_version": "1.2.0",
            "_view_name": "StyleView",
            "description_width": ""
          }
        },
        "053345955adb42388d995ef9b95d45bf": {
          "model_module": "@jupyter-widgets/base",
          "model_name": "LayoutModel",
          "model_module_version": "1.2.0",
          "state": {
            "_model_module": "@jupyter-widgets/base",
            "_model_module_version": "1.2.0",
            "_model_name": "LayoutModel",
            "_view_count": null,
            "_view_module": "@jupyter-widgets/base",
            "_view_module_version": "1.2.0",
            "_view_name": "LayoutView",
            "align_content": null,
            "align_items": null,
            "align_self": null,
            "border": null,
            "bottom": null,
            "display": null,
            "flex": null,
            "flex_flow": null,
            "grid_area": null,
            "grid_auto_columns": null,
            "grid_auto_flow": null,
            "grid_auto_rows": null,
            "grid_column": null,
            "grid_gap": null,
            "grid_row": null,
            "grid_template_areas": null,
            "grid_template_columns": null,
            "grid_template_rows": null,
            "height": null,
            "justify_content": null,
            "justify_items": null,
            "left": null,
            "margin": null,
            "max_height": null,
            "max_width": null,
            "min_height": null,
            "min_width": null,
            "object_fit": null,
            "object_position": null,
            "order": null,
            "overflow": null,
            "overflow_x": null,
            "overflow_y": null,
            "padding": null,
            "right": null,
            "top": null,
            "visibility": null,
            "width": null
          }
        },
        "f819a61310e54ff8a904984f84751fc9": {
          "model_module": "@jupyter-widgets/controls",
          "model_name": "ButtonStyleModel",
          "model_module_version": "1.5.0",
          "state": {
            "_model_module": "@jupyter-widgets/controls",
            "_model_module_version": "1.5.0",
            "_model_name": "ButtonStyleModel",
            "_view_count": null,
            "_view_module": "@jupyter-widgets/base",
            "_view_module_version": "1.2.0",
            "_view_name": "StyleView",
            "button_color": null,
            "font_weight": ""
          }
        },
        "7594d9568225448b9ace0ebe30859e5a": {
          "model_module": "@jupyter-widgets/base",
          "model_name": "LayoutModel",
          "model_module_version": "1.2.0",
          "state": {
            "_model_module": "@jupyter-widgets/base",
            "_model_module_version": "1.2.0",
            "_model_name": "LayoutModel",
            "_view_count": null,
            "_view_module": "@jupyter-widgets/base",
            "_view_module_version": "1.2.0",
            "_view_name": "LayoutView",
            "align_content": null,
            "align_items": null,
            "align_self": null,
            "border": null,
            "bottom": null,
            "display": null,
            "flex": null,
            "flex_flow": null,
            "grid_area": null,
            "grid_auto_columns": null,
            "grid_auto_flow": null,
            "grid_auto_rows": null,
            "grid_column": null,
            "grid_gap": null,
            "grid_row": null,
            "grid_template_areas": null,
            "grid_template_columns": null,
            "grid_template_rows": null,
            "height": null,
            "justify_content": null,
            "justify_items": null,
            "left": null,
            "margin": null,
            "max_height": null,
            "max_width": null,
            "min_height": null,
            "min_width": null,
            "object_fit": null,
            "object_position": null,
            "order": null,
            "overflow": null,
            "overflow_x": null,
            "overflow_y": null,
            "padding": null,
            "right": null,
            "top": null,
            "visibility": null,
            "width": null
          }
        }
      }
    }
  },
  "cells": [
    {
      "cell_type": "markdown",
      "metadata": {
        "id": "view-in-github",
        "colab_type": "text"
      },
      "source": [
        "<a href=\"https://colab.research.google.com/github/ShoyniMazumdar/Python/blob/main/Analyzing_the_Growth_of_Indian_Startups.ipynb\" target=\"_parent\"><img src=\"https://colab.research.google.com/assets/colab-badge.svg\" alt=\"Open In Colab\"/></a>"
      ]
    },
    {
      "cell_type": "markdown",
      "metadata": {
        "id": "XV7VHPMb9F47"
      },
      "source": [
        "## Lets Understand some of the most Interesting Patterns of Funding and Startups.\n",
        "\n",
        "* **How Does the Funding Ecosystem changes with respect to Time?**\n",
        "* **What is the General Amount that Startups get in India?**\n",
        "* **Which Kind of Industries are more preferred for Startups?**\n",
        "* **Does Location also play a role, In determining the Growth of a Startup?**\n",
        "* **Who plays the main role in Indian Startups Ecosystem?**\n",
        "* **What are the different Types of Funding for Startups?**"
      ]
    },
    {
      "cell_type": "code",
      "source": [
        "# lets import the data\n",
        "import pandas as pd\n",
        "data = pd.read_csv(\"/content/startup_funding.csv\")\n",
        "\n",
        "# changing the names of the columns inside the data\n",
        "data.columns = [\"SNo\", \"Date\", \"StartupName\", \"IndustryVertical\", \"SubVertical\",\n",
        "                        \"City\", \"InvestorsName\", \"InvestmentType\", \"AmountInUSD\", \"Remarks\"]\n",
        "\n",
        "# lets clean the strings\n",
        "def clean_string(x):\n",
        "    return str(x).replace(\"\\\\xc2\\\\xa0\",\"\").replace(\"\\\\\\\\xc2\\\\\\\\xa0\", \"\")\n",
        "    \n",
        "# lets check the head of the data\n",
        "data.head()"
      ],
      "metadata": {
        "id": "2grxL0kwu2AB"
      },
      "execution_count": null,
      "outputs": []
    },
    {
      "cell_type": "code",
      "source": [
        "import plotly.express as px # Plotly\n",
        "px.scatter(data,x='City',y='AmountInUSD')"
      ],
      "metadata": {
        "id": "DPfZHPlXzrH0",
        "colab": {
          "base_uri": "https://localhost:8080/",
          "height": 542
        },
        "outputId": "816468f1-1829-41fc-b9c1-467a26f48ba6"
      },
      "execution_count": null,
      "outputs": [
        {
          "output_type": "display_data",
          "data": {
            "text/html": [
              "<html>\n",
              "<head><meta charset=\"utf-8\" /></head>\n",
              "<body>\n",
              "    <div>            <script src=\"https://cdnjs.cloudflare.com/ajax/libs/mathjax/2.7.5/MathJax.js?config=TeX-AMS-MML_SVG\"></script><script type=\"text/javascript\">if (window.MathJax) {MathJax.Hub.Config({SVG: {font: \"STIX-Web\"}});}</script>                <script type=\"text/javascript\">window.PlotlyConfig = {MathJaxConfig: 'local'};</script>\n",
              "        <script src=\"https://cdn.plot.ly/plotly-2.8.3.min.js\"></script>                <div id=\"07d17a5a-f368-4596-8d8c-d75727c88850\" class=\"plotly-graph-div\" style=\"height:525px; width:100%;\"></div>            <script type=\"text/javascript\">                                    window.PLOTLYENV=window.PLOTLYENV || {};                                    if (document.getElementById(\"07d17a5a-f368-4596-8d8c-d75727c88850\")) {                    Plotly.newPlot(                        \"07d17a5a-f368-4596-8d8c-d75727c88850\",                        [{\"hovertemplate\":\"City=%{x}<br>AmountInUSD=%{y}<extra></extra>\",\"legendgroup\":\"\",\"marker\":{\"color\":\"#636efa\",\"symbol\":\"circle\"},\"mode\":\"markers\",\"name\":\"\",\"showlegend\":false,\"x\":[\"Bengaluru\",\"Gurgaon\",\"Bengaluru\",\"New Delhi\",\"Mumbai\",\"Chennai\",\"Gurgaon\",\"Pune\",\"Gurgaon\",\"Bengaluru\",\"Gurgaon\",\"Bengaluru\",\"Bengaluru\",\"Mumbai\",\"Bengaluru\",\"Noida\",\"Faridabad\",\"San Francisco\",\"Gurgaon\",\"Gurgaon\",\"Gurgaon\",\"Gurgaon\",\"Bengaluru\",\"Gurgaon\",\"Pune\",\"San Jose,\",\"Amritsar\",\"Delhi\",\"Mumbai\",\"Kormangala\",\"Tulangan\",\"Noida\",\"Bengaluru\",\"Bengaluru\",\"Gurgaon\",\"Pune\",\"Mumbai\",\"Mumbai\",\"Hyderabad\",\"Burnsville\",\"Bengaluru\",\"Mumbai\",\"Menlo Park\",\"Bengaluru\",\"Gurgaon\",\"New Delhi\",\"Bengaluru\",\"Mumbai\",\"Noida\",\"Bengaluru\",\"Gurugram\",\"Palo Alto\",\"San Francisco\",\"Bengaluru\",\"Santa Monica\",\"Gurgaon\",\"Bengaluru\",\"Noida\",\"Gurgaon\",\"Gurgaon\",\"Bengaluru\",\"Gurgaon\",\"Singapore\",\"New Delhi\",\"Kormangala\",\"Taramani\",\"New Delhi\",\"Bengaluru\",\"Singapore\",\"Singapore\",\"Andheri\",\"Mumbai\",\"Mumbai\",\"Chembur\",\"Bengaluru\",\"New Delhi\",\"Gurgaon\",\"Bengaluru\",\"New Delhi\",\"Hyderabad\",\"Bengaluru\",\"Nairobi\",\"New Delhi\",\"Bengaluru\",\"Bengaluru\",\"Haryana\",\"New York\",\"Karnataka\",\"Mumbai/Bengaluru\",\"Bengaluru\",\"Bengaluru\",\"Delhi\",\"Bengaluru\",\"Hyderabad\",\"Bengaluru\",\"Mumbai\",\"Bengaluru\",\"New Delhi\",\"Bengaluru\",\"Bengaluru\",\"Bhopal\",\"New Delhi\",\"Gurugram\",\"Bengaluru\",\"Mumbai\",\"Mumbai\",\"Bengaluru\",\"Mumbai\",\"Bengaluru and Gurugram\",\"Bengaluru\",\"Gurugram\",\"Bengaluru\",\"Gurgaon\",\"India/Singapore\",\"New Delhi\",\"Gurgaon\",\"Jaipur\",\"India/US\",\"Chennai\",\"Delhi\",\"New Delhi\",\"Mumbai\",\"Gurugram\",\"Nagpur\",\"Indore\",\"Gurugram\",\"Bengaluru\",\"Chennai\",\"Bengaluru\",\"Bengaluru\",\"Jaipur\",\"New York, Bengaluru\",\"New Delhi\",\"Bengaluru\",\"Bengaluru\",\"California\",\"Bengaluru\",\"Noida\",\"Mumbai\",\"Gurugram\",\"Mumbai/Bengaluru\",\"India/US\",\"India\",\"Delhi\",\"Delhi\",\"Hyderabad\",\"Mumbai\",\"Gurgaon\",\"New Delhi\",\"Bengaluru\",\"Bengaluru\",\"Chennai\",\"Bengaluru\",\"Bengaluru\",\"Delhi\",\"Gurugram\",\"Mumbai\",\"Chennai\",\"Mumbai\",\"Gurugram\",\"Bengaluru\",\"Mumbai\",\"Mumbai\",\"Mumbai\",\"Bengaluru\",\"Pune\",\"Hyderabad\",\"Gurugram\",\"Mumbai\",\"Bengaluru\",\"Gurugram\",\"Bengaluru\",\"Bengaluru\",\"Bengaluru\",\"Bengaluru\",\"Bengaluru\",\"Chennai\",\"Bengaluru\",\"Ahemadabad\",\"Gurugram\",\"Bengaluru\",\"Mumbai\",\"Bengaluru\",\"Gurugram\",\"Bengaluru\",\"Bengaluru\",\"Delhi\",\"Bengaluru\",\"Mumbai\",\"Gurugram\",\"Gurugram\",\"Pune\",\"Mumbai\",\"Gurugram\",\"Bengaluru\",\"Bengaluru\",\"Gurugram\",\"Delhi\",\"Bengaluru\",\"Mumbai\",\"Rourkela\",\"Gurugram\",\"Bengaluru\",\"Jaipur\",\"Gurugram\",\"Gurugram\",\"Bengaluru\",\"Mumbai\",\"Bengaluru\",\"Mumbai\",\"Bengaluru\",\"Gurugram\",\"Bengaluru\",\"Bengaluru\",\"Pune\",\"Mumbai\",\"Bengaluru\",\"Bengaluru\",\"Bengaluru\",\"Bengaluru\",\"Hyderabad\",\"Gurugram\",\"Bengaluru\",\"Chennai\",\"Hyderabad\",\"Gurugram\",\"Bengaluru\",\"Srinagar\",\"Nagpur\",\"Mumbai\",\"Bhubneswar\",\"Bengaluru\",\"Gurugram\",\"Hyderabad\",\"Mumbai\",\"Chennai\",\"Bengaluru\",\"Gurugram\",\"Noida\",\"Gurugram\",\"Bengaluru\",\"Mumbai\",\"Chandigarh\",\"Delhi & Cambridge\",\"Pune\",\"Bengaluru\",\"Mumbai\",\"Bengaluru\",\"Gurugram\",\"Bengaluru\",\"Gurugram\",\"Noida\",\"Bengaluru\",\"Mumbai\",\"Bengaluru\",\"Bengaluru\",\"Kolkatta\",\"Chennai\",\"Mumbai\",\"Chennai\",\"Mumbai\",\"Mumbai\",\"Pune\",\"Mumbai\",\"Bengaluru\",\"Bengaluru\",\"Gurugram\",\"Bengaluru\",\"Bengaluru\",\"Bengaluru\",\"Kolkata\",\"Delhi\",\"Delhi\",\"Mumbai\",\"Mumbai\",\"Gurugram\",\"Bengaluru\",\"Bengaluru\",\"Bengaluru\",\"Hyderabad\",\"Mumbai\",\"Coimbatore\",\"Gurugram\",\"Bengaluru\",\"Bengaluru\",\"Hyderabad\",\"Bangalore\",\"Chennai\",\"Mumbai\",\"Mumbai\",\"Delhi\",\"Bengaluru\",\"Gurugram\",\"Delhi\",\"Gurugram\",\"Mumbai\",\"Delhi\",\"Bengaluru\",\"Mumbai\",\"Faridabad\",\"Gurugram\",\"Bengaluru\",\"Gurugram\",\"Delhi\",\"Mumbai\",\"Mumbai\",\"Mumbai\",\"Bengaluru\",\"Delhi\",\"Delhi\",\"Noida\",\"Gurugram\",\"Mumbai\",\"Mumbai\",\"Gurgaon\",\"Mumbai\",\"Noida\",\"Bengaluru\",\"Bengaluru\",\"Indore\",\"Mumbai\",\"Bengaluru\",\"Jaipur\",\"Noida\",\"Pune\",\"Chennai\",\"Mumbai\",\"Mumbai\",\"Gurugram\",\"Mumbai\",\"Mumbai\",\"Hyderabad\",\"Bengaluru\",\"Gurugram\",\"Mumbai\",\"Udaipur\",\"Gurugram\",\"Gurugram\",null,\"Pune\",\"Chennai\",\"Noida\",\"Bengaluru\",\"Bengaluru\",\"Delhi\",\"Delhi\",\"Bengaluru\",\"Delhi\",\"Bengaluru\",\"Mumbai\",\"Bengaluru\",\"Gurugram\",\"Bengaluru\",\"Faridabad\",\"Gurugram\",\"Ahemdabad\",\"Bengaluru\",\"Bengaluru\",\"Pune\",\"Pune\",\"Bengaluru\",\"Bhubaneswar\",\"Bengaluru\",\"Mumbai\",\"Bengaluru\",\"Gurugram\",\"Gurugram\",\"Mumbai\",\"Ahmedabad\",\"Bengaluru\",\"Chennai\",\"Mumbai\",\"Mumbai\",\"Mumbai\",\"Gurugram\",\"Ahemadabad\",\"Bengaluru\",\"Mumbai\",\"Gurugram\",\"Mumbai\",\"Bengaluru\",\"Bengaluru\",\"Gurugram\",\"Hyderabad\",\"Delhi\",\"Chennai\",\"Bengaluru\",\"Mumbai\",\"Gurugram\",\"Bengaluru\",\"Bengaluru\",\"Mumbai\",\"Pune\",\"Bengaluru\",\"Bengaluru\",\"Ahmedabad\",\"Mumbai\",\"Bengaluru\",\"Delhi\",\"Chennai\",\"Surat\",\"Gurgaon\",\"Bengaluru\",\"Bengaluru\",\"Bengaluru\",\"New Delhi\",\"Pune\",\"Bengaluru\",\"Chennai\",\"Bangalore\",\"Bengaluru\",\"Chennai\",\"Bengaluru\",\"Gurugram\",\"Mumbai\",\"Mumbai\",\"Gurugram\",\"Bengaluru\",\"Mumbai\",\"Bengaluru\",\"Hyderabad\",\"Mumbai\",\"Gurugram\",\"Mumbai\",\"Bengaluru\",\"Mumbai\",\"Bengaluru\",\"Bengaluru\",\"Mumbai\",\"Bangalore\",\"Mumbai\",\"Goa\",\"Gurgaon\",\"Mumbai\",\"Chennai\",\"Mumbai\",\"Mumbai\",\"Gurgaon\",\"Chennai\",\"Noida\",\"Delhi\",\"Mumbai\",\"Bengaluru\",\"Bengaluru\",\"Delhi\",\"Bengaluru\",\"Hyderabad\",\"Gurgaon\",\"Pune\",\"Mumbai\",\"Bengaluru\",\"Mumbai\",\"Bengaluru\",\"Bengaluru\",\"Gurgaon\",\"Bengaluru\",\"Delhi\",\"Mumbai\",\"Delhi\",\"Noida\",\"Bengaluru\",\"Mumbai\",\"Delhi\",\"Bengaluru\",\"Hyderabad\",\"Mumbai\",\"Bengaluru\",\"Uttar Pradesh\",\"Chennai\",\"Noida\",\"Hyderabad\",\"New Delhi\",\"Pune\",\"Bangalore\",\"Bangalore\",\"Mumbai\",\"Bangalore\",\"Bangalore\",\"Bangalore\",\"New Delhi\",\"New Delhi\",\"Mumbai\",\"Bangalore\",\"Bangalore\",\"Bangalore\",\"Mumbai\",\"Bangalore\",\"Delhi\",\"Bangalore\",\"Bangalore\",\"Bangalore\",\"Nw Delhi\",\"Mumbai\",\"Gurgaon\",\"Bangalore\",\"Bangalore\",\"Bangalore\",\"Delhi\",\"Gurgaon\",\"New Delhi\",\"Hyderabad\",\"Delhi\",\"Mumbai\",\"Hyderabad\",\"Mumbai\",\"Mumbai\",\"Mumbai\",\"Bangalore\",\"Mumbai\",\"Mumbai\",\"Bangalore\",\"Indore\",\"Bangalore\",\"Goa\",\"Mumbai\",\"Mumbai\",\"Mumbai\",\"Bangalore\",\"Chennai\",\"Goa\",\"Delhi\",\"Gurgaon\",\"Mumbai\",\"Bangalore\",\"Bangalore\",\"Bangalore\",\"Bangalore\",\"New Delhi\",\"Mumbai\",\"Bangalore\",\"New Delhi\",\"Bangalore\",\"Bangalore\",\"Bangalore\",\"Gurgaon\",\"Bangalore\",\"Bangalore\",\"Bangalore\",\"New Delhi\",\"Gurgaon\",\"Gurgaon\",\"Gurgaon\",\"Bangalore\",\"Hyderabad\",\"Hyderabad\",\"Gurgaon\",\"Bangalore\",\"Gurgaon\",\"Bangalore\",\"New Delhi\",\"Bangalore\",\"Chennai\",\"Chennai\",\"Bangalore\",\"Mumbai\",\"Mumbai\",\"Mumbai\",\"Mumbai\",\"Kolkata\",\"Bangalore\",\"Mumbai\",\"New Delhi\",\"Bangalore\",\"Mumbai\",\"Gurgaon\",\"Gurgaon\",\"Bangalore\",\"Gurgaon\",\"New Delhi\",\"New Delhi\",\"Bangalore\",\"Coimbatore\",\"Chennai\",\"Mumbai\",\"Chennai\",\"Bangalore\",\"Mumbai\",\"Pune\",\"Bangalore\",\"Gurgaon\",\"Ahmedabad\",\"New Delhi\",\"Bangalore\",\"Gurgaon\",\"Mumbai\",\"Bangalore\",\"Gurgaon\",\"Pune\",\"Gurgaon\",\"Pune\",\"New Delhi\",\"Bangalore\",\"New Delhi\",\"Hyderabad\",\"New Delhi\",\"New Delhi\",\"Bangalore\",\"New Delhi\",\"Indore\",\"Bangalore\",\"Gurgaon\",\"Mumbai\",\"Chennai\",\"New Delhi\",\"Mumbai\",\"Bangalore\",\"New Delhi\",\"Gurgaon\",\"Bangalore\",\"Hyderabad\",\"Mumbai\",\"Gaya\",\"New Delhi\",\"New Delhi\",\"Bangalore\",\"Gurgaon\",\"Bangalore\",\"Bangalore\",\"Bangalore\",\"Hyderabad\",\"Bangalore\",\"Bangalore\",\"Mumbai\",\"Bangalore\",\"Gurgaon\",\"Bangalore\",\"Mumbai\",\"Gurgaon\",\"Bangalore\",\"Gurgaon\",\"New Delhi\",\"Bangalore\",\"Bangalore\",\"Mumbai\",\"New Delhi\",\"Mumbai\",\"Hyderabad\",\"Mumbai\",\"Jaipur\",\"Bangalore\",\"Mumbai\",\"New Delhi\",\"Mumbai\",\"Mumbai\",\"Chennai\",\"Chennai\",\"New Delhi\",\"New Delhi\",\"Gurgaon\",\"Bangalore\",\"Bangalore\",\"Bangalore\",\"New Delhi\",\"Gurgaon\",\"New Delhi\",\"Mumbai\",\"Bangalore\",\"Mumbai\",\"New Delhi\",\"Chennai\",\"Vadodara\",\"Mumbai\",\"Noida\",\"Gurgaon\",\"Pune\",\"New Delhi\",\"Bangalore\",\"Bangalore\",\"Bangalore\",\"Chennai\",\"Bangalore\",\"Pune\",\"Bangalore\",\"Mumbai\",\"Gurgaon\",\"Bangalore\",\"Bangalore\",\"Bangalore\",\"Ahmedabad\",\"Gurgaon\",\"Bangalore\",\"Noida\",\"Mumbai\",\"Bangalore\",\"Gurgaon\",\"Bangalore\",\"Bangalore\",\"Hyderabad\",\"Pune\",\"Mumbai\",\"Bangalore\",\"Bangalore\",\"Hyderabad\",\"Bangalore\",\"Pune\",\"Bangalore\",\"Bangalore\",\"Bangalore\",\"Pune\",\"Noida\",\"Hyderabad\",\"Kolkata\",\"Bangalore\",\"Bangalore\",\"Bangalore\",\"Bangalore\",\"Gurgaon\",\"Gurgaon\",\"New Delhi\",\"New Delhi\",\"Bangalore\",\"Bangalore\",\"Bangalore\",\"New Delhi\",\"New Delhi\",\"Bangalore\",\"Gurgaon\",\"Mumbai\",\"Mumbai\",\"Bangalore\",\"Bangalore\",\"Bangalore\",\"Mumbai\",\"Mumbai\",\"Gurgaon\",\"Kolkata\",\"Mumbai\",\"Bangalore\",\"New Delhi\",\"New Delhi\",\"Gurgaon\",\"New Delhi\",\"Mumbai\",\"Hyderabad\",\"Hyderabad\",\"Bangalore\",\"Bangalore\",\"Mumbai\",\"Hyderabad\",\"Bangalore\",\"Ahmedabad\",\"Bangalore\",\"New Delhi\",\"Mumbai\",\"Mumbai\",\"New Delhi\",\"Bangalore\",\"Bangalore\",\"Bangalore\",\"Mumbai\",\"Noida\",\"Bangalore\",\"Bangalore\",\"Mumbai\",\"Noida\",\"Hyderabad\",\"Gurgaon\",\"New Delhi\",\"Bangalore\",\"Hyderabad\",\"Bangalore\",\"Mumbai\",\"Mumbai\",\"Bangalore\",\"Hyderabad\",\"Mumbai\",\"Mumbai\",\"Bangalore\",\"Mumbai\",\"Bangalore\",\"Mumbai\",\"Mumbai\",\"Hyderabad\",\"Bangalore\",\"Noida\",\"New Delhi\",\"Bangalore\",\"Pune\",\"New Delhi\",\"Mumbai\",\"Bangalore\",\"New Delhi\",\"Mumbai\",\"Bangalore\",\"Gurgaon\",\"Hyderabad\",\"Gurgaon\",\"Hyderabad\",\"Bangalore\",\"Mumbai\",\"Bangalore\",\"Bangalore\",\"Bangalore\",\"New Delhi\",\"New Delhi\",\"Mumbai\",\"Hyderabad\",\"Trivandrum\",\"Bangalore\",\"Gurgaon\",\"New Delhi\",\"Pune\",\"New Delhi\",\"Bangalore\",\"Bangalore\",\"New Delhi\",\"Bangalore\",\"Pune\",\"Mumbai\",\"New Delhi\",\"Noida\",\"Gurgaon\",\"Bangalore\",\"Bangalore\",\"Pune\",\"Mumbai\",\"Mumbai\",\"New Delhi\",\"Bangalore\",\"Mumbai\",\"Bangalore\",\"Bangalore\",\"Bangalore\",\"Bangalore\",\"Mumbai\",\"Mumbai\",\"Chennai\",\"Mumbai\",\"Mumbai\",\"Chandigarh\",\"Bangalore\",\"Bangalore\",\"Hyderabad\",\"New Delhi\",\"New Delhi\",\"Mumbai\",\"Hyderabad\",\"Gurgaon\",\"New Delhi\",\"Mumbai\",\"Mumbai\",\"Gurgaon\",\"Bangalore\",\"Mumbai\",\"Noida\",\"New Delhi\",\"Mumbai\",\"Bangalore\",\"New Delhi\",\"Mumbai\",\"Bangalore\",\"Kolkata\",\"Gurgaon\",\"Mumbai\",\"Mumbai\",\"Mumbai\",\"Noida\",\"Mumbai\",\"Bangalore\",\"Chennai\",\"Bangalore\",\"Bangalore\",\"Pune\",\"Ahmedabad\",\"New Delhi\",\"Mumbai\",\"Mumbai\",\"Bangalore\",\"Bangalore\",\"Bangalore\",\"Gurgaon\",\"Noida\",\"Gurgaon\",\"Mumbai\",\"Mumbai\",\"Gurgaon\",\"Bangalore\",\"Bangalore\",\"Bangalore\",\"Bangalore\",\"New Delhi\",\"New Delhi\",\"Mumbai\",\"Bangalore\",\"Noida\",\"Hyderabad\",\"Mumbai\",\"Gurgaon\",\"Gurgaon\",\"Bangalore\",\"Jaipur\",\"Gurgaon\",\"New Delhi\",\"Mumbai\",\"Mumbai\",\"New Delhi\",\"New Delhi\",\"Ahmedabad\",\"New Delhi\",\"Bangalore\",\"Bangalore\",\"New Delhi\",\"Mumbai\",\"Bangalore\",\"Bangalore\",\"Pune\",\"Gurgaon\",\"Mumbai\",\"Bangalore\",\"Gurgaon\",\"Gurgaon\",\"Mumbai\",\"Bangalore\",\"Mumbai\",\"Chennai\",\"New Delhi\",\"Bangalore\",\"Mumbai\",\"Pune\",\"Jaipur\",\"Bangalore\",\"New Delhi\",\"Mumbai\",\"Jaipur\",\"Bangalore\",\"Bangalore\",\"Kolkata\",\"New Delhi\",\"Hyderabad\",\"Chennai\",\"Gurgaon\",\"Vadodara\",\"Chennai\",\"Bangalore\",\"Bangalore\",\"Jaipur\",\"Ahmedabad\",\"Hyderabad\",\"Bangalore\",\"Mumbai\",\"Mumbai\",\"Gurgaon\",\"Mumbai\",\"Pune\",\"Bangalore\",\"Noida\",\"New Delhi\",\"Bangalore\",\"Gurgaon\",\"Chennai\",\"Mumbai\",\"Gurgaon\",\"Bangalore\",\"Mumbai\",\"New Delhi\",\"New Delhi\",\"Bangalore\",\"Bangalore\",\"New Delhi\",\"Hyderabad\",\"Kolkata\",\"Mumbai\",\"Surat\",\"New Delhi\",\"Gurgaon\",\"Gurgaon\",\"Bangalore\",\"Mumbai\",\"Mumbai\",\"New Delhi\",\"Bangalore\",\"Gurgaon\",\"Pune\",\"Bangalore\",\"Bangalore\",\"New Delhi\",\"New Delhi\",\"Mumbai\",\"New Delhi\",\"Gurgaon\",\"Bangalore\",\"Mumbai\",\"Bangalore\",\"Bangalore\",\"Bangalore\",\"Bangalore\",\"Mumbai\",\"Bangalore\",\"Gurgaon\",\"Mumbai\",\"Mumbai\",\"Bangalore\",\"New Delhi\",\"Bangalore\",\"Pune\",\"Pune\",\"Hyderabad\",\"Bangalore\",\"Kolkata\",\"Mumbai\",\"Noida\",\"Bangalore\",\"Gurgaon\",\"Mumbai\",\"Noida\",\"Gurgaon\",\"Bangalore\",\"Mumbai\",\"Bangalore\",\"Bangalore\",\"Mumbai\",\"Bangalore\",\"Bangalore\",\"Chennai\",\"Gurgaon\",\"New Delhi\",\"Bangalore\",\"Chennai\",\"Mumbai\",\"New Delhi\",\"New Delhi\",\"Bangalore\",\"Missourie\",\"Mumbai\",\"Bangalore\",\"Hyderabad\",\"Bangalore\",\"Bangalore\",\"Bangalore\",\"Pune\",\"Mumbai\",\"Gurgaon\",\"Bangalore\",\"Gurgaon\",\"Bangalore\",\"New Delhi\",\"Mumbai\",\"Noida\",\"Bangalore\",\"Gurgaon\",\"Bangalore\",\"New Delhi\",\"Bangalore\",\"Pune\",\"Panaji\",\"Mumbai\",\"Gurgaon\",\"Chennai\",\"Bangalore\",\"Bangalore\",\"Mumbai\",\"Mumbai\",\"Chennai\",\"Mumbai\",\"Mumbai\",\"Gurgaon\",\"Bangalore\",\"Bangalore\",\"Bangalore\",\"Gurgaon\",\"Bangalore\",\"Gurgaon\",\"Mumbai\",\"Bangalore\",\"Bangalore\",\"Bangalore\",\"Bangalore\",\"Bangalore\",\"Bangalore\",\"New Delhi\",\"Mumbai\",\"Bangalore\",\"Bangalore\",\"Bangalore\",\"New Delhi\",\"Gwalior\",\"Bangalore\",\"New Delhi\",\"Gurgaon\",\"New Delhi\",\"Bangalore\",\"Bangalore\",\"Mumbai\",\"Karur\",\"Noida\",\"Pune\",\"Gurgaon\",\"Mumbai\",\"New Delhi\",\"New Delhi\",\"Pune\",\"New Delhi\",\"New Delhi\",\"Bangalore\",\"Mumbai\",\"Bangalore\",\"Hyderabad\",\"Bangalore\",\"Noida\",\"Mumbai\",\"Pune\",\"New Delhi\",\"Bangalore\",\"Ahmedabad\",\"Udupi\",\"Ahmedabad\",\"Chennai\",\"Kochi\",\"Mumbai\",\"New Delhi\",\"Mumbai\",\"Bangalore\",\"Mumbai\",\"New Delhi\",\"New Delhi\",\"Noida\",\"New Delhi\",\"New Delhi\",\"New Delhi\",\"Bangalore\",\"Mumbai\",\"Indore\",\"Bangalore\",\"Mumbai\",\"New Delhi\",\"Gurgaon\",\"Singapore\",\"New Delhi\",\"Mumbai\",\"Bangalore\",\"New Delhi\",\"Bangalore\",\"Bangalore\",\"Mumbai\",\"Gurgaon\",\"New Delhi\",\"Mumbai\",\"Bangalore\",\"Jaipur\",\"Bangalore\",\"New Delhi\",\"Gurgaon\",\"Bangalore\",\"New Delhi\",\"Gurgaon\",\"Mumbai\",\"Gurgaon\",\"New Delhi\",\"Gurgaon\",\"New Delhi\",\"Bangalore\",\"Bangalore\",\"Indore\",\"Pune\",\"Mumbai\",\"Mumbai\",\"Mumbai\",\"Hyderabad\",\"New Delhi\",\"Bangalore\",\"Bangalore\",\"Mumbai\",\"Kolkata\",\"Bangalore\",\"Bangalore\",\"Mumbai\",\"Bangalore\",\"New Delhi\",\"Chennai\",\"Pune\",\"New Delhi\",\"Bangalore\",\"Bangalore\",\"Indore\",\"New Delhi\",\"Noida\",\"New Delhi\",\"Chennai\",\"Bangalore\",\"Mumbai\",\"Gurgaon\",\"Bangalore\",\"Mumbai\",\"Bangalore\",\"New Delhi\",\"Bangalore\",\"New Delhi\",\"New Delhi\",\"Chennai\",\"Bangalore\",\"New Delhi\",\"New Delhi\",\"Chennai\",\"Bangalore\",\"Noida\",\"Goa\",\"Bangalore\",\"New Delhi\",\"Bangalore\",\"Noida\",\"New Delhi\",\"Mumbai\",\"Gurgaon\",\"Mumbai\",\"New Delhi\",\"Gurgaon\",\"New Delhi\",\"Bangalore\",\"Bangalore\",\"Gurgaon\",\"Singapore\",\"Pune\",\"Bangalore\",\"Bangalore\",\"Bangalore\",\"Bangalore\",\"Bangalore\",\"New Delhi\",\"New Delhi\",\"Gurgaon\",\"Mumbai\",\"New Delhi\",\"Mumbai\",\"Mumbai\",\"Gurgaon\",\"Gurgaon\",\"Mumbai\",\"Bangalore\",\"Mumbai\",\"Bangalore\",\"Bangalore\",\"Mumbai\",\"Bangalore\",\"Mumbai\",\"Bangalore\",\"Indore\",\"Bangalore\",\"Mumbai\",\"Gurgaon\",\"Mumbai\",\"Ahmedabad\",\"Mumbai\",\"Kolkata\",\"Bangalore\",\"Bangalore\",\"Jaipur\",\"Noida\",\"New Delhi\",\"Goa\",\"Bangalore\",\"Bangalore\",\"Bangalore\",\"Bangalore\",\"Noida\",\"Pune\",\"Vadodara\",\"Bangalore\",\"Bangalore\",\"Mumbai\",\"Bangalore\",\"Bangalore\",\"Bangalore\",\"Chennai\",\"Gurgaon\",\"Bangalore\",\"Mumbai\",\"Mumbai\",\"Noida\",\"Noida\",\"Hyderabad\",\"Pune\",\"Mumbai\",\"Gurgaon\",\"Mumbai\",\"Pune\",\"Mumbai\",\"Bangalore\",\"Mumbai\",\"Bangalore\",\"Noida\",\"Noida\",\"Bangalore\",\"Bangalore\",\"Mumbai\",\"Mumbai\",\"Kolkata\",\"New Delhi\",\"Bangalore\",\"Gurgaon\",\"New Delhi\",\"Noida\",\"Agra\",\"Bangalore\",\"Ahmedabad\",\"New Delhi\",\"Bangalore\",\"Hyderabad\",\"Gurgaon\",\"Mumbai\",\"Bangalore\",\"Bangalore\",\"Hyderabad\",\"Mumbai\",\"Bangalore\",\"New Delhi\",\"Gurgaon\",\"Mumbai\",\"New Delhi\",\"Mumbai\",\"Pune\",\"Noida\",\"Bangalore\",\"Bangalore\",\"Bangalore\",\"Mumbai\",\"Bangalore\",\"Mumbai\",\"Noida\",\"Mumbai\",\"Bangalore\",\"Gurgaon\",\"Mumbai\",\"Bangalore\",\"Mumbai\",\"New Delhi\",\"Gurgaon\",\"Gurgaon\",\"New Delhi\",\"Bangalore\",\"Ahmedabad\",\"Bangalore\",\"Chennai\",\"Bangalore\",\"Bangalore\",\"New Delhi\",\"Chennai\",\"Bangalore\",\"Bangalore\",\"Mumbai\",\"Chennai\",\"Kolkata\",\"Hyderabad\",\"New Delhi\",\"Kochi\",\"Mumbai\",\"New Delhi\",\"Chennai\",\"Mumbai\",\"New Delhi\",\"Mumbai\",\"Bangalore/ Bangkok\",\"New Delhi\",\"Bangalore\",\"Gurgaon\",\"Bangalore\",\"Bangalore\",\"Bangalore\",\"Bangalore\",\"Hubli\",\"New Delhi\",\"Noida\",\"New Delhi\",\"Mumbai\",\"Pune\",\"Mumbai\",\"Noida\",\"Bangalore\",\"Delhi\",\"Agra\",\"Gurgaon\",\"Kolkata\",\"Bangalore\",\"Bangalore\",\"Gurgaon\",\"Bangalore\",\"Bangalore\",\"Hyderabad\",\"Gurgaon\",\"Bangalore\",\"New Delhi\",\"Bangalore\",\"Bangalore\",\"Hyderabad\",\"New Delhi\",\"Bangalore\",\"Vadodara\",\"Mumbai\",\"Ahmedabad\",\"New Delhi\",\"New Delhi\",\"Bangalore\",\"Bangalore\",\"Bangalore\",\"Pune\",\"Chennai\",\"Bangalore\",\"Mumbai\",\"Noida\",\"New Delhi\",\"Chennai\",\"Bangalore\",\"Mumbai\",\"Ahmedabad\",\"Indore\",\"Hyderabad\",\"Pune\",\"New Delhi\",\"Noida\",\"Bangalore\",\"Pune\",\"Mumbai\",\"Jaipur\",\"Gurgaon\",\"Bangalore\",\"Pune\",\"Bangalore\",\"Pune\",\"Noida\",\"Bangalore\",\"Mumbai\",\"Chennai\",\"Gurgaon\",\"Mumbai\",\"Bangalore\",\"New Delhi\",\"Bangalore\",\"Kerala\",\"New Delhi\",\"Mumbai\",\"Gurgaon\",\"Mumbai\",\"Bangalore\",\"New Delhi\",\"Bangalore\",\"New Delhi\",\"Bangalore\",\"Mumbai\",\"Mumbai\",\"Hyderabad\",\"Gurgaon\",\"Gurgaon\",\"Noida\",\"Gurgaon\",\"New Delhi\",\"Bangalore\",\"Gurgaon\",\"New Delhi\",\"New Delhi\",\"Mumbai\",\"Ahmedabad\",\"Pune\",\"Mumbai\",\"Indore\",\"Bangalore\",\"Bangalore\",\"Bangalore\",\"Bangalore\",\"Kozhikode\",\"Mumbai\",\"Bangalore\",\"Chennai\",\"Bangalore\",\"Mumbai\",\"Mumbai\",\"New Delhi\",\"New Delhi\",\"Mumbai\",\"New Delhi\",\"New Delhi\",\"Bangalore\",\"Chandigarh\",\"Bangalore\",\"Gurgaon\",\"Mumbai\",\"Noida\",\"Mumbai\",\"Bangalore\",\"Indore\",\"Bangalore\",\"Bangalore\",\"Mumbai\",\"Bangalore\",\"Gurgaon\",\"Gurgaon\",\"Mumbai\",\"Gurgaon\",\"Mumbai\",\"Bangalore\",\"Noida\",\"Chennai\",\"Bangalore\",\"Gurgaon\",\"New Delhi\",\"Bangalore\",\"Bangalore\",\"Bangalore\",\"Mumbai\",\"Mumbai\",\"Mumbai\",\"Bangalore\",\"Hyderabad\",\"Mumbai\",\"New Delhi\",\"Bangalore\",\"Mumbai\",\"Bangalore\",\"Mumbai\",\"Mumbai\",\"US\",\"Mumbai\",\"Gurgaon\",\"Mumbai\",\"Mumbai\",\"New Delhi\",\"Ahmedabad\",\"Chennai\",\"Mumbai\",\"New Delhi\",\"Gurgaon\",\"Mumbai\",\"Bangalore\",\"Mumbai\",\"Mumbai\",\"Gurgaon\",\"Gurgaon\",\"Gurgaon\",\"New Delhi\",\"Bangalore\",\"Chandigarh\",\"New Delhi\",\"New Delhi\",\"Chennai\",\"Gurgaon\",\"Bangalore\",\"Bangalore\",\"Bangalore\",\"Gurgaon\",\"Mumbai\",\"Coimbatore\",\"Pune\",\"New Delhi\",\"Pune\",\"Bangalore\",\"New Delhi\",\"New Delhi\",\"New Delhi\",\"Mumbai\",\"Pune\",\"New Delhi\",\"Mumbai\",\"Mumbai\",\"Pune\",\"New Delhi\",\"Noida\",\"Bangalore\",\"Gurgaon\",\"Jaipur\",\"Mumbai\",\"Pune\",\"New Delhi\",\"Bangalore\",\"Bangalore\",\"Mumbai\",\"Indore\",\"Bangalore\",\"New Delhi\",\"New Delhi\",\"Mumbai\",\"Mumbai\",\"Mumbai\",\"Bangalore\",\"Chennai\",\"New Delhi\",\"Hyderabad\",\"Bangalore\",\"Bangalore\",\"Bangalore\",\"Pune\",\"Mumbai\",\"Hyderabad\",\"Mumbai\",\"Mumbai\",\"Gurgaon\",\"Bangalore\",\"Bangalore\",\"Jaipur\",\"Gurgaon\",\"Siliguri\",\"Pune\",\"Mumbai\",\"Mumbai\",\"New Delhi\",\"Gurgaon\",\"Mumbai\",\"Bangalore\",\"New Delhi\",\"New Delhi\",\"Chennai\",\"Jaipur\",\"Mumbai\",null,\"New Delhi\",\"New Delhi\",\"New Delhi\",\"Bangalore\",\"Pune\",\"Bangalore\",\"Vadodara\",\"Bangalore\",\"New Delhi\",\"Gurgaon\",\"Bangalore\",\"USA\",\"Bangalore\",\"Mumbai\",\"New Delhi\",\"Bangalore\",\"Bangalore\",\"Bangalore\",\"Bangalore\",\"New Delhi\",\"New Delhi\",\"Ahmedabad\",\"Mumbai\",\"Bangalore\",\"Mumbai\",\"Noida\",\"Bangalore\",\"Mumbai\",\"Bangalore\",\"Chennai\",\"Mumbai\",\"Pune\",\"New Delhi\",\"Bangalore\",\"Gurgaon\",\"New Delhi\",\"Mumbai\",\"Bangalore\",\"Bangalore\",\"Mumbai\",\"Mumbai\",\"New Delhi\",\"Bangalore\",\"Bangalore\",\"New Delhi\",\"Bangalore\",\"Gurgaon\",\"Ahmedabad\",\"Ahmedabad\",\"New Delhi\",\"Hyderabad\",\"Bangalore\",\"New Delhi\",\"Kolkata\",\"Mumbai\",\"Mumbai\",\"Mumbai\",\"Bangalore\",\"Bangalore\",\"Gurgaon\",\"Mumbai\",\"New Delhi\",\"Pune\",\"Chennai\",\"Gurgaon\",\"New Delhi\",\"Bangalore\",\"Vadodara\",\"Mumbai\",\"Mumbai\",\"Mumbai\",\"New Delhi\",\"Mumbai\",\"Chennai\",\"Pune\",\"Hyderabad\",\"Singapore\",\"New Delhi\",\"Bangalore\",\"New Delhi\",\"Bangalore\",\"Lucknow\",\"Bangalore\",\"Hyderabad\",\"Bangalore\",\"Bangalore\",\"New Delhi\",\"Bangalore\",\"Chennai\",\"Chennai\",\"Mumbai\",\"Bangalore\",\"Bangalore\",\"Gurgaon\",\"Mumbai\",\"Bangalore\",\"Bangalore\",\"Hyderabad\",\"Jaipur\",\"Kanpur\",\"Bangalore\",\"Gurgaon\",\"Chennai\",\"Mumbai\",\"Delhi\",\"Mumbai\",\"Mumbai\",\"Gurgaon\",\"Mumbai\",\"Bangalore\",\"Trivandrum\",\"Pune\",\"Mumbai\",\"Bangalore\",\"Bangalore\",\"Mumbai\",\"Bangalore\",\"New Delhi\",\"New Delhi\",\"Noida\",\"Gurgaon\",\"New Delhi\",\"Gurgaon\",\"Bangalore\",\"New Delhi\",\"Bangalore\",\"Pune\",\"New Delhi\",\"Bangalore\",\"New Delhi\",\"New Delhi\",\"Bangalore\",\"Mumbai\",\"New Delhi\",\"New Delhi\",\"Mumbai\",\"Gurgaon\",\"Gurgaon\",\"Mumbai\",\"SFO / Bangalore\",\"Delhi\",\"Gurgaon\",\"Mumbai\",\"Pune\",\"Mumbai\",\"Bangalore\",\"Bangalore\",\"Mumbai\",\"Mumbai\",\"Gurgaon\",\"Bangalore\",\"Mumbai\",\"Bangalore\",\"London\",\"New Delhi\",\"Chennai\",\"New Delhi\",\"Mumbai\",\"New Delhi\",\"New Delhi\",\"Gurgaon\",\"Bangalore\",\"Mumbai\",\"Mumbai\",null,\"New Delhi\",\"Pune\",\"Mumbai\",\"Bangalore\",\"New Delhi\",\"Mumbai\",\"Noida\",\"New Delhi\",\"Jaipur\",\"New Delhi\",\"Jaipur\",\"Noida\",\"Bangalore\",\"Bangalore\",\"Bangalore\",\"Bangalore\",\"Gurgaon\",\"Jaipur\",\"Chandigarh\",\"Pune\",\"Noida\",\"Chennai\",\"New Delhi\",\"New Delhi\",\"Bangalore\",\"Bangalore\",\"Bangalore\",\"Gurgaon\",\"New Delhi\",\"New Delhi\",\"Mumbai\",\"Jaipur\",\"New Delhi\",\"Bangalore\",\"Bangalore\",\"Bangalore\",\"Pune\",\"New Delhi\",\"Hyderabad\",\"Pune\",\"Bangalore\",\"Mumbai\",\"Bangalore\",\"Gurgaon\",\"Gurgaon\",null,\"Noida\",\"New Delhi\",\"Mumbai\",\"Mumbai\",\"Bangalore\",\"Mumbai\",\"New Delhi\",\"Bangalore\",\"Bangalore\",\"Mumbai\",\"Bangalore\",\"Noida\",\"Seattle / Bangalore\",\"Bangalore\",\"Mumbai\",\"Mumbai\",\"New Delhi\",\"Bangalore\",\"Chennai\",\"Pune\",\"Kolkata\",\"New Delhi\",\"Gurgaon\",\"Mumbai\",\"Gurgaon\",\"Noida\",\"Bangalore\",\"Bangalore\",\"New Delhi\",\"Bangalore\",\"Bangalore\",\"New Delhi\",\"Bangalore\",\"Mumbai\",\"Bangalore\",\"New Delhi\",\"Bangalore\",\"Noida\",\"Noida\",\"Bangalore\",\"Hyderabad\",\"Pune\",\"Mumbai\",\"Gurgaon\",\"New Delhi\",\"Mumbai\",\"Pune/Seattle\",\"New Delhi\",\"Ahmedabad\",\"Bangalore\",\"New Delhi\",\"Ahmedabad\",\"Bangalore\",\"Pune\",\"Gurgaon\",\"Bangalore\",\"Bangalore\",\"Mumbai\",\"Bangalore\",\"Noida\",\"Gurgaon\",\"Mumbai\",\"Mumbai\",\"Hyderabad\",\"New Delhi\",\"Gurgaon\",\"Jaipur\",\"Gurgaon\",\"Bangalore\",\"Bangalore\",\"Bangalore\",\"Bangalore\",\"Jaipur\",\"Hyderabad\",\"Ahmedabad\",\"Hyderabad\",\"Chennai\",\"New Delhi\",\"Hyderabad\",null,\"Bangalore\",\"Gurgaon\",\"Noida\",\"Bangalore\",\"New Delhi\",\"Chennai\",\"New Delhi\",\"Chennai\",\"Gurgaon\",\"Bangalore\",\"Mumbai\",\"Hyderabad\",\"New Delhi\",\"Pune\",\"Bangalore\",\"Bangalore\",null,\"Gurgaon\",\"Mumbai\",\"Pune / Dubai\",\"New Delhi\",\"Noida\",\"Bangalore\",\"New Delhi\",\"Bangalore\",\"Bangalore / SFO\",\"New Delhi\",\"Mumbai\",\"Bangalore\",\"Vadodara\",\"Pune\",\"Varanasi\",\"New Delhi\",\"New Delhi\",\"New Delhi\",\"Gurgaon\",\"New Delhi\",\"Mumbai\",\"Jaipur\",\"Mumbai\",\"Pune\",\"New Delhi\",\"Bangalore\",\"New Delhi\",\"Mumbai\",\"Mumbai\",\"Noida\",\"Bangalore\",\"Pune\",\"Bangalore\",\"Indore\",\"Gurgaon\",\"Gurgaon\",\"Bangalore\",\"New Delhi\",\"Mumbai\",\"Mumbai\",\"Mumbai\",\"New Delhi\",\"Chandigarh\",\"Bangalore\",\"Gurgaon\",\"Bangalore\",\"Bangalore\",\"New Delhi\",\"Bangalore\",\"Bangalore\",\"Ahmedabad\",\"Pune\",\"Pune\",\"Bangalore\",\"Mumbai\",\"New Delhi\",\"Bangalore\",\"Mumbai\",\"New Delhi\",\"Hyderabad\",\"New Delhi\",\"Ahmedabad\",\"Gurgaon\",\"Bangalore\",\"New Delhi\",\"Bangalore\",\"New Delhi\",\"Bangalore\",\"New Delhi\",\"Gurgaon\",\"Bangalore\",\"Bangalore\",\"New Delhi\",\"New Delhi\",\"Bangalore\",\"Mumbai\",\"New Delhi\",\"New Delhi\",\"Gurgaon\",\"Kanpur\",\"Bangalore\",\"Bangalore\",\"Bangalore\",\"Hyderabad\",\"Noida\",\"Bangalore\",\"Gurgaon\",\"Bangalore\",\"Bangalore\",\"New Delhi\",\"New Delhi\",\"Mumbai\",\"Bangalore\",\"Mumbai\",\"Bangalore\",\"New Delhi\",\"Mumbai\",\"Gurgaon\",\"New Delhi\",\"New Delhi\",\"Ahmedabad\",\"Bhopal\",\"Noida\",\"Bangalore\",\"Mumbai\",\"Bangalore\",\"Gurgaon\",\"Bangalore\",\"Ahmedabad\",\"Pune\",\"Gurgaon\",\"New Delhi\",\"Bangalore\",\"Gurgaon\",\"Bangalore\",\"Jaipur\",\"Gurgaon\",\"Bangalore\",\"Bangalore\",\"Mumbai\",\"Gurgaon\",\"Bangalore\",\"Gurgaon\",\"New Delhi\",\"Bangalore\",\"Bangalore\",\"Mumbai\",\"Gurgaon\",\"New Delhi\",\"Bangalore\",\"Mumbai\",\"Mumbai\",\"Bangalore\",\"New Delhi\",\"Hyderabad\",\"Mumbai\",\"Mumbai\",\"Bangalore\",\"Bangalore\",\"Gurgaon\",\"Gurgaon\",\"Bangalore\",\"Gurgaon\",\"Bangalore\",\"Mumbai\",\"Noida\",\"Mumbai\",\"Mumbai\",\"New Delhi\",\"Bangalore\",\"Bangalore\",\"Gurgaon\",\"New Delhi\",\"New Delhi\",\"Mumbai\",\"New Delhi\",\"Chennai\",\"New Delhi\",\"New Delhi\",\"Mumbai\",\"New Delhi / US\",\"Mumbai / UK\",\"Mumbai\",\"Pune\",\"Bangalore\",\"Noida\",\"Mumbai\",\"Bangalore\",\"Kanpur\",\"Bangalore\",\"Bangalore\",\"Gurgaon\",\"Ahmedabad\",\"Bangalore\",\"Mumbai\",\"Bangalore\",\"Gurgaon\",\"Mumbai\",\"Gurgaon\",\"New Delhi\",\"Siliguri\",\"Gurgaon\",\"Bangalore\",\"Bangalore\",\"Hyderabad\",\"Mumbai\",\"Bangalore\",\"Bangalore\",\"New Delhi\",\"Jodhpur\",\"Noida\",\"Bangalore\",\"Bangalore\",\"Mumbai\",\"New Delhi\",\"Hyderabad\",\"Hyderabad\",\"Mumbai\",\"New Delhi\",\"Jaipur\",\"Mumbai\",\"Gurgaon\",\"Mumbai\",\"New Delhi\",\"Hyderabad\",\"New Delhi\",\"Bangalore\",\"New Delhi\",\"Bangalore\",\"New Delhi\",\"Gurgaon\",\"New Delhi\",\"Mumbai\",\"Kolkata\",\"Gurgaon\",\"New Delhi\",\"New Delhi\",\"Gurgaon\",\"Hyderabad\",\"Pune\",\"Mumbai\",\"New Delhi\",\"Mumbai\",\"New Delhi\",\"New Delhi\",\"Gurgaon\",\"Bangalore\",\"Gurgaon\",\"Mumbai\",\"New Delhi\",\"Chandigarh\",\"Bangalore\",\"Bangalore\",\"New Delhi\",\"New Delhi\",\"New Delhi\",\"Bangalore\",\"Hyderabad\",\"Mumbai\",\"Hyderabad/USA\",\"Noida\",\"Mumbai\",\"Gurgaon\",\"Bangalore\",\"Goa\",\"Mumbai\",\"Bangalore\",\"Bangalore\",\"Bangalore\",\"New Delhi\",\"Boston\",\"Mumbai\",\"Singapore\",\"Bangalore / Palo Alto\",\"Bangalore\",\"Bangalore\",\"Mumbai\",\"New Delhi\",\"Gurgaon\",\"Bangalore\",\"Bangalore\",\"Coimbatore\",\"New Delhi\",\"Bangalore\",\"Mumbai / NY\",\"New Delhi\",\"Gurgaon\",\"Mumbai\",\"Bangalore\",\"New Delhi\",\"Gurgaon\",\"Hyderabad\",\"Gurgaon\",\"Mumbai\",\"Gurgaon\",\"Goa\",\"Mumbai\",\"Bangalore\",\"Bangalore\",\"Gurgaon\",\"Mumbai\",\"Gurgaon\",\"Bangalore\",\"Bangalore\",\"Bangalore\",\"Bangalore\",\"Gurgaon\",\"Bangalore\",\"Gurgaon\",\"Mumbai\",\"Noida\",\"Mumbai\",\"Mumbai\",\"Vadodara\",\"Mumbai\",\"Mumbai\",\"New Delhi\",\"USA/India\",\"Mumbai\",\"New Delhi\",\"Gwalior\",\"Mumbai\",\"Goa\",\"New Delhi\",\"Gurgaon\",\"Gurgaon\",\"New Delhi\",\"Pune\",\"Pune\",\"Noida\",\"Gurgaon\",\"Hyderabad\",\"Bangalore\",\"Mumbai\",\"Bangalore/ Bangkok\",\"Mumbai\",\"Mumbai\",\"Mumbai\",\"Vadodara\",\"Bangalore\",\"Goa/Hyderabad\",\"Gurgaon\",\"Mumbai\",\"Hyderabad\",\"Bangalore\",\"Gurgaon\",\"Bangalore\",\"Hyderabad\",\"New Delhi\",\"Mumbai\",\"Bangalore\",\"Bangalore\",\"Gurgaon\",\"Bangalore\",\"Noida / Singapore\",\"Bangalore\",\"Bangalore\",\"New Delhi\",\"Bangalore\",\"New Delhi\",\"New Delhi\",\"Noida\",\"Gurgaon\",\"Belgaum\",\"Bangalore\",\"New Delhi\",\"Pune / US\",\"Mumbai\",\"Bangalore\",\"Mumbai\",\"Bangalore\",\"New Delhi\",\"Bangalore\",\"Bangalore\",\"Bangalore\",\"Bangalore\",\"Gurgaon\",\"New Delhi\",\"Mumbai\",\"Chennai/ Singapore\",\"Mumbai\",\"New Delhi\",\"New Delhi\",\"Chennai\",\"Mumbai\",\"Gurgaon\",\"Gurgaon\",\"Bangalore\",\"Bangalore\",\"Mumbai\",\"Noida\",\"Chennai\",\"New Delhi\",\"Gurgaon\",\"Gurgaon\",\"Mumbai\",\"New Delhi\",\"Bangalore\",\"New Delhi\",\"Bangalore\",\"Gurgaon\",\"New Delhi\",\"Gurgaon\",\"Singapore\",\"Hyderabad\",\"New Delhi\",\"Bangalore\",\"Mumbai\",\"Mumbai\",\"Jaipur\",\"New Delhi\",\"New Delhi\",\"Pune\",\"Mumbai\",\"Bangalore\",\"Pune\",\"Gurgaon\",\"Mumbai\",\"Mumbai\",\"Mumbai\",\"Gurgaon\",\"Pune\",\"New Delhi\",\"Mumbai\",\"New Delhi\",\"Pune / Singapore\",\"Bangalore\",\"Mumbai\",\"Hyderabad\",\"New Delhi\",\"Bangalore / San Mateo\",\"Mumbai\",\"Bangalore\",\"New Delhi\",\"New Delhi\",\"Hyderabad\",\"Gurgaon\",\"Mumbai\",\"Ahmedabad\",\"New Delhi\",\"Bangalore\",\"New Delhi\",\"Bangalore\",\"Noida\",\"Mumbai\",\"Gurgaon\",\"Mumbai\",\"Bangalore\",\"Gurgaon\",\"New Delhi\",\"New Delhi\",\"Mumbai\",\"Bangalore\",\"Mumbai\",\"New Delhi\",\"Bangalore\",\"Bangalore\",\"Chennai\",\"Mumbai\",\"Bangalore\",\"New York/ India\",\"Mumbai\",\"Gurgaon\",\"Bangalore\",\"Bangalore\",\"Mumbai\",\"Gurgaon\",\"Gurgaon\",\"New Delhi\",\"Bangalore\",\"Ahmedabad\",\"New Delhi\",\"Chennai\",\"Jaipur\",\"Pune\",\"Mumbai\",\"Mumbai\",\"Bangalore\",\"Gurgaon\",\"Mumbai\",\"New Delhi\",\"Bangalore\",\"Mumbai\",\"Noida\",\"Mumbai\",\"Bangalore\",\"Bangalore\",\"Mumbai\",\"Mumbai\",\"Mumbai\",\"Gurgaon\",\"Mumbai\",\"Chandigarh\",\"Mumbai\",\"Chandigarh\",\"Mumbai\",\"Gurgaon\",\"Mumbai\",\"Bangalore\",\"New Delhi\",\"Bangalore\",\"Mumbai\",\"Bangalore\",\"Mumbai\",\"Mumbai\",\"Mumbai\",\"Bangalore\",\"New Delhi\",\"New Delhi\",\"Gurgaon\",\"Bhopal\",\"Bangalore\",\"Chennai\",\"Bangalore\",\"Gurgaon\",\"New Delhi\",\"Bangalore\",\"New Delhi\",\"Mumbai\",\"Bangalore\",\"New Delhi\",\"Mumbai\",\"Hyderabad\",\"Hyderabad\",\"Gurgaon\",\"US/India\",\"Bangalore\",\"Mumbai\",\"Bangalore\",\"Bangalore\",\"Mumbai\",\"Noida\",\"Bangalore\",\"Bangalore\",\"Gurgaon\",\"Mumbai\",\"Bangalore\",\"Mumbai\",\"Gurgaon\",\"Gurgaon\",\"New Delhi\",\"Bangalore\",\"New Delhi\",\"Gurgaon\",\"Bangalore\",\"Bangalore\",\"Bangalore\",\"Mumbai\",\"Mumbai\",\"Mumbai\",\"Bangalore\",\"Mumbai\",\"New Delhi\",\"New Delhi\",\"Bangalore\",\"Bangalore\",\"Mumbai\",\"New Delhi\",\"Gurgaon\",\"Bangalore\",\"Gurgaon / SFO\",\"New Delhi\",\"New Delhi\",\"Bangalore\",\"Noida\",\"Hyderabad\",\"Bangalore\",\"New Delhi\",\"New Delhi\",\"Bangalore\",\"New Delhi\",\"Bangalore\",\"Gurgaon\",\"Pune\",\"Chennai\",\"New Delhi\",\"Bangalore\",\"Bangalore / USA\",\"Noida\",\"Gurgaon\",\"Bangalore\",\"New Delhi\",\"Pune\",\"New Delhi\",\"New Delhi\",\"Mumbai\",\"Mumbai\",\"New Delhi\",\"Bangalore\",\"Mumbai\",\"New Delhi\",\"Pune\",\"Bangalore\",\"New Delhi\",\"Mumbai\",\"Noida\",\"New Delhi\",\"Mumbai\",\"Bangalore\",\"Mumbai\",\"Bangalore\",\"New Delhi\",\"New Delhi\",\"Mumbai\",\"Bangalore\",\"Mumbai\",\"Gurgaon\",\"Mumbai\",\"Mumbai\",\"Noida\",\"New Delhi\",\"Gurgaon\",\"New Delhi\",\"New Delhi/ Houston\",\"New Delhi\",\"New Delhi\",\"Chennai\",\"Bangalore\",\"Gurgaon\",\"Bangalore\",\"Kolkata\",\"Pune\",\"Mumbai\",\"New Delhi / US\",\"Mumbai\",\"Bangalore\",\"Noida\",\"Bangalore\",\"Noida\",\"Chennai\",\"Mumbai\",\"Pune\",\"Mumbai\",\"Ahmedabad\",\"New Delhi\",\"New Delhi\",\"Mumbai\",\"Mumbai\",\"Bangalore\",\"Mumbai\",\"New Delhi\",\"Gurgaon\",\"New Delhi\",\"Gurgaon\",\"Mumbai\",\"Chennai\",\"Gurgaon\",\"Mumbai\",\"Bangalore\",\"Kolkata\",\"Mumbai\",\"Mumbai\",\"Bangalore\",\"New Delhi\",\"Hyderabad\",\"New Delhi\",\"Bangalore\",\"Ahmedabad\",\"Mumbai\",\"Kolkata\",\"Mumbai\",\"Bangalore\",\"Gurgaon\",\"Mumbai\",\"Pune\",\"New Delhi\",\"Mumbai\",\"Ahmedabad\",\"Gurgaon\",\"Bangalore\",\"Kolkata\",\"New Delhi\",\"New Delhi\",\"Bangalore\",\"Pune\",\"Gurgaon\",\"Bangalore\",\"Bangalore\",\"Mumbai\",\"Bangalore\",\"Mumbai\",\"Chennai\",\"Mumbai\",\"New Delhi\",\"Bangalore\",\"Bangalore\",\"Chennai\",\"Bangalore\",\"Gurgaon\",\"Jaipur\",\"Mumbai\",\"Ahmedabad\",\"Bangalore\",\"Mumbai\",\"Bangalore\",\"Bangalore\",\"Gurgaon\",\"Nagpur\",\"Gurgaon\",\"New Delhi\",\"Bangalore\",\"New Delhi\",\"Pune\",\"Mumbai\",\"Mumbai / Global\",\"India / US\",\"Kanpur\",\"Coimbatore\",\"Mumbai\",\"Bangalore\",\"Ahmedabad\",\"New Delhi\",\"Bangalore\",\"\\\\\\\\xc2\\\\\\\\xa0Noida\",\"\\\\\\\\xc2\\\\\\\\xa0Bangalore\",\"\\\\\\\\xc2\\\\\\\\xa0Gurgaon\",\"\\\\\\\\xc2\\\\\\\\xa0New Delhi\",\"\\\\\\\\xc2\\\\\\\\xa0New Delhi\",\"\\\\\\\\xc2\\\\\\\\xa0Gurgaon\",\"\\\\\\\\xc2\\\\\\\\xa0Mumbai\",\"\\\\\\\\xc2\\\\\\\\xa0Gurgaon\",\"\\\\\\\\xc2\\\\\\\\xa0New Delhi\",\"\\\\\\\\xc2\\\\\\\\xa0Gurgaon\",\"Hyderabad\",\"Bangalore\",\"Mumbai\",\"Bangalore\",\"Bangalore\",\"Mumbai\",\"Gurgaon\",\"Pune\",\"New Delhi\",\"Bangalore\",\"Mumbai\",\"Mumbai\",\"Mumbai\",\"New Delhi\",\"Bangalore\",\"Bangalore\",\"New Delhi\",\"Bangalore\",\"Mumbai\",\"Bangalore\",null,\"Ahmedabad\",\"Mumbai\",\"Bangalore\",\"Bangalore\",\"Mumbai\",\"Mumbai\",\"New Delhi\",\"Gurgaon\",\"New Delhi\",\"Mumbai\",\"Hyderabad\",\"Bangalore\",\"Bangalore\",\"Bangalore\",\"Mumbai\",\"Bangalore\",\"Bangalore\",\"Mumbai\",\"Mumbai\",\"New Delhi\",\"Bangalore\",\"Gurgaon\",\"Mumbai\",\"Mumbai\",\"New Delhi\",\"Bangalore\",\"Mumbai\",\"Chennai\",\"Bangalore\",\"Gurgaon\",\"Bangalore\",\"Pune\",\"Gurgaon\",\"New Delhi\",\"New Delhi\",\"Mumbai\",\"New Delhi\",\"New Delhi\",\"Mumbai\",\"Mumbai\",\"Chennai\",\"Hyderabad\",\"Pune / US\",\"Pune\",\"Udaipur\",\"Mumbai\",\"Mumbai\",\"New Delhi\",\"Pune / US\",\"New Delhi\",\"New Delhi\",\"Pune\",\"Gurgaon\",\"New Delhi\",\"Noida\",\"Mumbai\",\"Bangalore\",\"Mumbai\",\"Bangalore\",\"Chandigarh\",\"New Delhi\",\"Mumbai\",\"New Delhi\",\"Bangalore\",\"Gurgaon\",\"New Delhi\",\"Bangalore\",\"Mumbai\",\"Bangalore\",\"Mumbai\",\"Gurgaon\",\"Ahmedabad\",\"Bangalore\",\"Bangalore\",\"Bangalore\",\"Mumbai\",\"Delhi\",\"Mumbai\",\"Mumbai\",\"Bangalore\",\"Mumbai\",\"New Delhi\",\"Bangalore\",\"Mumbai\",\"Bangalore\",\"Bangalore\",\"Bangalore\",\"Chennai\",\"Bangalore\",\"Bangalore\",\"Mumbai\",\"Bangalore\",\"Gurgaon\",\"Chennai\",\"Bangalore\",\"New Delhi / California\",\"New Delhi\",\"Bangalore\",\"New Delhi\",\"Hyderabad\",\"Bangalore\",\"Chennai\",\"Noida\",null,\"Mumbai\",\"Bangalore\",\"New Delhi\",\"Bangalore\",\"Chennai\",\"Mumbai\",\"New Delhi\",\"Bangalore\",\"Bangalore\",\"Mumbai\",\"Bangalore\",\"Bangalore\",\"Gurgaon\",\"Bangalore\",\"Mumbai\",\"Gurgaon\",\"Chennai\",\"Bangalore\",\"Gurgaon\",\"Bangalore\",\"Hyderabad\",\"Hyderabad\",\"Gurgaon\",\"Bangalore\",\"Mumbai\",\"Gurgaon\",\"Bangalore\",\"Chennai\",\"Mumbai\",\"Mumbai\",\"Bangalore\",\"Bangalore\",\"New Delhi\",\"Pune\",\"New Delhi\",\"Bangalore\",\"Bangalore\",\"Chennai\",\"Goa\",\"Mumbai\",\"Mumbai\",\"Noida\",\"Mumbai\",\"Gurgaon\",\"Mumbai\",\"Bangalore\",\"Bangalore\",\"Ahmedabad\",\"New Delhi\",\"New Delhi\",\"Bangalore\",\"Noida\",null,\"Gurgaon\",\"Gurgaon\",\"Bangalore\",\"New Delhi\",\"Bangalore\",\"Jaipur\",\"Bangalore\",\"Bangalore\",\"Bangalore\",\"New Delhi\",\"Bangalore\",\"Bangalore\",\"Hyderabad\",\"Bangalore\",\"New Delhi\",\"Goa\",\"Bangalore\",\"Bangalore\",\"Hyderabad\",\"Bangalore\",\"Bangalore\",\"Gurgaon\",\"Dallas / Hyderabad\",\"New Delhi\",\"Hyderabad\",\"Mumbai\",\"New Delhi\",\"Mumbai\",\"Pune\",\"Gurgaon\",\"Bangalore\",\"New Delhi\",\"New Delhi\",\"Kolkata\",\"Bangalore\",\"Mumbai\",\"Bangalore\",\"Chennai\",\"Gurgaon\",\"Bangalore\",\"New Delhi\",\"Mumbai\",\"Noida\",\"Bangalore\",\"Mumbai\",\"Gurgaon\",\"Gurgaon\",\"Gurgaon\",\"New Delhi\",\"Mumbai\",\"Udupi\",\"Mumbai\",\"Gurgaon\",\"Vadodara\",\"Gurgaon\",\"Chennai\",\"Chennai\",\"New Delhi\",\"Bangalore\",\"New Delhi\",\"Bangalore\",\"Mumbai\",\"Bangalore / SFO\",\"Bangalore\",\"Chandigarh\",\"New Delhi\",\"New Delhi\",\"Mumbai\",\"Pune\",\"Mumbai\",\"Jaipur\",\"New Delhi\",\"Bangalore\",\"Bangalore\",\"Hyderabad\",\"Mumbai\",\"Gurgaon\",\"Pune / US\",\"Bangalore\",\"Bangalore\",\"Bangalore\",\"Chennai\",\"Noida\",null,null,null,null,null,null,null,null,null,null,null,null,null,null,null,null,null,null,null,null,null,null,null,null,null,null,null,null,null,null,null,null,null,null,null,null,null,null,null,null,null,null,null,null,null,null,null,null,null,null,null,null,null,null,null,null,null,null,null,null,null,null,null,null,null,null,null,null,null,null,null,null,null,null,null,null,null,null,null,null,null,null,null,null,null,null,null,null,null,null,null,null,null,null,null,null,null,null,null,null,null,null,null,null,null,null,null,null,null,null,null,null,null,null,null,null,null,null,null,null,null,null,null,null,null,null,null,null,null,null,null,null,null,null,null,null,null,null,null,null,null,null,null,null,null,null,null,null,null,null,null,null,null,null,null,null,null,null,null,null,null,null,null,null,null,null,null,null,null,null,null],\"xaxis\":\"x\",\"y\":[\"20,00,00,000\",\"80,48,394\",\"1,83,58,860\",\"30,00,000\",\"18,00,000\",\"90,00,000\",\"15,00,00,000\",\"60,00,000\",\"7,00,00,000\",\"5,00,00,000\",\"2,00,00,000\",\"1,20,00,000\",\"3,00,00,000\",\"59,00,000\",\"20,00,000\",\"5,00,00,000\",\"23,10,00,000\",\"15,00,00,000\",\"4,86,000\",\"15,00,000\",\"undisclosed\",\"1,20,00,000\",\"2,60,00,000\",\"1,74,11,265\",\"13,00,000\",\"13,50,00,000\",\"3,00,000\",\"22,00,00,000\",\"1,58,00,000\",\"28,30,00,000\",\"20,00,00,000\",\"1,00,00,00,000\",\"4,50,00,000\",\"58,50,00,000\",\"unknown\",\"45,00,000\",\"33,00,000\",\"60,00,000\",\"50,00,000\",\"1,80,00,000\",\"10,00,000\",\"1,00,00,000\",\"45,00,00,000\",\"50,00,000\",\"2,00,00,000\",\"50,00,000\",\"16,00,000\",\"14,00,00,000\",\"3,80,80,000\",\"12,50,00,000\",\"1,10,00,000\",\"5,10,00,000\",\"3,70,00,000\",\"5,00,000\",\"11,00,00,000\",\"1,50,00,000\",\"65,90,000\",\"10,00,000\",\"Undisclosed\",\"7,00,00,000\",\"3,90,00,00,000\",\"1,90,00,000\",\"25,00,000\",\"1,45,000\",\"10,00,000\",\"3,80,80,000\",\"5,00,000\",\"15,00,00,000\",\"6,00,00,000\",\"1,60,00,000\",\"57,50,000\",\"25,00,000\",\"10,00,000\",\"3,19,605\",\"5,10,00,000\",\"1,00,00,000\",\"48,89,975.54\",\"90,00,000\",\"7,50,00,000\",\"2,60,00,000\",\"25,00,000\",\"27,39,034.68\",\"2,60,00,000\",\"1,51,09,500.00\",\"4,30,200\",\"1,55,00,000\",\"5,20,00,000\",\"35,84,000\",\"34,00,000\",\"undisclosed\",\"8,68,600\",\"undisclosed\",\"15,00,00,000\",\"5,00,00,000\",\"5,10,00,000\",\"14,00,00,000\",\"1,15,00,000\",\"56,00,000\",\"4,50,00,000\",\"1,70,00,000\",\"4,30,665\",\"35,91,375\",\"2,00,000\",\"35,00,000\",\"63,20,820\",\"24,43,495\",\"3,07,000\",\"2,60,00,000\",\"30,00,000\",\"14,342,000+\",\"50,00,000\",\"30,00,000\",\"Undisclosed\",\"22,60,00,000\",\"6,00,000\",\"10,00,00,000\",\"11,00,00,000\",\"2,20,00,000\",\"50,00,000\",\"7,00,000\",\"5,00,00,000\",\"8,00,000\",\"5,72,000\",\"1,43,000\",\"20,00,000\",\"35,00,000\",\"1,38,995\",\"2,77,99,000\",\"5,00,00,000\",\"5,00,000\",\"10,00,000\",\"10,00,000\",\"13,00,000\",\"10,00,000\",\"5,00,000\",\"30,00,00,000\",\"60,00,000\",\"2,78,000\",\"3,10,00,000\",\"Undisclosed\",\"34,00,000\",\"2,95,00,000\",\"4,20,00,000\",\"17,00,000\",null,\"1,10,00,000\",\"82,00,000\",\"30,00,000\",\"40,00,000\",\"1,46,80,000\",\"1,20,00,000\",\"3,50,00,000\",\"22,50,00,000\",\"63,90,000\",\"10,00,000\",null,\"15,72,00,000\",null,\"10,00,00,000\",\"40,00,000\",\"3,20,00,000\",\"55,00,000\",\"50,00,000\",\"3,00,00,000\",\"4,00,000\",null,\"70,00,000\",\"1,20,000\",\"10,00,000\",\"3,50,00,000\",\"1,00,00,000\",\"40,00,000\",\"1,22,00,000\",\"6,60,00,000\",\"30,00,000\",\"10,00,000\",\"40,00,000\",\"80,00,000\",\"1,14,811\",\"58,50,000\",\"10,00,000\",\"48,00,000\",\"60,00,000\",\"1,42,70,000\",\"1,34,00,000\",\"42,00,000\",\"50,00,000\",\"30,00,000\",\"60,00,00,000\",null,\"10,00,000\",\"40,00,000\",\"62,50,000\",\"2,77,00,000\",\"4,40,000\",\"11,00,000\",\"4,37,000\",null,\"50,00,000\",\"50,00,000\",\"25,00,000\",\"1,80,000\",\"5,00,000\",\"1,75,000\",\"2,90,00,000\",\"4,97,00,000\",\"15,00,000\",\"10,00,00,000\",\"15,00,000\",\"1,80,00,000\",null,\"2,80,000\",\"4,36,000\",\"1,80,000\",\"4,50,00,000\",\"1,70,00,000\",\"12,50,000\",\"25,00,000\",\"11,00,000\",null,\"5,00,000\",\"1,10,00,000\",\"12,00,00,000\",\"10,00,00,000\",\"50,00,000\",\"1,00,00,000\",\"1,25,000\",null,null,null,\"2,30,00,000\",\"1,15,00,000\",\"2,15,00,000\",null,\"1,48,00,000\",\"1,01,00,000\",\"30,00,000\",\"3,000,00\",\"4,50,000\",null,\"34,50,000\",\"48,00,000\",\"2,10,00,000\",\"17,00,000\",null,\"11,00,000\",\"1,50,00,000\",\"91,00,000\",\"20,00,00,000\",\"40,00,000\",\"10,00,000\",\"89,50,000\",\"1,90,00,000\",\"45,00,000\",\"11,00,000\",\"20,00,000\",null,\"4,50,000\",\"2,20,00,000\",\"25,00,000\",\"2,25,000\",\"10,00,000\",\"9,49,000\",\"2,40,00,000\",\"4200000\",\"3,00,000\",\"70,00,000\",\"5,00,000\",\"7,35,000\",\"7,35,000\",\"20,00,000\",\"20,00,000\",\"2,93,000\",\"1,20,00,000\",\"2,00,000\",\"15,00,000\",\"80,00,000\",null,\"1,40,00,000\",\"13,000,00\",\"20,00,000\",\"3,07,600\",null,\"13,00,000\",\"5,50,00,000\",\"1,50,000\",\"1,00,00,000\",\"28,00,000\",\"1,000,000,\",null,\"46,140\",null,\"1,20,00,000\",\"10,00,000\",\"46,000,00\",\"20,00,000\",\"5,00,000\",null,\"2,20,00,000\",null,null,\"11,000,00\",\"2,30,00,000\",null,\"19,00,000\",\"1,10,00,000\",\"1,50,000\",\"2,20,00,000\",\"2,46,000\",\"55,00,000\",null,\"1,00,00,000\",null,\"75,00,000\",\"9,78,000\",null,\"30,00,000\",\"1,20,00,000\",\"2,50,000\",\"10,00,000\",\"21,00,000\",\"1,00,00,000\",\"60,00,000\",\"50,00,000\",\"11,00,000\",\"97,00,000\",\"76,00,000\",\"3,84,00,000\",\"10,00,000\",\"10,00,000\",\"8,20,00,000\",null,\"1,72,00,000\",\"6,20,00,000\",\"13,10,000\",\"5,00,000\",\"30,00,000\",\"10,00,000\",null,null,\"1,80,00,000\",\"7,68,000\",\"12,40,000\",null,\"10,00,000\",\"2,50,000\",\"20,00,000\",\"5,35,000\",\"30,00,000\",null,\"30,00,00,000\",\"20,00,00,000\",\"43,00,000\",\"2,10,00,000\",\"20,00,000\",null,\"31,00,000\",\"10,00,00,000\",\"10,00,00,000\",\"5,00,00,000\",\"1,20,00,000\",null,\"68,30,000\",null,\"8,70,00,000\",null,\"9,35,089\",\"3,11,200\",null,\"1,35,00,000\",\"30,00,000\",\"1,00,000\",\"5,00,000\",\"50,00,000\",\"1,48,434\",\"62,30,000\",\"2,50,000\",\"1,50,000\",\"38,00,000\",\"5,00,000\",\"5,00,00,000\",\"2,00,00,000\",\"21,00,000\",null,\"7,72,500\",\"10,40,000\",null,\"2,50,000\",\"11,50,00,000\",\"14,00,000\",null,null,\"1,57,00,000\",null,null,\"47,00,000\",\"25,00,000\",\"19,30,000\",\"1,88,40,000\",\"2,35,00,000\",\"3,62,30,000\",\"80,000\",\"2,00,00,000\",\"3,54,600\",\"2,50,00,000\",\"2,00,00,000\",\"10,00,000\",\"1,82,00,000\",\"4,00,000\",\"25,00,000\",null,\"40,00,000\",\"32,00,000\",\"30,00,000\",\"4,70,00,000\",\"86,00,000\",\"62,40,000\",null,\"10,00,000\",\"74,00,000\",\"15,00,000\",\"10,00,000\",\"10,00,000\",\"5,00,00,000\",\"5,00,000\",\"76,00,000\",\"1,00,00,000\",\"44,00,000\",null,\"1,23,00,000\",\"2,30,00,000\",\"10,00,000\",\"5,00,000\",\"6,00,00,000\",\"70,00,000\",\"1,00,00,000\",\"31,00,000\",\"7,50,000\",\"23,00,000\",\"50,00,000\",\"15,00,000\",\"50,000\",\"50,000\",\"12,00,000\",\"18,00,000\",null,\"1,75,00,000\",\"2,33,000\",\"2,70,00,000\",\"2,70,00,000\",\"72,00,000\",null,\"70,00,000\",\"60,00,000\",\"2,50,000\",\"1,00,00,000\",null,\"5,37,000\",\"27,00,000\",null,\"95,00,000\",null,\"15,00,000\",\"10,00,000\",\"1,95,00,000\",\"40,00,000\",\"1,50,000\",null,\"1,00,00,000\",null,\"38,00,000\",\"5,70,000\",null,null,\"10,00,000\",null,\"5,00,000\",\"10,00,000\",null,null,null,\"50,00,000\",\"50,00,000\",\"76,00,000\",\"30,00,000\",\"30,00,000\",\"36,00,000\",\"8,72,000\",null,null,\"2,50,00,000\",null,\"1,50,00,000\",null,\"82,50,000\",\"9,00,000\",null,\"30,00,000\",null,null,\"2,00,000\",null,\"6,92,000\",\"3,29,230\",\"27,00,000\",\"4,00,000\",\"2,50,000\",\"2,60,00,000\",null,\"20,00,00,000\",null,null,\"1,00,00,000\",\"2,50,000\",\"27,00,00,000\",\"39,000\",\"38,00,000\",\"1,30,00,000\",\"15,00,000\",\"13,50,000\",\"20,00,000\",null,null,\"11,00,00,000\",null,\"3,06,000\",\"3,87,00,000\",\"10,00,000\",\"4,50,000\",\"92,00,000\",\"31,00,000\",\"80,00,000\",\"1,00,00,000\",\"20,00,000\",null,\"27,00,000\",null,null,\"3,36,000\",null,\"14,00,000\",\"45,00,000\",\"31,00,000\",\"11,00,000\",\"2,35,000\",\"7,70,00,000\",\"2,50,000\",\"20,00,000\",\"80,00,000\",\"92,00,000\",\"70,00,000\",\"70,00,000\",null,\"77,00,000\",\"5,00,000\",\"70,00,000\",\"60,00,000\",\"31,00,000\",\"1,18,000\",null,\"5,00,000\",\"30,00,000\",\"7,22,000\",null,null,\"5,50,000\",\"50,00,000\",\"38,00,000\",null,\"1,20,000\",\"77,00,000\",\"20,00,000\",\"1,40,00,000\",\"3,20,00,000\",\"10,00,000\",\"15,00,000\",\"13,00,000\",\"56,00,000\",\"15,00,000\",\"6,00,000\",\"1,07,50,000\",\"1,00,00,000\",\"60,00,000\",\"2,60,00,000\",\"50,00,000\",null,\"25,00,00,000\",\"7,80,000\",null,\"10,00,000\",\"69,00,000\",null,\"3,00,00,000\",\"62,00,000\",null,\"1,00,000\",\"1,70,00,000\",\"30,00,000\",null,\"20,00,000\",\"1,00,00,000\",\"1,15,00,000\",\"7,80,000\",null,\"4,40,00,000\",\"1,20,000\",null,\"10,00,000\",null,\"5,00,00,000\",null,\"60,00,000\",null,null,\"10,00,000\",\"1,54,00,000\",null,null,\"60,00,000\",null,null,\"4,22,000\",\"1,50,000\",null,null,null,\"16,00,000\",null,\"10,00,000\",null,\"3,00,000\",\"10,00,000\",\"13,00,000\",null,null,\"5,00,000\",\"8,50,000\",\"3,00,000\",null,null,null,null,null,null,null,\"2,43,000\",\"2,20,000\",\"31,00,000\",\"7,83,000\",null,null,\"2,50,00,00,000\",null,\"3,60,00,000\",null,\"3,12,000\",\"3,85,000\",null,\"1,87,000\",\"68,00,000\",\"7,34,000\",null,null,null,\"8,00,00,000\",\"23,00,000\",null,\"5,00,000\",\"1,60,00,000\",\"7,50,000\",\"1,25,000\",\"70,00,000\",\"2,50,00,000\",\"7,50,000\",null,\"3,40,00,000\",\"3,00,00,000\",\"10,00,000\",\"26,00,000\",\"2,00,00,000\",\"85,00,000\",\"1,20,00,000\",\"10,00,000\",null,null,\"10,00,000\",null,\"30,00,000\",\"22,50,000\",\"4,64,000\",null,\"1,85,00,000\",null,null,null,\"5,40,000\",\"17,00,000\",\"20,00,000\",\"40,00,000\",null,null,null,null,\"1,00,00,000\",null,\"6,00,000\",\"7,00,000\",\"2,00,000\",null,null,null,\"12,00,000\",\"3,50,00,000\",null,\"2,50,00,000\",\"2,00,000\",\"1,50,00,000\",null,\"12,50,000\",null,null,\"2,34,000\",\"5,00,00,000\",null,\"10,00,000\",null,null,\"12,00,000\",\"10,00,000\",null,null,\"6,50,000\",\"6,00,000\",\"2,32,000\",\"15,00,000\",\"15,00,000\",\"3,50,000\",\"3,00,000\",\"2,50,000\",null,\"78,00,000\",\"5,00,000\",\"10,00,000\",\"7,76,000\",\"1,50,00,000\",null,\"55,00,000\",null,\"5,00,00,000\",null,\"5,00,000\",\"1,23,00,000\",\"10,00,000\",\"1,00,000\",\"20,00,000\",null,null,null,\"1,25,00,000\",\"40,00,000\",\"3,00,000\",\"52,00,000\",\"24,00,000\",\"45,00,000\",\"2,15,000\",\"3,10,00,000\",null,\"46,00,000\",\"20,00,000\",\"5,00,000\",\"40,00,000\",\"10,00,000\",\"50,00,000\",\"7,10,00,000\",\"40,00,000\",\"50,00,000\",null,\"3,11,000\",null,\"30,00,000\",\"20,00,000\",\"10,00,000\",null,\"50,00,000\",\"2,10,00,000\",\"7,37,00,000\",\"1,00,00,000\",\"15,00,000\",\"1,00,00,000\",null,\"3,90,000\",\"10,45,00,000\",\"10,00,000\",null,null,null,null,null,\"2,33,000\",\"7,00,000\",null,null,\"10,00,000\",\"50,00,000\",\"32,00,000\",\"50,000\",null,null,null,null,\"14,00,000\",\"77,00,000\",\"6,00,000\",null,\"40,00,000\",null,null,\"50,00,000\",null,\"4,66,000\",\"10,00,000\",\"5,00,000\",null,null,\"30,00,000\",\"5,00,000\",\"2,50,000\",\"53,00,000\",\"10,00,000\",null,\"1,40,00,00,000\",\"10,00,000\",null,null,\"3,00,00,000\",\"5,00,000\",null,\"66,00,000\",null,\"10,00,000\",\"5,80,000\",\"80,00,000\",null,null,null,null,\"35,00,000\",null,null,\"15,00,000\",\"8,00,00,000\",\"50,00,000\",\"70,00,000\",\"38,00,000\",\"82,00,000\",null,\"4,00,00,000\",null,null,\"27,00,000\",\"61,00,000\",\"36,90,000\",\"70,00,000\",\"5,00,000\",\"5,00,000\",null,\"30,00,000\",null,\"2,10,00,000\",\"50,00,000\",null,null,null,\"1,80,00,000\",null,\"46,00,000\",\"1,50,000\",\"23,00,000\",\"55,00,000\",\"1,00,000\",null,\"40,00,000\",\"45,00,000\",\"45,00,000\",\"21,00,000\",null,null,null,\"77,00,000\",\"26,00,00,000\",\"3,10,000\",\"15,00,000\",null,null,\"1,75,000\",\"6,20,000\",null,\"46,50,000\",\"20,00,000\",\"6,00,000\",\"12,50,000\",\"1,55,000\",\"30,00,000\",null,\"10,00,000\",\"63,00,000\",\"25,00,00,000\",\"32,00,000\",null,\"2,45,000\",\"31,00,000\",\"2,00,00,000\",null,\"1,10,00,000\",\"15,00,000\",\"10,00,000\",null,\"36,00,000\",null,null,\"15,00,000\",\"7,50,000\",null,null,\"33,00,00,000\",\"1,00,00,000\",null,null,\"15,00,000\",\"5,00,000\",\"25,00,000\",null,\"76,00,000\",null,\"2,75,000\",null,\"67,00,000\",null,\"20,00,00,000\",\"1,95,00,000\",\"12,00,000\",\"1,50,000\",\"17,90,000\",\"1,00,00,000\",\"1,00,00,000\",\"10,00,000\",\"30,000\",\"36,50,000\",\"1,50,00,000\",\"11,00,000\",\"1,20,000\",null,\"5,00,000\",\"45,00,000\",\"4,43,000\",null,\"6,00,000\",null,null,\"33,50,000\",\"1,00,000\",\"13,50,000\",null,\"31,00,000\",\"2,00,000\",null,\"1,40,00,00,000\",\"36,70,000\",\"53,00,000\",null,\"1,91,000\",\"1,50,00,000\",\"5,60,00,000\",\"3,82,000\",null,\"10,00,00,000\",null,\"5,00,000\",null,\"3,00,000\",null,\"3,25,000\",\"6,50,000\",null,\"1,00,00,000\",\"50,000\",null,null,null,\"1,55,000\",\"30,00,000\",\"70,00,000\",null,null,\"2,50,00,000\",null,null,\"25,00,000\",null,\"4,50,000\",\"1,00,00,000\",\"10,00,000\",\"12,00,000\",\"5,50,00,000\",null,\"40,000\",\"60,00,000\",null,\"80,00,000\",\"5,00,000\",null,\"58,00,000\",\"75,00,000\",\"32,00,000\",\"1,50,00,000\",\"3,30,000\",\"4,00,000\",\"3,00,000\",\"2,24,00,000\",null,null,\"65,00,000\",\"3,50,000\",\"30,00,000\",\"30,00,000\",\"5,00,000\",\"4,00,000\",\"1,52,00,000\",null,null,\"40,000\",\"40,000\",\"3,87,00,000\",\"1,50,00,000\",\"40,000\",\"11,00,000\",null,null,null,\"3,75,000\",\"94,000\",\"10,00,000\",\"7,00,00,000\",\"3,66,000\",\"8,25,000\",null,null,null,null,null,\"1,30,00,000\",\"5,70,00,000\",\"3,50,00,000\",\"8,00,000\",\"50,00,000\",\"22,50,000\",null,\"1,00,000\",\"35,00,000\",null,\"13,50,000\",\"1,00,00,000\",\"41,00,000\",null,\"4,40,000\",\"45,00,000\",null,null,\"50,00,000\",null,\"7,00,000\",\"8,00,000\",\"20,00,000\",\"5,50,00,000\",\"4,41,000\",\"5,00,000\",\"1,47,000\",null,null,\"6,50,000\",\"3,00,000\",null,\"10,00,000\",null,null,null,null,null,null,\"50,000\",null,null,\"1,50,00,000\",null,null,\"5,00,000\",\"1,00,00,000\",\"40,00,000\",null,null,\"40,00,000\",null,\"22,00,000\",\"88,00,000\",null,\"14,00,000\",\"3,00,000\",null,\"1,06,000\",\"22,500\",\"68,000\",\"18,000\",null,\"20,00,000\",null,\"12,00,000\",\"40,00,000\",\"36,00,000\",\"1,00,000\",null,\"30,00,000\",null,\"14,00,000\",null,\"1,47,000\",null,null,null,null,null,\"90,00,000\",\"4,40,000\",null,\"65,00,000\",\"2,50,000\",\"60,00,000\",null,\"4,50,000\",\"2,50,000\",\"1,00,00,000\",\"2,00,000\",\"20,00,000\",null,\"20,00,000\",\"1,00,00,000\",null,\"1,11,00,000\",null,\"1,50,000\",\"10,00,000\",null,null,\"2,97,000\",\"1,00,000\",\"1,00,00,000\",\"3,50,00,000\",\"30,00,000\",\"2,30,00,000\",\"1,23,000\",null,\"74,00,000\",\"50,000\",null,null,\"1,50,00,000\",null,\"5,00,000\",null,\"1,62,000\",null,\"3,24,000\",\"3,00,000\",\"20,00,000\",null,null,null,null,null,null,\"12,00,000\",\"1,00,00,000\",\"50,00,000\",null,\"10,00,000\",null,null,null,\"2,00,000\",\"5,50,00,000\",\"1,50,000\",null,null,\"60,00,000\",null,\"1,00,00,000\",null,\"10,00,000\",\"1,50,000\",null,null,\"45,000\",\"30,00,000\",\"7,50,00,000\",\"30,00,000\",\"20,00,000\",\"1,20,00,000\",\"10,00,000\",null,null,null,\"30,00,000\",\"20,00,000\",null,\"60,00,000\",\"40,00,000\",\"50,00,000\",null,\"1,35,00,000\",null,null,\"1,47,000\",\"10,00,000\",null,null,\"90,000\",\"6,50,000\",\"50,00,000\",\"1,47,000\",null,\"50,00,000\",null,\"1,47,000\",\"2,00,00,000\",\"6,00,000\",\"1,00,00,000\",null,null,\"40,00,000\",null,null,null,null,null,null,\"1,00,000\",\"20,00,000\",null,\"30,00,000\",\"10,00,000\",\"9,63,000\",\"1,50,000\",\"2,00,000\",\"20,00,000\",\"2,18,000\",\"1,00,000\",\"4,40,000\",\"5,00,000\",null,\"5,00,000\",null,\"50,00,000\",null,\"20,00,000\",\"2,00,000\",\"4,50,000\",null,null,\"20,00,000\",\"42,00,000\",\"30,00,000\",null,\"10,00,000\",\"25,00,000\",\"37,50,000\",null,null,null,\"12,00,000\",null,\"3,00,000\",null,\"10,50,000\",\"1,00,000\",\"22,00,000\",\"1,50,00,000\",null,\"3,75,000\",\"5,00,00,000\",\"5,00,000\",null,\"20,00,000\",null,null,\"4,50,000\",\"25,000\",\"70,00,000\",\"60,00,000\",null,null,null,\"2,50,00,000\",\"2,27,000\",\"10,00,000\",null,null,\"3,00,000\",\"1,60,00,000\",\"1,50,000\",null,null,\"25,00,000\",null,\"3,00,00,000\",\"11,00,000\",\"7,50,000\",null,null,null,\"3,00,000\",null,\"30,00,000\",\"75,00,000\",\"60,00,000\",\"5,00,000\",null,null,\"1,00,000\",\"10,00,000\",null,\"10,00,000\",\"7,00,000\",\"9,71,000\",\"2,70,00,000\",null,\"1,00,000\",\"1,00,000\",\"1,00,000\",\"7,50,000\",\"10,00,000\",null,\"67,00,000\",null,null,null,null,null,\"13,50,000\",\"5,00,000\",null,\"9,00,000\",\"80,00,000\",\"5,00,000\",\"60,00,000\",\"3,15,000\",\"6,70,000\",\"2,00,000\",\"5,00,00,000\",null,null,\"1,50,000\",\"4,50,000\",null,\"4,48,000\",\"30,00,000\",\"1,23,00,000\",\"3,00,000\",null,null,null,\"25,00,000\",null,\"1,50,000\",null,\"2,00,000\",\"50,00,000\",\"15,00,000\",\"1,00,000\",\"10,00,000\",\"7,50,000\",null,\"1,50,00,000\",null,\"5,00,000\",null,\"10,00,000\",null,\"3,13,00,000\",\"2,98,000\",\"3,50,000\",\"60,00,000\",null,\"4,25,000\",\"10,00,000\",\"7,45,000\",\"60,00,000\",null,null,null,null,null,\"15,80,000\",null,\"5,00,000\",\"10,00,000\",\"10,00,000\",\"5,10,00,000\",\"1,80,000\",null,\"15,00,000\",null,\"1,90,00,000\",null,\"1,20,00,000\",\"2,00,000\",\"2,75,000\",\"30,00,000\",\"25,00,000\",\"18,00,000\",null,\"10,00,000\",null,\"2,25,000\",\"8,90,000\",\"5,00,000\",null,null,\"27,000\",null,\"40,000\",\"4,45,000\",\"2,00,000\",null,null,\"5,00,000\",\"6,00,000\",\"70,00,000\",null,\"2,09,000\",\"1,50,00,000\",\"15,00,000\",\"15,00,000\",\"1,56,00,000\",\"5,00,000\",null,null,null,\"6,20,00,000\",\"17,50,00,000\",\"5,00,000\",\"15,00,000\",\"2,50,000\",null,\"3,75,000\",null,\"6,75,000\",null,null,null,\"2,00,00,000\",\"3,75,000\",null,null,\"3,70,00,000\",null,null,\"1,00,000\",null,\"2,00,000\",null,\"10,00,000\",\"1,00,000\",\"5,00,000\",null,\"5,00,000\",\"9,00,000\",\"30,00,000\",null,null,\"30,00,000\",null,null,\"2,40,00,000\",\"5,00,000\",\"4,00,00,000\",\"5,50,000\",null,\"30,00,000\",\"70,00,000\",null,\"10,00,000\",\"1,50,00,000\",\"1,49,000\",\"1,04,000\",\"6,00,00,000\",\"20,00,000\",\"30,00,000\",null,\"53,00,000\",null,null,null,\"5,00,000\",null,\"7,00,000\",null,\"1,50,00,000\",\"2,00,000\",\"20,00,000\",null,\"1,60,00,000\",\"10,00,000\",\"8,20,00,000\",\"17,00,000\",\"7,40,000\",\"2,50,000\",\"2,97,000\",\"20,00,000\",\"10,00,000\",null,null,null,\"19,50,000\",\"60,00,000\",\"35,00,000\",\"30,00,000\",\"1,22,50,000\",null,null,null,null,\"50,00,000\",null,\"6,00,000\",\"13,50,000\",null,\"50,00,000\",null,null,\"4,50,000\",\"10,70,000\",null,\"10,00,000\",\"20,00,000\",null,\"2,50,000\",null,\"60,00,000\",\"6,50,000\",\"6,50,000\",\"3,00,00,000\",null,null,\"1,00,00,000\",\"1,50,00,000\",\"10,00,000\",\"2,50,000\",\"10,00,000\",\"5,95,000\",null,\"10,00,000\",null,\"5,95,000\",null,null,null,null,null,\"10,00,000\",null,\"10,00,000\",null,\"75,000\",\"20,00,000\",\"4,48,000\",\"40,00,000\",\"20,00,000\",\"1,00,000\",\"2,30,00,000\",\"10,00,000\",\"10,00,000\",\"5,00,000\",\"2,00,000\",null,null,\"1,60,00,000\",null,\"2,00,000\",null,null,\"20,00,000\",null,\"5,00,000\",null,null,null,null,null,null,null,\"10,00,000\",\"30,000\",null,null,null,\"60,00,000\",\"10,00,000\",\"44,00,000\",\"4,50,000\",null,\"4,50,000\",\"6,00,000\",null,null,\"2,00,00,000\",null,\"1,20,00,000\",\"9,00,000\",\"52,00,000\",null,null,null,null,null,\"1,50,000\",null,null,null,\"4,00,000\",\"2,25,000\",null,\"1,50,000\",\"60,00,000\",\"1,50,000\",\"35,00,000\",\"2,10,000\",null,null,\"50,000\",null,\"5,00,000\",\"60,00,000\",\"30,00,000\",\"1,48,000\",\"12,00,000\",\"1,00,000\",null,\"30,00,000\",\"80,00,000\",\"3,00,000\",\"3,20,00,000\",\"2,95,000\",null,null,\"1,00,000\",\"50,000\",null,\"15,00,000\",\"2,50,00,000\",\"2,20,000\",null,\"3,68,000\",null,\"3,76,000\",\"1,45,000\",null,\"5,00,00,000\",null,\"2,50,000\",null,\"1,80,000\",null,\"2,00,000\",\"6,00,00,000\",\"1,20,00,000\",\"2,00,000\",\"2,00,000\",\"1,50,000\",\"5,00,000\",\"5,00,000\",\"5,00,000\",null,\"3,75,000\",\"10,00,000\",null,\"75,000\",\"27,50,000\",\"4,50,000\",\"2,50,000\",\"60,00,000\",\"15,00,000\",\"1,80,00,000\",\"15,00,000\",\"70,00,000\",\"9,00,000\",null,\"10,00,00,000\",\"5,00,000\",\"2,50,00,000\",\"1,50,000\",null,null,null,null,\"1,35,00,000\",\"22,00,000\",\"10,00,000\",null,null,null,null,\"2,50,000\",\"1,00,000\",null,\"1,00,00,000\",\"10,00,000\",null,\"10,00,000\",null,\"5,00,000\",\"5,00,000\",\"3,00,000\",null,\"89,000\",null,\"10,00,000\",null,\"15,00,000\",\"1,00,000\",null,\"20,00,000\",null,\"4,75,000\",null,\"2,00,000\",null,\"44,00,000\",\"89,00,000\",null,null,\"1,75,000\",\"27,00,000\",null,null,null,null,\"2,50,00,000\",null,null,null,null,\"10,00,000\",\"5,00,000\",\"60,00,000\",\"10,00,000\",null,null,null,\"40,000\",\"2,00,000\",null,\"10,00,00,000\",\"3,00,000\",\"10,00,000\",null,null,null,\"10,00,000\",\"1,50,000\",\"2,50,000\",\"7,50,000\",null,\"1,00,000\",null,\"10,00,000\",null,\"1,50,00,000\",null,null,\"3,00,00,000\",\"1,50,000\",null,null,null,null,\"1,00,00,000\",null,\"15,00,000\",\"4,50,000\",null,\"20,00,000\",null,null,null,\"1,50,00,000\",null,null,null,null,null,null,\"30,00,000\",null,null,\"4,50,000\",\"2,00,000\",null,\"5,50,000\",\"1,50,00,000\",\"13,00,000\",\"1,50,00,000\",\"5,00,000\",null,null,\"4,50,000\",null,\"6,00,000\",\"12,00,000\",\"5,00,000\",\"1,00,000\",null,null,null,null,\"6,00,000\",null,\"14,00,000\",null,\"10,00,000\",\"5,00,000\",null,\"10,00,000\",null,\"1,50,000\",null,\"1,00,000\",null,\"40,00,000\",\"5,00,000\",\"30,00,000\",\"5,00,000\",\"2,50,000\",null,\"1,00,000\",null,null,null,\"7,50,000\",\"80,00,000\",\"6,50,000\",null,\"5,00,000\",\"25,00,000\",\"10,00,000\",null,\"4,00,000\",null,\"1,11,00,000\",null,\"1,50,00,000\",\"10,00,000\",null,\"2,23,608\",\"1,49,00,000\",null,\"10,00,000\",\"1,50,000\",\"2,50,000\",\"1,80,000\",null,null,\"2,50,000\",\"2,00,000\",\"2,30,000\",\"8,00,000\",\"1,08,000\",\"15,00,000\",\"30,000\",null,null,\"20,00,000\",\"7,50,00,000\",\"15,00,00,000\",\"6,00,000\",null,null,\"3,60,000\",null,\"1,00,000\",\"3,00,000\",null,\"3,30,000\",null,\"5,00,000\",\"1,50,000\",\"3,00,000\",null,\"3,00,000\",\"47,00,000\",\"2,00,000\",\"5,00,000\",null,\"4,00,000\",null,null,null,\"40,00,000\",null,\"22,500\",\"22,500\",\"22,500\",\"22,500\",\"10,00,000\",\"1,00,000\",\"1,00,000\",\"30,000\",\"30,000\",null,\"1,35,00,000\",null,null,null,\"10,00,000\",\"81,000\",\"52,000\",\"10,00,000\",null,null,\"1,00,000\",\"1,00,000\",null,null,null,\"1,25,00,000\",null,null,null,null,\"2,00,000\",null,\"12,00,000\",\"1,50,000\",null,null,null,null,\"1,25,000\",\"10,00,000\",\"10,00,000\",\"40,00,000\",\"50,00,000\",\"20,00,00,000\",null,null,\"50,000\",\"3,00,000\",\"5,00,000\",null,\"10,00,000\",\"9,70,000\",null,\"40,00,000\",null,null,null,\"3,50,000\",null,\"1,00,00,000\",\"50,00,000\",null,null,\"73,000\",null,null,\"3,00,000\",\"3,50,000\",\"50,00,000\",null,null,\"4,00,000\",null,\"10,00,000\",\"30,00,000\",\"1,00,000\",null,\"45,00,000\",\"37,000\",null,\"1,10,00,000\",null,\"1,60,000\",null,\"1,00,00,000\",\"4,00,000\",\"1,50,000\",null,\"50,00,000\",null,\"58,00,000\",\"70,000\",\"1,45,000\",\"25,00,000\",null,\"1,30,00,000\",null,null,null,null,null,\"60,00,000\",null,\"1,00,000\",null,\"1,50,000\",\"50,00,000\",null,null,\"7,50,000\",\"10,00,000\",\"1,50,000\",\"30,00,000\",\"7,50,000\",null,null,\"1,60,000\",\"1,00,000\",\"18,00,00,000\",\"50,00,000\",\"2,50,000\",\"45,000\",null,null,\"54,00,000\",null,\"1,65,00,000\",\"10,00,000\",null,\"10,00,00,000\",null,\"23,00,000\",\"2,50,000\",\"14,50,00,000\",\"1,00,000\",\"2,40,000\",null,\"40,00,000\",null,null,null,\"5,20,000\",null,null,\"2,00,000\",null,null,null,null,null,\"60,00,000\",\"3,50,00,000\",null,null,null,\"14,00,000\",\"50,00,000\",\"4,45,000\",\"35,00,000\",null,\"18,00,000\",\"2,00,00,000\",\"40,00,000\",\"40,000\",null,null,\"5,00,000\",\"22,00,000\",\"1,50,00,000\",\"30,00,000\",\"2,00,000\",null,\"72,00,000\",null,null,\"5,15,000\",\"3,50,00,000\",\"3,00,00,000\",null,\"1,50,000\",\"2,10,00,000\",null,null,\"40,00,000\",\"10,00,000\",null,\"10,00,000\",\"3,70,000\",null,null,null,\"1,60,000\",null,\"1,85,000\",\"1,70,00,000\",\"51,50,000\",\"11,00,000\",null,null,null,null,\"10,00,000\",null,null,\"56,00,000\",\"5,00,000\",null,\"20,00,000\",\"15,00,000\",null,null,\"1,00,000\",\"2,00,00,000\",null,null,\"1,00,000\",\"1,00,000\",\"2,00,00,000\",null,null,\"45,00,000\",\"3,00,00,000\",null,\"2,50,000\",\"1,00,000\",null,null,\"20,00,000\",\"30,00,000\",null,\"3,50,000\",\"30,00,000\",null,\"2,50,00,000\",\"50,00,000\",\"5,00,000\",\"5,00,000\",\"1,00,00,000\",null,\"25,00,000\",\"7,00,00,000\",\"6,00,000\",null,null,null,\"1,50,000\",null,\"10,00,000\",null,\"35,00,000\",null,\"2,00,000\",\"30,00,000\",null,null,\"10,00,000\",\"2,25,00,000\",\"20,00,000\",\"12,00,000\",null,\"3,00,00,000\",\"17,00,000\",null,\"12,00,000\",null,null,\"2,00,000\",\"20,00,000\",\"40,00,000\",\"20,00,000\",null,null,null,\"30,00,000\",null,\"7,50,000\",\"5,00,000\",\"10,00,000\",null,\"10,00,000\",\"50,00,000\",null,\"3,03,000\",null,\"22,00,000\",\"10,00,000\",\"5,00,000\",\"1,50,000\",\"66,00,000\",null,\"2,00,000\",\"7,50,000\",null,null,\"50,00,000\",\"1,50,000\",\"3,85,000\",\"3,20,000\",\"5,00,000\",\"1,66,00,000\",\"2,50,000\",null,\"4,00,000\",\"1,50,000\",\"2,00,000\",null,null,\"18,00,000\",\"20,00,000\",\"4,60,000\",\"4,90,000\",null,\"1,50,00,000\",\"5,00,000\",\"15,00,000\",\"10,00,000\",\"19,00,000\",\"1,50,000\",\"1,50,000\",\"60,00,000\",null,\"6,00,000\",null,\"5,00,000\",null,\"2,50,000\",null,\"37,00,000\",\"1,80,000\",null,\"1,50,00,000\",\"3,40,00,000\",\"6,00,000\",\"75,00,000\",\"2,00,000\",\"5,30,000\",\"3,00,000\",\"50,00,00,000\",\"25,00,000\",\"40,00,000\",null,null,null,null,\"2,50,00,000\",\"5,00,000\",null,\"4,55,000\",\"1,25,00,000\",null,\"3,05,000\",\"1,50,000\",\"30,00,000\",null,\"12,00,000\",\"1,00,000\",\"20,00,000\",\"1,00,000\",\"2,50,000\",null,\"5,20,00,000\",null,\"15,00,000\",\"1,10,000\",\"2,70,00,000\",null,\"1,34,00,000\",\"12,00,00,000\",\"10,00,000\",null,null,\"20,00,000\",null,null,null,null,\"14,50,000\",\"5,40,000\",null,\"90,00,000\",null,null,null,null,null,\"3,50,000\",null,null,\"20,00,000\",\"60,00,000\",\"95,00,000\",\"1,50,00,000\",\"10,00,000\",\"1,50,000\",\"7,00,000\",\"5,00,000\",\"1,00,00,000\",null,\"5,00,000\",\"60,00,000\",\"30,00,000\",null,\"2,00,00,000\",null,null,\"20,00,000\",\"77,00,000\",null,\"1,00,00,000\",\"3,10,000\",\"70,000\",null,\"80,00,000\",\"3,00,000\",null,\"10,00,000\",\"77,000\",\"1,90,000\",null,null,\"1,00,000\",null,null,\"10,00,000\",\"25,00,000\",\"50,000\",null,\"77,000\",null,null,null,null,null,\"10,00,000\",null,\"2,50,00,000\",\"1,00,000\",null,\"70,00,000\",\"1,00,00,000\",null,null,\"29,50,000\",\"15,30,000\",\"1,00,000\",\"6,40,000\",null,\"1,50,000\",\"1,50,000\",\"10,00,000\",\"2,50,000\",\"50,00,000\",\"4,00,000\",\"5,00,000\",\"5,00,00,000\",\"90,00,000\",null,\"77,000\",\"3,50,000\",\"1,00,00,000\",null,\"11,00,000\",\"2,00,000\",null,null,null,\"4,50,000\",null,null,\"1,30,000\",\"75,00,000\",\"20,00,000\",\"2,30,000\",\"80,000\",\"1,00,00,000\",\"1,00,000\",null,\"10,00,000\",\"9,00,000\",null,\"4,00,00,000\",\"4,50,00,000\",\"2,60,000\",null,\"4,00,00,000\",null,\"1,50,000\",\"1,00,000\",\"20,00,000\",\"6,00,000\",\"2,05,000\",\"6,00,00,000\",\"18,00,000\",\"4,00,000\",null,null,\"7,70,000\",\"92,00,000\",\"3,15,000\",\"1,00,000\",null,\"10,00,000\",null,\"1,50,00,000\",null,\"12,00,000\",\"90,00,000\",\"30,00,000\",\"22,50,00,000\",\"20,00,000\",\"42,50,000\",null,\"10,00,000\",\"3,00,000\",null,\"1,00,00,000\",\"4,10,000\",\"4,50,000\",null,null,\"7,50,00,000\",\"6,00,000\",\"3,50,000\",\"11,50,000\",\"1,50,000\",\"1,50,000\",null,\"3,75,00,000\",\"2,35,000\",null,\"1,25,000\",null,null,\"30,00,000\",null,null,\"8,00,000\",\"4,00,000\",\"1,00,00,000\",\"3,00,000\",null,null,\"12,00,000\",\"22,50,000\",\"17,50,000\",\"33,00,000\",\"4,00,000\",\"20,00,000\",\"10,00,000\",null,null,\"3,00,00,000\",\"68,00,00,000\",\"10,00,00,000\",\"3,60,00,000\",null,null,\"3,50,000\",null,\"50,00,000\",\"10,00,000\",null,\"10,00,000\",\"50,00,00,000\",\"4,00,000\",null,\"50,00,000\",null,null,\"10,00,00,000\",null,\"96,00,000\",\"13,00,000\",\"6,50,000\",\"13,00,000\",\"3,00,00,000\",\"30,00,000\",\"5,00,000\",null,\"7,85,000\",null,\"5,00,000\",\"9,00,00,000\",null,null,\"7,00,000\",\"2,50,00,000\",null,\"6,30,000\",\"5,00,000\",null,null,null,\"5,00,000\",\"80,000\",null,\"2,50,000\",\"1,60,00,000\",\"2,50,000\",\"10,00,000\",\"3,00,00,000\",\"80,00,000\",\"16,00,000\",\"1,00,000\",\"2,00,00,000\",\"6,30,00,000\",\"75,00,000\",\"5,00,00,000\",\"7,70,000\",\"25,00,000\",\"5,00,000\",\"2,50,00,000\",null,\"40,00,000\",\"1,00,000\",\"2,45,000\",null,\"2,20,000\",null,\"1,60,000\",null,null,null,\"3,10,000\",null,\"1,50,00,000\",\"42,00,000\",\"10,00,000\",null,null,\"10,00,000\",null,\"24,00,000\",null,\"2,00,00,000\",\"1,56,000\",\"6,00,000\",\"6,00,000\",\"5,00,000\",\"3,00,000\",\"4,00,000\",null,null,\"10,00,000\",\"30,00,000\",\"40,00,000\",\"2,50,000\",\"1,00,000\",\"4,00,000\",null,\"5,00,000\",null,null,null,null,\"20,00,000\",\"1,60,000\",null,\"3,00,000\",\"40,00,000\",null,null,null,\"10,00,000\",\"6,30,000\",null,null,\"1,35,00,000\",\"6,00,00,000\",\"50,00,000\",\"1,61,000\",\"65,00,000\",null,\"10,00,000\",null,\"3,95,000\",null,null,\"3,00,00,000\",null,\"30,00,000\",\"50,00,000\",null,null,null,\"10,00,00,000\",\"1,10,00,000\",\"3,00,00,000\",\"20,000\",null,\"4,70,000\",\"75,00,000\",\"1,00,00,000\",\"1,02,00,000\",\"1,10,00,000\",\"\\\\\\\\xc2\\\\\\\\xa020,000,000\",\"\\\\\\\\xc2\\\\\\\\xa016,200,000\",\"\\\\\\\\xc2\\\\\\\\xa0N/A\",\"\\\\\\\\xc2\\\\\\\\xa0N/A\",\"\\\\\\\\xc2\\\\\\\\xa0600,000\",\"\\\\\\\\xc2\\\\\\\\xa0685,000\",\"\\\\\\\\xc2\\\\\\\\xa019,350,000\",\"\\\\\\\\xc2\\\\\\\\xa05,000,000\",\"\\\\\\\\xc2\\\\\\\\xa010,000,000\",\"\\\\\\\\xc2\\\\\\\\xa0N/A\",\"1,00,00,000\",\"\\\\\\\\xc2\\\\\\\\xa0N/A\",\"3,00,000\",\"75,00,000\",\"7,90,000\",\"5,00,000\",\"10,00,00,000\",\"23,00,000\",null,\"1,10,00,000\",\"7,00,000\",\"16,00,000\",\"1,00,000\",\"1,50,00,000\",\"48,50,000\",null,\"10,00,000\",\"20,00,000\",\"3,00,00,000\",\"1,27,50,000\",\"2,50,00,000\",\"3,20,000\",null,\"2,00,00,000\",\"1,50,00,000\",\"10,00,000\",\"6,00,00,000\",null,\"10,00,000\",null,\"1,50,00,000\",\"60,00,000\",null,null,null,\"10,00,00,000\",\"70,00,00,000\",\"13,00,000\",\"10,00,000\",\"20,00,000\",\"24,00,000\",\"5,00,00,000\",\"12,00,000\",\"6,00,000\",\"24,00,000\",\"1,60,00,000\",\"1,68,000\",\"1,68,000\",null,null,\"5,00,000\",null,\"20,00,000\",\"50,00,000\",null,\"60,00,000\",\"5,00,000\",\"40,00,000\",\"3,50,000\",null,\"10,00,000\",\"5,50,000\",\"5,00,000\",\"3,50,00,000\",\"3,50,000\",null,null,\"30,00,000\",\"1,00,000\",\"1,50,00,000\",\"1,50,000\",null,\"2,50,000\",null,\"13,70,00,000\",\"10,00,000\",\"2,00,00,000\",\"5,00,00,000\",\"5,00,000\",\"1,00,00,000\",\"50,00,000\",null,\"4,00,00,000\",\"50,00,000\",\"1,65,00,000\",\"2,34,000\",null,\"1,40,000\",null,\"50,00,000\",\"3,50,000\",\"2,50,000\",\"1,60,00,000\",\"5,00,00,000\",null,\"5,00,000\",null,null,\"5,00,000\",null,null,\"82,00,000\",null,\"30,00,000\",\"50,00,000\",null,null,\"40,00,000\",\"1,10,00,000\",\"1,20,000\",\"1,00,00,000\",\"31,00,000\",\"50,00,000\",null,null,\"5,00,000\",null,\"16,00,000\",\"60,00,000\",\"10,00,000\",null,null,null,null,\"1,50,00,000\",\"55,00,000\",\"5,00,000\",\"86,00,000\",\"60,00,000\",\"25,00,000\",\"2,50,000\",\"1,00,00,000\",null,\"10,00,000\",\"4,00,000\",null,null,null,\"25,00,000\",\"15,00,000\",\"10,00,00,000\",\"1,00,000\",\"5,50,000\",\"2,00,000\",\"10,00,000\",\"6,50,000\",\"2,50,000\",\"60,00,000\",\"1,50,00,000\",null,\"8,50,00,000\",\"1,50,00,000\",null,\"35,00,000\",\"1,00,00,000\",\"50,00,000\",\"10,00,000\",null,\"20,00,000\",\"1,50,000\",null,\"20,00,000\",\"20,00,000\",null,\"20,00,000\",null,null,null,\"50,00,000\",\"2,50,000\",\"2,70,000\",null,null,\"10,00,000\",\"1,60,00,000\",\"4,70,000\",\"10,00,000\",null,\"55,00,000\",\"1,00,00,000\",\"30,00,000\",null,\"6,25,000\",null,\"5,00,000\",null,\"5,00,000\",null,\"20,00,000\",\"2,00,000\",\"10,00,000\",\"10,00,000\",\"50,00,000\",\"1,80,000\",\"2,40,000\",\"50,00,000\",null,\"1,20,00,000\",\"20,00,000\",\"2,00,000\",\"10,00,000\",\"1,20,000\",\"1,65,000\",\"15,00,00,000\",\"22,00,000\",null,\"1,00,00,000\",\"2,50,00,000\",\"40,00,00,000\",\"2,00,000\",\"20,00,000\",\"1,65,000\",\"5,00,00,000\",null,\"9,00,000\",null,\"2,50,00,000\",\"1,00,00,000\",\"3,00,000\",\"5,00,000\",\"10,00,000\",\"12,50,000\",\"50,00,000\",\"3,50,00,000\",\"1,00,00,000\",\"4,00,00,000\",\"16,00,000\",\"12,00,000\",\"1,20,00,000\",null,null,\"40,00,000\",\"60,00,000\",\"5,00,00,000\",\"2,80,00,000\",null,\"35,00,000\",\"15,00,000\",\"1,50,00,000\",\"1,80,00,000\",\"18,00,000\",\"5,00,000\",\"10,00,000\",null,null,\"1,20,00,000\",\"3,50,000\",\"10,00,000\",\"4,00,000\",null,\"1,00,00,000\",null,\"2,50,000\",\"2,15,00,000\",\"10,00,000\",\"60,00,000\",\"35,00,000\",null,\"4,00,000\",\"5,00,000\",\"80,00,000\",\"55,00,000\",\"1,20,000\",\"1,50,00,000\",null,\"10,00,000\",\"25,00,000\",\"12,00,000\",\"25,00,000\",\"5,00,000\",null,\"10,00,000\",\"1,50,000\",\"50,00,000\",\"2,00,00,000\",null,\"1,50,00,000\",\"11,00,00,000\",null,\"50,00,000\",null,\"5,00,000\",\"2,00,000\",null,\"1,66,000\",\"13,00,000\",\"1,66,000\",\"5,00,00,000\",null,\"50,00,000\",\"2,00,000\",null,\"20,00,000\",\"28,00,000\",null,\"30,00,000\",\"1,80,000\",\"1,50,00,000\",null,\"1,20,000\",null,\"60,00,000\",\"1,60,000\",\"60,00,000\",\"5,00,000\",\"20,00,000\",null,\"2,50,00,000\",\"50,00,000\",\"17,50,000\",null,\"1,00,000\",\"1,00,000\",\"1,15,000\",\"3,00,00,000\",\"15,00,000\",\"1,00,00,000\",\"7,50,00,000\",\"30,00,000\",\"1,60,00,000\",\"1,60,00,000\",\"16,600\",\"16,600\",\"16,600\",\"16,600\",\"16,600\",\"16,600\",\"2,50,000\",\"10,00,000\",null,\"2,60,00,000\",\"3,25,000\",\"5,18,000\",\"6,00,00,000\",null,\"1,80,00,000\",null,\"1,00,000\",\"8,00,00,000\",\"4,00,00,000\",\"30,00,000\",null,\"2,00,00,000\",null,null,\"1,30,00,000\",\"30,00,000\",null,null,\"2,00,00,000\",\"3,00,00,000\",null,\"10,00,000\",\"1,65,00,000\",\"41,50,000\",\"10,00,000\",null,\"50,00,000\",\"8,00,000\",\"5,00,000\",\"16,00,000\",\"2,90,000\",\"45,00,000\",\"10,00,000\",\"1,00,00,000\",\"30,00,000\",\"5,00,000\",null,\"2,50,000\",\"1,60,000\",null,\"3,20,000\",\"20,00,000\",null,\"1,60,00,000\",\"12,00,000\",\"1,00,00,000\",\"21,50,000\",\"3,15,000\",\"3,80,000\",\"1,00,00,000\",\"1,35,000\",\"2,85,000\",null,\"1,00,00,000\",\"10,00,000\",\"6,00,000\",null,\"1,25,000\",null,\"30,768\",\"50,00,000\",null,\"1,30,00,000\",null,null,\"2,90,000\",null,\"5,00,00,000\",\"6,50,000\",\"1,61,000\",\"10,00,00,000\",\"3,30,000\",null,\"2,00,000\",\"16,000\",\"16,000\",\"16,000\",\"16,000\",\"16,000\",\"1,10,00,000\",null,\"2,00,000\",\"1,47,50,000\",\"3,25,000\",null,\"32,50,000\",\"2,00,000\",null,null,\"5,60,00,000\",\"3,10,00,000\",\"15,00,000\",null,\"10,00,000\",\"5,00,00,000\",\"25,00,000\",\"45,00,000\",\"8,25,000\",\"15,00,000\",null,\"1,40,000\"],\"yaxis\":\"y\",\"type\":\"scattergl\"}],                        {\"template\":{\"data\":{\"bar\":[{\"error_x\":{\"color\":\"#2a3f5f\"},\"error_y\":{\"color\":\"#2a3f5f\"},\"marker\":{\"line\":{\"color\":\"#E5ECF6\",\"width\":0.5},\"pattern\":{\"fillmode\":\"overlay\",\"size\":10,\"solidity\":0.2}},\"type\":\"bar\"}],\"barpolar\":[{\"marker\":{\"line\":{\"color\":\"#E5ECF6\",\"width\":0.5},\"pattern\":{\"fillmode\":\"overlay\",\"size\":10,\"solidity\":0.2}},\"type\":\"barpolar\"}],\"carpet\":[{\"aaxis\":{\"endlinecolor\":\"#2a3f5f\",\"gridcolor\":\"white\",\"linecolor\":\"white\",\"minorgridcolor\":\"white\",\"startlinecolor\":\"#2a3f5f\"},\"baxis\":{\"endlinecolor\":\"#2a3f5f\",\"gridcolor\":\"white\",\"linecolor\":\"white\",\"minorgridcolor\":\"white\",\"startlinecolor\":\"#2a3f5f\"},\"type\":\"carpet\"}],\"choropleth\":[{\"colorbar\":{\"outlinewidth\":0,\"ticks\":\"\"},\"type\":\"choropleth\"}],\"contour\":[{\"colorbar\":{\"outlinewidth\":0,\"ticks\":\"\"},\"colorscale\":[[0.0,\"#0d0887\"],[0.1111111111111111,\"#46039f\"],[0.2222222222222222,\"#7201a8\"],[0.3333333333333333,\"#9c179e\"],[0.4444444444444444,\"#bd3786\"],[0.5555555555555556,\"#d8576b\"],[0.6666666666666666,\"#ed7953\"],[0.7777777777777778,\"#fb9f3a\"],[0.8888888888888888,\"#fdca26\"],[1.0,\"#f0f921\"]],\"type\":\"contour\"}],\"contourcarpet\":[{\"colorbar\":{\"outlinewidth\":0,\"ticks\":\"\"},\"type\":\"contourcarpet\"}],\"heatmap\":[{\"colorbar\":{\"outlinewidth\":0,\"ticks\":\"\"},\"colorscale\":[[0.0,\"#0d0887\"],[0.1111111111111111,\"#46039f\"],[0.2222222222222222,\"#7201a8\"],[0.3333333333333333,\"#9c179e\"],[0.4444444444444444,\"#bd3786\"],[0.5555555555555556,\"#d8576b\"],[0.6666666666666666,\"#ed7953\"],[0.7777777777777778,\"#fb9f3a\"],[0.8888888888888888,\"#fdca26\"],[1.0,\"#f0f921\"]],\"type\":\"heatmap\"}],\"heatmapgl\":[{\"colorbar\":{\"outlinewidth\":0,\"ticks\":\"\"},\"colorscale\":[[0.0,\"#0d0887\"],[0.1111111111111111,\"#46039f\"],[0.2222222222222222,\"#7201a8\"],[0.3333333333333333,\"#9c179e\"],[0.4444444444444444,\"#bd3786\"],[0.5555555555555556,\"#d8576b\"],[0.6666666666666666,\"#ed7953\"],[0.7777777777777778,\"#fb9f3a\"],[0.8888888888888888,\"#fdca26\"],[1.0,\"#f0f921\"]],\"type\":\"heatmapgl\"}],\"histogram\":[{\"marker\":{\"pattern\":{\"fillmode\":\"overlay\",\"size\":10,\"solidity\":0.2}},\"type\":\"histogram\"}],\"histogram2d\":[{\"colorbar\":{\"outlinewidth\":0,\"ticks\":\"\"},\"colorscale\":[[0.0,\"#0d0887\"],[0.1111111111111111,\"#46039f\"],[0.2222222222222222,\"#7201a8\"],[0.3333333333333333,\"#9c179e\"],[0.4444444444444444,\"#bd3786\"],[0.5555555555555556,\"#d8576b\"],[0.6666666666666666,\"#ed7953\"],[0.7777777777777778,\"#fb9f3a\"],[0.8888888888888888,\"#fdca26\"],[1.0,\"#f0f921\"]],\"type\":\"histogram2d\"}],\"histogram2dcontour\":[{\"colorbar\":{\"outlinewidth\":0,\"ticks\":\"\"},\"colorscale\":[[0.0,\"#0d0887\"],[0.1111111111111111,\"#46039f\"],[0.2222222222222222,\"#7201a8\"],[0.3333333333333333,\"#9c179e\"],[0.4444444444444444,\"#bd3786\"],[0.5555555555555556,\"#d8576b\"],[0.6666666666666666,\"#ed7953\"],[0.7777777777777778,\"#fb9f3a\"],[0.8888888888888888,\"#fdca26\"],[1.0,\"#f0f921\"]],\"type\":\"histogram2dcontour\"}],\"mesh3d\":[{\"colorbar\":{\"outlinewidth\":0,\"ticks\":\"\"},\"type\":\"mesh3d\"}],\"parcoords\":[{\"line\":{\"colorbar\":{\"outlinewidth\":0,\"ticks\":\"\"}},\"type\":\"parcoords\"}],\"pie\":[{\"automargin\":true,\"type\":\"pie\"}],\"scatter\":[{\"marker\":{\"colorbar\":{\"outlinewidth\":0,\"ticks\":\"\"}},\"type\":\"scatter\"}],\"scatter3d\":[{\"line\":{\"colorbar\":{\"outlinewidth\":0,\"ticks\":\"\"}},\"marker\":{\"colorbar\":{\"outlinewidth\":0,\"ticks\":\"\"}},\"type\":\"scatter3d\"}],\"scattercarpet\":[{\"marker\":{\"colorbar\":{\"outlinewidth\":0,\"ticks\":\"\"}},\"type\":\"scattercarpet\"}],\"scattergeo\":[{\"marker\":{\"colorbar\":{\"outlinewidth\":0,\"ticks\":\"\"}},\"type\":\"scattergeo\"}],\"scattergl\":[{\"marker\":{\"colorbar\":{\"outlinewidth\":0,\"ticks\":\"\"}},\"type\":\"scattergl\"}],\"scattermapbox\":[{\"marker\":{\"colorbar\":{\"outlinewidth\":0,\"ticks\":\"\"}},\"type\":\"scattermapbox\"}],\"scatterpolar\":[{\"marker\":{\"colorbar\":{\"outlinewidth\":0,\"ticks\":\"\"}},\"type\":\"scatterpolar\"}],\"scatterpolargl\":[{\"marker\":{\"colorbar\":{\"outlinewidth\":0,\"ticks\":\"\"}},\"type\":\"scatterpolargl\"}],\"scatterternary\":[{\"marker\":{\"colorbar\":{\"outlinewidth\":0,\"ticks\":\"\"}},\"type\":\"scatterternary\"}],\"surface\":[{\"colorbar\":{\"outlinewidth\":0,\"ticks\":\"\"},\"colorscale\":[[0.0,\"#0d0887\"],[0.1111111111111111,\"#46039f\"],[0.2222222222222222,\"#7201a8\"],[0.3333333333333333,\"#9c179e\"],[0.4444444444444444,\"#bd3786\"],[0.5555555555555556,\"#d8576b\"],[0.6666666666666666,\"#ed7953\"],[0.7777777777777778,\"#fb9f3a\"],[0.8888888888888888,\"#fdca26\"],[1.0,\"#f0f921\"]],\"type\":\"surface\"}],\"table\":[{\"cells\":{\"fill\":{\"color\":\"#EBF0F8\"},\"line\":{\"color\":\"white\"}},\"header\":{\"fill\":{\"color\":\"#C8D4E3\"},\"line\":{\"color\":\"white\"}},\"type\":\"table\"}]},\"layout\":{\"annotationdefaults\":{\"arrowcolor\":\"#2a3f5f\",\"arrowhead\":0,\"arrowwidth\":1},\"autotypenumbers\":\"strict\",\"coloraxis\":{\"colorbar\":{\"outlinewidth\":0,\"ticks\":\"\"}},\"colorscale\":{\"diverging\":[[0,\"#8e0152\"],[0.1,\"#c51b7d\"],[0.2,\"#de77ae\"],[0.3,\"#f1b6da\"],[0.4,\"#fde0ef\"],[0.5,\"#f7f7f7\"],[0.6,\"#e6f5d0\"],[0.7,\"#b8e186\"],[0.8,\"#7fbc41\"],[0.9,\"#4d9221\"],[1,\"#276419\"]],\"sequential\":[[0.0,\"#0d0887\"],[0.1111111111111111,\"#46039f\"],[0.2222222222222222,\"#7201a8\"],[0.3333333333333333,\"#9c179e\"],[0.4444444444444444,\"#bd3786\"],[0.5555555555555556,\"#d8576b\"],[0.6666666666666666,\"#ed7953\"],[0.7777777777777778,\"#fb9f3a\"],[0.8888888888888888,\"#fdca26\"],[1.0,\"#f0f921\"]],\"sequentialminus\":[[0.0,\"#0d0887\"],[0.1111111111111111,\"#46039f\"],[0.2222222222222222,\"#7201a8\"],[0.3333333333333333,\"#9c179e\"],[0.4444444444444444,\"#bd3786\"],[0.5555555555555556,\"#d8576b\"],[0.6666666666666666,\"#ed7953\"],[0.7777777777777778,\"#fb9f3a\"],[0.8888888888888888,\"#fdca26\"],[1.0,\"#f0f921\"]]},\"colorway\":[\"#636efa\",\"#EF553B\",\"#00cc96\",\"#ab63fa\",\"#FFA15A\",\"#19d3f3\",\"#FF6692\",\"#B6E880\",\"#FF97FF\",\"#FECB52\"],\"font\":{\"color\":\"#2a3f5f\"},\"geo\":{\"bgcolor\":\"white\",\"lakecolor\":\"white\",\"landcolor\":\"#E5ECF6\",\"showlakes\":true,\"showland\":true,\"subunitcolor\":\"white\"},\"hoverlabel\":{\"align\":\"left\"},\"hovermode\":\"closest\",\"mapbox\":{\"style\":\"light\"},\"paper_bgcolor\":\"white\",\"plot_bgcolor\":\"#E5ECF6\",\"polar\":{\"angularaxis\":{\"gridcolor\":\"white\",\"linecolor\":\"white\",\"ticks\":\"\"},\"bgcolor\":\"#E5ECF6\",\"radialaxis\":{\"gridcolor\":\"white\",\"linecolor\":\"white\",\"ticks\":\"\"}},\"scene\":{\"xaxis\":{\"backgroundcolor\":\"#E5ECF6\",\"gridcolor\":\"white\",\"gridwidth\":2,\"linecolor\":\"white\",\"showbackground\":true,\"ticks\":\"\",\"zerolinecolor\":\"white\"},\"yaxis\":{\"backgroundcolor\":\"#E5ECF6\",\"gridcolor\":\"white\",\"gridwidth\":2,\"linecolor\":\"white\",\"showbackground\":true,\"ticks\":\"\",\"zerolinecolor\":\"white\"},\"zaxis\":{\"backgroundcolor\":\"#E5ECF6\",\"gridcolor\":\"white\",\"gridwidth\":2,\"linecolor\":\"white\",\"showbackground\":true,\"ticks\":\"\",\"zerolinecolor\":\"white\"}},\"shapedefaults\":{\"line\":{\"color\":\"#2a3f5f\"}},\"ternary\":{\"aaxis\":{\"gridcolor\":\"white\",\"linecolor\":\"white\",\"ticks\":\"\"},\"baxis\":{\"gridcolor\":\"white\",\"linecolor\":\"white\",\"ticks\":\"\"},\"bgcolor\":\"#E5ECF6\",\"caxis\":{\"gridcolor\":\"white\",\"linecolor\":\"white\",\"ticks\":\"\"}},\"title\":{\"x\":0.05},\"xaxis\":{\"automargin\":true,\"gridcolor\":\"white\",\"linecolor\":\"white\",\"ticks\":\"\",\"title\":{\"standoff\":15},\"zerolinecolor\":\"white\",\"zerolinewidth\":2},\"yaxis\":{\"automargin\":true,\"gridcolor\":\"white\",\"linecolor\":\"white\",\"ticks\":\"\",\"title\":{\"standoff\":15},\"zerolinecolor\":\"white\",\"zerolinewidth\":2}}},\"xaxis\":{\"anchor\":\"y\",\"domain\":[0.0,1.0],\"title\":{\"text\":\"City\"}},\"yaxis\":{\"anchor\":\"x\",\"domain\":[0.0,1.0],\"title\":{\"text\":\"AmountInUSD\"}},\"legend\":{\"tracegroupgap\":0},\"margin\":{\"t\":60}},                        {\"responsive\": true}                    ).then(function(){\n",
              "                            \n",
              "var gd = document.getElementById('07d17a5a-f368-4596-8d8c-d75727c88850');\n",
              "var x = new MutationObserver(function (mutations, observer) {{\n",
              "        var display = window.getComputedStyle(gd).display;\n",
              "        if (!display || display === 'none') {{\n",
              "            console.log([gd, 'removed!']);\n",
              "            Plotly.purge(gd);\n",
              "            observer.disconnect();\n",
              "        }}\n",
              "}});\n",
              "\n",
              "// Listen for the removal of the full notebook cells\n",
              "var notebookContainer = gd.closest('#notebook-container');\n",
              "if (notebookContainer) {{\n",
              "    x.observe(notebookContainer, {childList: true});\n",
              "}}\n",
              "\n",
              "// Listen for the clearing of the current output cell\n",
              "var outputEl = gd.closest('.output');\n",
              "if (outputEl) {{\n",
              "    x.observe(outputEl, {childList: true});\n",
              "}}\n",
              "\n",
              "                        })                };                            </script>        </div>\n",
              "</body>\n",
              "</html>"
            ]
          },
          "metadata": {}
        }
      ]
    },
    {
      "cell_type": "code",
      "source": [
        "data.groupby('City').count() # Groupby"
      ],
      "metadata": {
        "id": "9bHugNwe2uEV",
        "colab": {
          "base_uri": "https://localhost:8080/",
          "height": 455
        },
        "outputId": "7d492fd2-0f7a-4bae-d05c-77cb9526022e"
      },
      "execution_count": null,
      "outputs": [
        {
          "output_type": "execute_result",
          "data": {
            "text/plain": [
              "                     SNo  Date  StartupName  IndustryVertical  SubVertical  \\\n",
              "City                                                                         \n",
              "Agra                   2     2            2                 2            2   \n",
              "Ahemadabad             2     2            2                 2            2   \n",
              "Ahemdabad              1     1            1                 1            1   \n",
              "Ahmedabad             38    38           38                38           28   \n",
              "Amritsar               1     1            1                 1            1   \n",
              "...                  ...   ...          ...               ...          ...   \n",
              "\\\\xc2\\\\xa0Bangalore    1     1            1                 1            0   \n",
              "\\\\xc2\\\\xa0Gurgaon      4     4            4                 4            0   \n",
              "\\\\xc2\\\\xa0Mumbai       1     1            1                 1            0   \n",
              "\\\\xc2\\\\xa0New Delhi    3     3            3                 3            0   \n",
              "\\\\xc2\\\\xa0Noida        1     1            1                 1            0   \n",
              "\n",
              "                     InvestorsName  InvestmentType  AmountInUSD  Remarks  \n",
              "City                                                                      \n",
              "Agra                             2               2            0        0  \n",
              "Ahemadabad                       1               2            2        0  \n",
              "Ahemdabad                        1               1            0        0  \n",
              "Ahmedabad                       38              38           27        2  \n",
              "Amritsar                         1               1            1        0  \n",
              "...                            ...             ...          ...      ...  \n",
              "\\\\xc2\\\\xa0Bangalore              1               1            1        0  \n",
              "\\\\xc2\\\\xa0Gurgaon                4               4            4        1  \n",
              "\\\\xc2\\\\xa0Mumbai                 1               1            1        1  \n",
              "\\\\xc2\\\\xa0New Delhi              3               3            3        1  \n",
              "\\\\xc2\\\\xa0Noida                  1               1            1        1  \n",
              "\n",
              "[112 rows x 9 columns]"
            ],
            "text/html": [
              "\n",
              "  <div id=\"df-a6107403-7002-4091-87b2-96a0d092668e\">\n",
              "    <div class=\"colab-df-container\">\n",
              "      <div>\n",
              "<style scoped>\n",
              "    .dataframe tbody tr th:only-of-type {\n",
              "        vertical-align: middle;\n",
              "    }\n",
              "\n",
              "    .dataframe tbody tr th {\n",
              "        vertical-align: top;\n",
              "    }\n",
              "\n",
              "    .dataframe thead th {\n",
              "        text-align: right;\n",
              "    }\n",
              "</style>\n",
              "<table border=\"1\" class=\"dataframe\">\n",
              "  <thead>\n",
              "    <tr style=\"text-align: right;\">\n",
              "      <th></th>\n",
              "      <th>SNo</th>\n",
              "      <th>Date</th>\n",
              "      <th>StartupName</th>\n",
              "      <th>IndustryVertical</th>\n",
              "      <th>SubVertical</th>\n",
              "      <th>InvestorsName</th>\n",
              "      <th>InvestmentType</th>\n",
              "      <th>AmountInUSD</th>\n",
              "      <th>Remarks</th>\n",
              "    </tr>\n",
              "    <tr>\n",
              "      <th>City</th>\n",
              "      <th></th>\n",
              "      <th></th>\n",
              "      <th></th>\n",
              "      <th></th>\n",
              "      <th></th>\n",
              "      <th></th>\n",
              "      <th></th>\n",
              "      <th></th>\n",
              "      <th></th>\n",
              "    </tr>\n",
              "  </thead>\n",
              "  <tbody>\n",
              "    <tr>\n",
              "      <th>Agra</th>\n",
              "      <td>2</td>\n",
              "      <td>2</td>\n",
              "      <td>2</td>\n",
              "      <td>2</td>\n",
              "      <td>2</td>\n",
              "      <td>2</td>\n",
              "      <td>2</td>\n",
              "      <td>0</td>\n",
              "      <td>0</td>\n",
              "    </tr>\n",
              "    <tr>\n",
              "      <th>Ahemadabad</th>\n",
              "      <td>2</td>\n",
              "      <td>2</td>\n",
              "      <td>2</td>\n",
              "      <td>2</td>\n",
              "      <td>2</td>\n",
              "      <td>1</td>\n",
              "      <td>2</td>\n",
              "      <td>2</td>\n",
              "      <td>0</td>\n",
              "    </tr>\n",
              "    <tr>\n",
              "      <th>Ahemdabad</th>\n",
              "      <td>1</td>\n",
              "      <td>1</td>\n",
              "      <td>1</td>\n",
              "      <td>1</td>\n",
              "      <td>1</td>\n",
              "      <td>1</td>\n",
              "      <td>1</td>\n",
              "      <td>0</td>\n",
              "      <td>0</td>\n",
              "    </tr>\n",
              "    <tr>\n",
              "      <th>Ahmedabad</th>\n",
              "      <td>38</td>\n",
              "      <td>38</td>\n",
              "      <td>38</td>\n",
              "      <td>38</td>\n",
              "      <td>28</td>\n",
              "      <td>38</td>\n",
              "      <td>38</td>\n",
              "      <td>27</td>\n",
              "      <td>2</td>\n",
              "    </tr>\n",
              "    <tr>\n",
              "      <th>Amritsar</th>\n",
              "      <td>1</td>\n",
              "      <td>1</td>\n",
              "      <td>1</td>\n",
              "      <td>1</td>\n",
              "      <td>1</td>\n",
              "      <td>1</td>\n",
              "      <td>1</td>\n",
              "      <td>1</td>\n",
              "      <td>0</td>\n",
              "    </tr>\n",
              "    <tr>\n",
              "      <th>...</th>\n",
              "      <td>...</td>\n",
              "      <td>...</td>\n",
              "      <td>...</td>\n",
              "      <td>...</td>\n",
              "      <td>...</td>\n",
              "      <td>...</td>\n",
              "      <td>...</td>\n",
              "      <td>...</td>\n",
              "      <td>...</td>\n",
              "    </tr>\n",
              "    <tr>\n",
              "      <th>\\\\xc2\\\\xa0Bangalore</th>\n",
              "      <td>1</td>\n",
              "      <td>1</td>\n",
              "      <td>1</td>\n",
              "      <td>1</td>\n",
              "      <td>0</td>\n",
              "      <td>1</td>\n",
              "      <td>1</td>\n",
              "      <td>1</td>\n",
              "      <td>0</td>\n",
              "    </tr>\n",
              "    <tr>\n",
              "      <th>\\\\xc2\\\\xa0Gurgaon</th>\n",
              "      <td>4</td>\n",
              "      <td>4</td>\n",
              "      <td>4</td>\n",
              "      <td>4</td>\n",
              "      <td>0</td>\n",
              "      <td>4</td>\n",
              "      <td>4</td>\n",
              "      <td>4</td>\n",
              "      <td>1</td>\n",
              "    </tr>\n",
              "    <tr>\n",
              "      <th>\\\\xc2\\\\xa0Mumbai</th>\n",
              "      <td>1</td>\n",
              "      <td>1</td>\n",
              "      <td>1</td>\n",
              "      <td>1</td>\n",
              "      <td>0</td>\n",
              "      <td>1</td>\n",
              "      <td>1</td>\n",
              "      <td>1</td>\n",
              "      <td>1</td>\n",
              "    </tr>\n",
              "    <tr>\n",
              "      <th>\\\\xc2\\\\xa0New Delhi</th>\n",
              "      <td>3</td>\n",
              "      <td>3</td>\n",
              "      <td>3</td>\n",
              "      <td>3</td>\n",
              "      <td>0</td>\n",
              "      <td>3</td>\n",
              "      <td>3</td>\n",
              "      <td>3</td>\n",
              "      <td>1</td>\n",
              "    </tr>\n",
              "    <tr>\n",
              "      <th>\\\\xc2\\\\xa0Noida</th>\n",
              "      <td>1</td>\n",
              "      <td>1</td>\n",
              "      <td>1</td>\n",
              "      <td>1</td>\n",
              "      <td>0</td>\n",
              "      <td>1</td>\n",
              "      <td>1</td>\n",
              "      <td>1</td>\n",
              "      <td>1</td>\n",
              "    </tr>\n",
              "  </tbody>\n",
              "</table>\n",
              "<p>112 rows × 9 columns</p>\n",
              "</div>\n",
              "      <button class=\"colab-df-convert\" onclick=\"convertToInteractive('df-a6107403-7002-4091-87b2-96a0d092668e')\"\n",
              "              title=\"Convert this dataframe to an interactive table.\"\n",
              "              style=\"display:none;\">\n",
              "        \n",
              "  <svg xmlns=\"http://www.w3.org/2000/svg\" height=\"24px\"viewBox=\"0 0 24 24\"\n",
              "       width=\"24px\">\n",
              "    <path d=\"M0 0h24v24H0V0z\" fill=\"none\"/>\n",
              "    <path d=\"M18.56 5.44l.94 2.06.94-2.06 2.06-.94-2.06-.94-.94-2.06-.94 2.06-2.06.94zm-11 1L8.5 8.5l.94-2.06 2.06-.94-2.06-.94L8.5 2.5l-.94 2.06-2.06.94zm10 10l.94 2.06.94-2.06 2.06-.94-2.06-.94-.94-2.06-.94 2.06-2.06.94z\"/><path d=\"M17.41 7.96l-1.37-1.37c-.4-.4-.92-.59-1.43-.59-.52 0-1.04.2-1.43.59L10.3 9.45l-7.72 7.72c-.78.78-.78 2.05 0 2.83L4 21.41c.39.39.9.59 1.41.59.51 0 1.02-.2 1.41-.59l7.78-7.78 2.81-2.81c.8-.78.8-2.07 0-2.86zM5.41 20L4 18.59l7.72-7.72 1.47 1.35L5.41 20z\"/>\n",
              "  </svg>\n",
              "      </button>\n",
              "      \n",
              "  <style>\n",
              "    .colab-df-container {\n",
              "      display:flex;\n",
              "      flex-wrap:wrap;\n",
              "      gap: 12px;\n",
              "    }\n",
              "\n",
              "    .colab-df-convert {\n",
              "      background-color: #E8F0FE;\n",
              "      border: none;\n",
              "      border-radius: 50%;\n",
              "      cursor: pointer;\n",
              "      display: none;\n",
              "      fill: #1967D2;\n",
              "      height: 32px;\n",
              "      padding: 0 0 0 0;\n",
              "      width: 32px;\n",
              "    }\n",
              "\n",
              "    .colab-df-convert:hover {\n",
              "      background-color: #E2EBFA;\n",
              "      box-shadow: 0px 1px 2px rgba(60, 64, 67, 0.3), 0px 1px 3px 1px rgba(60, 64, 67, 0.15);\n",
              "      fill: #174EA6;\n",
              "    }\n",
              "\n",
              "    [theme=dark] .colab-df-convert {\n",
              "      background-color: #3B4455;\n",
              "      fill: #D2E3FC;\n",
              "    }\n",
              "\n",
              "    [theme=dark] .colab-df-convert:hover {\n",
              "      background-color: #434B5C;\n",
              "      box-shadow: 0px 1px 3px 1px rgba(0, 0, 0, 0.15);\n",
              "      filter: drop-shadow(0px 1px 2px rgba(0, 0, 0, 0.3));\n",
              "      fill: #FFFFFF;\n",
              "    }\n",
              "  </style>\n",
              "\n",
              "      <script>\n",
              "        const buttonEl =\n",
              "          document.querySelector('#df-a6107403-7002-4091-87b2-96a0d092668e button.colab-df-convert');\n",
              "        buttonEl.style.display =\n",
              "          google.colab.kernel.accessAllowed ? 'block' : 'none';\n",
              "\n",
              "        async function convertToInteractive(key) {\n",
              "          const element = document.querySelector('#df-a6107403-7002-4091-87b2-96a0d092668e');\n",
              "          const dataTable =\n",
              "            await google.colab.kernel.invokeFunction('convertToInteractive',\n",
              "                                                     [key], {});\n",
              "          if (!dataTable) return;\n",
              "\n",
              "          const docLinkHtml = 'Like what you see? Visit the ' +\n",
              "            '<a target=\"_blank\" href=https://colab.research.google.com/notebooks/data_table.ipynb>data table notebook</a>'\n",
              "            + ' to learn more about interactive tables.';\n",
              "          element.innerHTML = '';\n",
              "          dataTable['output_type'] = 'display_data';\n",
              "          await google.colab.output.renderOutput(dataTable, element);\n",
              "          const docLink = document.createElement('div');\n",
              "          docLink.innerHTML = docLinkHtml;\n",
              "          element.appendChild(docLink);\n",
              "        }\n",
              "      </script>\n",
              "    </div>\n",
              "  </div>\n",
              "  "
            ]
          },
          "metadata": {},
          "execution_count": 4
        }
      ]
    },
    {
      "cell_type": "code",
      "source": [
        "data.groupby('City').count().plot(kind='bar') # Groupby # BarGraph"
      ],
      "metadata": {
        "id": "fA5vIqxGtilA",
        "colab": {
          "base_uri": "https://localhost:8080/",
          "height": 414
        },
        "outputId": "9472c0a5-d2e9-430c-d5bb-abb601296294"
      },
      "execution_count": null,
      "outputs": [
        {
          "output_type": "execute_result",
          "data": {
            "text/plain": [
              "<matplotlib.axes._subplots.AxesSubplot at 0x7f6c275fa4d0>"
            ]
          },
          "metadata": {},
          "execution_count": 5
        },
        {
          "output_type": "display_data",
          "data": {
            "text/plain": [
              "<Figure size 432x288 with 1 Axes>"
            ],
            "image/png": "[encoded data removed]"
          },
          "metadata": {
            "needs_background": "light"
          }
        }
      ]
    },
    {
      "cell_type": "code",
      "source": [
        "total = data.isnull().sum().sort_values(ascending = False) # Adding all the null values from descending order\n",
        "print(total)"
      ],
      "metadata": {
        "id": "QG9p3MScm7mJ",
        "colab": {
          "base_uri": "https://localhost:8080/"
        },
        "outputId": "b53af311-df8a-4802-e5f9-4d3148ab9a2c"
      },
      "execution_count": null,
      "outputs": [
        {
          "output_type": "stream",
          "name": "stdout",
          "text": [
            "Remarks             2625\n",
            "AmountInUSD          960\n",
            "SubVertical          936\n",
            "City                 180\n",
            "IndustryVertical     171\n",
            "InvestorsName         24\n",
            "InvestmentType         4\n",
            "SNo                    0\n",
            "Date                   0\n",
            "StartupName            0\n",
            "dtype: int64\n"
          ]
        }
      ]
    },
    {
      "cell_type": "code",
      "source": [
        "# checking the column names of the data\n",
        "data.columns"
      ],
      "metadata": {
        "id": "d9iIpgtcm_ZN",
        "colab": {
          "base_uri": "https://localhost:8080/"
        },
        "outputId": "d73489e7-cb40-498e-99af-895cadb4d611"
      },
      "execution_count": null,
      "outputs": [
        {
          "output_type": "execute_result",
          "data": {
            "text/plain": [
              "Index(['SNo', 'Date', 'StartupName', 'IndustryVertical', 'SubVertical', 'City',\n",
              "       'InvestorsName', 'InvestmentType', 'AmountInUSD', 'Remarks'],\n",
              "      dtype='object')"
            ]
          },
          "metadata": {},
          "execution_count": 7
        }
      ]
    },
    {
      "cell_type": "markdown",
      "metadata": {
        "id": "dhfoqD_A9F5K"
      },
      "source": [
        "## Data Cleaning"
      ]
    },
    {
      "cell_type": "code",
      "execution_count": null,
      "metadata": {
        "id": "NgoXAT3I9F5K",
        "colab": {
          "base_uri": "https://localhost:8080/",
          "height": 363
        },
        "outputId": "0c21da04-55a4-4a10-938f-dd9124688677"
      },
      "outputs": [
        {
          "output_type": "execute_result",
          "data": {
            "text/plain": [
              "                  Total  Percent %\n",
              "Remarks            2625  86.235217\n",
              "AmountInUSD         960  31.537451\n",
              "SubVertical         936  30.749014\n",
              "City                180   5.913272\n",
              "IndustryVertical    171   5.617608\n",
              "InvestorsName        24   0.788436\n",
              "InvestmentType        4   0.131406\n",
              "SNo                   0   0.000000\n",
              "Date                  0   0.000000\n",
              "StartupName           0   0.000000"
            ],
            "text/html": [
              "\n",
              "  <div id=\"df-257a30c2-82bb-4e87-ac50-0ef54fcedc64\">\n",
              "    <div class=\"colab-df-container\">\n",
              "      <div>\n",
              "<style scoped>\n",
              "    .dataframe tbody tr th:only-of-type {\n",
              "        vertical-align: middle;\n",
              "    }\n",
              "\n",
              "    .dataframe tbody tr th {\n",
              "        vertical-align: top;\n",
              "    }\n",
              "\n",
              "    .dataframe thead th {\n",
              "        text-align: right;\n",
              "    }\n",
              "</style>\n",
              "<table border=\"1\" class=\"dataframe\">\n",
              "  <thead>\n",
              "    <tr style=\"text-align: right;\">\n",
              "      <th></th>\n",
              "      <th>Total</th>\n",
              "      <th>Percent %</th>\n",
              "    </tr>\n",
              "  </thead>\n",
              "  <tbody>\n",
              "    <tr>\n",
              "      <th>Remarks</th>\n",
              "      <td>2625</td>\n",
              "      <td>86.235217</td>\n",
              "    </tr>\n",
              "    <tr>\n",
              "      <th>AmountInUSD</th>\n",
              "      <td>960</td>\n",
              "      <td>31.537451</td>\n",
              "    </tr>\n",
              "    <tr>\n",
              "      <th>SubVertical</th>\n",
              "      <td>936</td>\n",
              "      <td>30.749014</td>\n",
              "    </tr>\n",
              "    <tr>\n",
              "      <th>City</th>\n",
              "      <td>180</td>\n",
              "      <td>5.913272</td>\n",
              "    </tr>\n",
              "    <tr>\n",
              "      <th>IndustryVertical</th>\n",
              "      <td>171</td>\n",
              "      <td>5.617608</td>\n",
              "    </tr>\n",
              "    <tr>\n",
              "      <th>InvestorsName</th>\n",
              "      <td>24</td>\n",
              "      <td>0.788436</td>\n",
              "    </tr>\n",
              "    <tr>\n",
              "      <th>InvestmentType</th>\n",
              "      <td>4</td>\n",
              "      <td>0.131406</td>\n",
              "    </tr>\n",
              "    <tr>\n",
              "      <th>SNo</th>\n",
              "      <td>0</td>\n",
              "      <td>0.000000</td>\n",
              "    </tr>\n",
              "    <tr>\n",
              "      <th>Date</th>\n",
              "      <td>0</td>\n",
              "      <td>0.000000</td>\n",
              "    </tr>\n",
              "    <tr>\n",
              "      <th>StartupName</th>\n",
              "      <td>0</td>\n",
              "      <td>0.000000</td>\n",
              "    </tr>\n",
              "  </tbody>\n",
              "</table>\n",
              "</div>\n",
              "      <button class=\"colab-df-convert\" onclick=\"convertToInteractive('df-257a30c2-82bb-4e87-ac50-0ef54fcedc64')\"\n",
              "              title=\"Convert this dataframe to an interactive table.\"\n",
              "              style=\"display:none;\">\n",
              "        \n",
              "  <svg xmlns=\"http://www.w3.org/2000/svg\" height=\"24px\"viewBox=\"0 0 24 24\"\n",
              "       width=\"24px\">\n",
              "    <path d=\"M0 0h24v24H0V0z\" fill=\"none\"/>\n",
              "    <path d=\"M18.56 5.44l.94 2.06.94-2.06 2.06-.94-2.06-.94-.94-2.06-.94 2.06-2.06.94zm-11 1L8.5 8.5l.94-2.06 2.06-.94-2.06-.94L8.5 2.5l-.94 2.06-2.06.94zm10 10l.94 2.06.94-2.06 2.06-.94-2.06-.94-.94-2.06-.94 2.06-2.06.94z\"/><path d=\"M17.41 7.96l-1.37-1.37c-.4-.4-.92-.59-1.43-.59-.52 0-1.04.2-1.43.59L10.3 9.45l-7.72 7.72c-.78.78-.78 2.05 0 2.83L4 21.41c.39.39.9.59 1.41.59.51 0 1.02-.2 1.41-.59l7.78-7.78 2.81-2.81c.8-.78.8-2.07 0-2.86zM5.41 20L4 18.59l7.72-7.72 1.47 1.35L5.41 20z\"/>\n",
              "  </svg>\n",
              "      </button>\n",
              "      \n",
              "  <style>\n",
              "    .colab-df-container {\n",
              "      display:flex;\n",
              "      flex-wrap:wrap;\n",
              "      gap: 12px;\n",
              "    }\n",
              "\n",
              "    .colab-df-convert {\n",
              "      background-color: #E8F0FE;\n",
              "      border: none;\n",
              "      border-radius: 50%;\n",
              "      cursor: pointer;\n",
              "      display: none;\n",
              "      fill: #1967D2;\n",
              "      height: 32px;\n",
              "      padding: 0 0 0 0;\n",
              "      width: 32px;\n",
              "    }\n",
              "\n",
              "    .colab-df-convert:hover {\n",
              "      background-color: #E2EBFA;\n",
              "      box-shadow: 0px 1px 2px rgba(60, 64, 67, 0.3), 0px 1px 3px 1px rgba(60, 64, 67, 0.15);\n",
              "      fill: #174EA6;\n",
              "    }\n",
              "\n",
              "    [theme=dark] .colab-df-convert {\n",
              "      background-color: #3B4455;\n",
              "      fill: #D2E3FC;\n",
              "    }\n",
              "\n",
              "    [theme=dark] .colab-df-convert:hover {\n",
              "      background-color: #434B5C;\n",
              "      box-shadow: 0px 1px 3px 1px rgba(0, 0, 0, 0.15);\n",
              "      filter: drop-shadow(0px 1px 2px rgba(0, 0, 0, 0.3));\n",
              "      fill: #FFFFFF;\n",
              "    }\n",
              "  </style>\n",
              "\n",
              "      <script>\n",
              "        const buttonEl =\n",
              "          document.querySelector('#df-257a30c2-82bb-4e87-ac50-0ef54fcedc64 button.colab-df-convert');\n",
              "        buttonEl.style.display =\n",
              "          google.colab.kernel.accessAllowed ? 'block' : 'none';\n",
              "\n",
              "        async function convertToInteractive(key) {\n",
              "          const element = document.querySelector('#df-257a30c2-82bb-4e87-ac50-0ef54fcedc64');\n",
              "          const dataTable =\n",
              "            await google.colab.kernel.invokeFunction('convertToInteractive',\n",
              "                                                     [key], {});\n",
              "          if (!dataTable) return;\n",
              "\n",
              "          const docLinkHtml = 'Like what you see? Visit the ' +\n",
              "            '<a target=\"_blank\" href=https://colab.research.google.com/notebooks/data_table.ipynb>data table notebook</a>'\n",
              "            + ' to learn more about interactive tables.';\n",
              "          element.innerHTML = '';\n",
              "          dataTable['output_type'] = 'display_data';\n",
              "          await google.colab.output.renderOutput(dataTable, element);\n",
              "          const docLink = document.createElement('div');\n",
              "          docLink.innerHTML = docLinkHtml;\n",
              "          element.appendChild(docLink);\n",
              "        }\n",
              "      </script>\n",
              "    </div>\n",
              "  </div>\n",
              "  "
            ]
          },
          "metadata": {},
          "execution_count": 8
        }
      ],
      "source": [
        "# missing data \n",
        "\n",
        "# lets import warnings module\n",
        "import warnings\n",
        "warnings.filterwarnings('ignore')\n",
        "\n",
        "# lets calculate the total missing values in the data\n",
        "total = data.isnull().sum().sort_values(ascending = False)\n",
        "\n",
        "# lets calculate the percentage of missing values in the data\n",
        "percent = ((data.isnull().sum()/data.isnull().count())*100).sort_values(ascending = False)\n",
        "\n",
        "# lets store the above two values in a dataset called missing data\n",
        "missing_data = pd.concat([total, percent], axis=1, keys=['Total', 'Percent %'])\n",
        "\n",
        "# lets check the head of the data\n",
        "missing_data\n"
      ]
    },
    {
      "cell_type": "code",
      "source": [
        "total"
      ],
      "metadata": {
        "id": "0Heks6LPndv4",
        "colab": {
          "base_uri": "https://localhost:8080/"
        },
        "outputId": "7ecc5d40-6b9e-430b-93b8-8e1a71199ae4"
      },
      "execution_count": null,
      "outputs": [
        {
          "output_type": "execute_result",
          "data": {
            "text/plain": [
              "Remarks             2625\n",
              "AmountInUSD          960\n",
              "SubVertical          936\n",
              "City                 180\n",
              "IndustryVertical     171\n",
              "InvestorsName         24\n",
              "InvestmentType         4\n",
              "SNo                    0\n",
              "Date                   0\n",
              "StartupName            0\n",
              "dtype: int64"
            ]
          },
          "metadata": {},
          "execution_count": 9
        }
      ]
    },
    {
      "cell_type": "code",
      "source": [
        "# lets check the values in the Remarks column\n",
        "data['Remarks'].value_counts()"
      ],
      "metadata": {
        "id": "WX0u6s9YngZJ",
        "colab": {
          "base_uri": "https://localhost:8080/"
        },
        "outputId": "db4aaa36-f645-4307-8ebb-5894e8f37479"
      },
      "execution_count": null,
      "outputs": [
        {
          "output_type": "execute_result",
          "data": {
            "text/plain": [
              "Series A                             175\n",
              "Series B                              63\n",
              "Pre-Series A                          37\n",
              "Series C                              28\n",
              "Series D                              11\n",
              "                                    ... \n",
              "Pre Series-A                           1\n",
              "QPrize Contest Winners                 1\n",
              "pre-series A                           1\n",
              "Personal Investment                    1\n",
              "Strategic Funding, Minority stake      1\n",
              "Name: Remarks, Length: 72, dtype: int64"
            ]
          },
          "metadata": {},
          "execution_count": 10
        }
      ]
    },
    {
      "cell_type": "code",
      "source": [
        "# lets remove Remarks column, as it contains a lot of nans, and high cardinal column\n",
        "\n",
        "data = data.drop(['Remarks'], axis = 1)\n",
        "\n",
        "# lets check the column names after removing the Remarks Column, as it having \n",
        "data.columns"
      ],
      "metadata": {
        "id": "3LEF12f6nlao",
        "colab": {
          "base_uri": "https://localhost:8080/"
        },
        "outputId": "be70b22c-c0da-4cbc-d354-e6816685dc5a"
      },
      "execution_count": null,
      "outputs": [
        {
          "output_type": "execute_result",
          "data": {
            "text/plain": [
              "Index(['SNo', 'Date', 'StartupName', 'IndustryVertical', 'SubVertical', 'City',\n",
              "       'InvestorsName', 'InvestmentType', 'AmountInUSD'],\n",
              "      dtype='object')"
            ]
          },
          "metadata": {},
          "execution_count": 11
        }
      ]
    },
    {
      "cell_type": "code",
      "source": [
        "## Cleaning the dates\n",
        "\n",
        "data['Date'][data['Date']=='12/05.2015'] = '12/05/2015'\n",
        "data['Date'][data['Date']=='13/04.2015'] = '13/04/2015'\n",
        "data['Date'][data['Date']=='15/01.2015'] = '15/01/2015'\n",
        "data['Date'][data['Date']=='22/01//2015'] = '22/01/2015'\n",
        "data['Date'][data['Date']=='05/072018'] = '05/07/2018'\n",
        "data['Date'][data['Date']=='01/07/015'] = '01/07/2015'\n",
        "data['Date'][data['Date']=='\\\\\\\\xc2\\\\\\\\xa010/7/2015'] = '10/07/2015'"
      ],
      "metadata": {
        "id": "2SbwSRJBn4Jz"
      },
      "execution_count": null,
      "outputs": []
    },
    {
      "cell_type": "code",
      "source": [
        "import ipywidgets # univariate and bivariate analysis\n",
        "from ipywidgets import interact, interact_manual\n",
        "import plotly.express as px\n",
        "import seaborn as sns"
      ],
      "metadata": {
        "id": "g00i9VQb4nuY"
      },
      "execution_count": null,
      "outputs": []
    },
    {
      "cell_type": "code",
      "source": [
        " #Bivariate Analysis\n",
        "@interact_manual\n",
        "def uni(x=list(data.select_dtypes('object').columns[1:])):\n",
        "  sns.countplot(data[x])"
      ],
      "metadata": {
        "colab": {
          "base_uri": "https://localhost:8080/",
          "height": 343,
          "referenced_widgets": [
            "33e0c604409d497698edcad38517a5d1",
            "0a4dcd7b4f114e6199375616816beb29",
            "a6ff204d6f8547e2ad45ec18507868b5",
            "2e273a9cbf354723aa7a26d77c8887dd",
            "d00df8dabd98460487e67c452b8af7ad",
            "250da2f9f8664365b6e36fba61be66c0",
            "b7eae7c8bf524d4ebf51e71dc202498d",
            "053345955adb42388d995ef9b95d45bf",
            "f819a61310e54ff8a904984f84751fc9",
            "7594d9568225448b9ace0ebe30859e5a"
          ]
        },
        "id": "OG-SNB-u5Bz4",
        "outputId": "495581e7-aeee-4d34-cfb8-544eb80ed845"
      },
      "execution_count": null,
      "outputs": [
        {
          "output_type": "display_data",
          "data": {
            "text/plain": [
              "interactive(children=(Dropdown(description='x', options=('StartupName', 'IndustryVertical', 'SubVertical', 'Ci…"
            ],
            "application/vnd.jupyter.widget-view+json": {
              "version_major": 2,
              "version_minor": 0,
              "model_id": "33e0c604409d497698edcad38517a5d1"
            }
          },
          "metadata": {}
        }
      ]
    },
    {
      "cell_type": "markdown",
      "metadata": {
        "id": "p96dgds29F5M"
      },
      "source": [
        "## How Does the Funding Ecosystem changes with respect to Time?"
      ]
    },
    {
      "cell_type": "code",
      "source": [
        "# some of the date formats are written wrongly so we have to clean them thoroughly so that we can analyze these values\n",
        "import pandas as plt\n",
        "# converting them into a Datetime object\n",
        "data[\"yearmonth\"] = (pd.to_datetime(data['Date'],\n",
        "                                    format='%dd/%mm/%YY').dt.year*100)+(pd.to_datetime(data['Date'],format='%d/%m/%Y').dt.month)\n",
        "\n",
        "\n",
        "temp = data['yearmonth'].value_counts().sort_values(ascending = False).head(10)\n",
        "print(\"Number of funding per month in decreasing order(Top 10)\\n\",temp)\n",
        "year_month = data['yearmonth'].value_counts()\n",
        "\n",
        "# lets plot the data\n",
        "plt.rcParams['figure.figsize'] = (15, 7)\n",
        "sns.barplot(year_month.index, year_month.values, palette = 'copper')\n",
        "plt.xticks(rotation = 90)\n",
        "plt.xlabel('Year-Month of transaction', fontsize=12)\n",
        "plt.ylabel('Number of fundings made', fontsize=12)\n",
        "plt.title(\"Year-Month Distribution\", fontsize=16)\n",
        "plt.show()"
      ],
      "metadata": {
        "id": "Z3r_qDwAoE-H",
        "colab": {
          "base_uri": "https://localhost:8080/",
          "height": 363
        },
        "outputId": "c7f051cb-7a24-424b-b034-d9cfab380148"
      },
      "execution_count": null,
      "outputs": [
        {
          "output_type": "error",
          "ename": "ValueError",
          "evalue": "ignored",
          "traceback": [
            "\u001b[0;31m---------------------------------------------------------------------------\u001b[0m",
            "\u001b[0;31mTypeError\u001b[0m                                 Traceback (most recent call last)",
            "\u001b[0;32m/usr/local/lib/python3.7/dist-packages/pandas/core/tools/datetimes.py\u001b[0m in \u001b[0;36m_to_datetime_with_format\u001b[0;34m(arg, orig_arg, name, tz, fmt, exact, errors, infer_datetime_format)\u001b[0m\n\u001b[1;32m    508\u001b[0m         \u001b[0;32mtry\u001b[0m\u001b[0;34m:\u001b[0m\u001b[0;34m\u001b[0m\u001b[0;34m\u001b[0m\u001b[0m\n\u001b[0;32m--> 509\u001b[0;31m             \u001b[0mvalues\u001b[0m\u001b[0;34m,\u001b[0m \u001b[0mtz\u001b[0m \u001b[0;34m=\u001b[0m \u001b[0mconversion\u001b[0m\u001b[0;34m.\u001b[0m\u001b[0mdatetime_to_datetime64\u001b[0m\u001b[0;34m(\u001b[0m\u001b[0marg\u001b[0m\u001b[0;34m)\u001b[0m\u001b[0;34m\u001b[0m\u001b[0;34m\u001b[0m\u001b[0m\n\u001b[0m\u001b[1;32m    510\u001b[0m             \u001b[0mdta\u001b[0m \u001b[0;34m=\u001b[0m \u001b[0mDatetimeArray\u001b[0m\u001b[0;34m(\u001b[0m\u001b[0mvalues\u001b[0m\u001b[0;34m,\u001b[0m \u001b[0mdtype\u001b[0m\u001b[0;34m=\u001b[0m\u001b[0mtz_to_dtype\u001b[0m\u001b[0;34m(\u001b[0m\u001b[0mtz\u001b[0m\u001b[0;34m)\u001b[0m\u001b[0;34m)\u001b[0m\u001b[0;34m\u001b[0m\u001b[0;34m\u001b[0m\u001b[0m\n",
            "\u001b[0;32m/usr/local/lib/python3.7/dist-packages/pandas/_libs/tslibs/conversion.pyx\u001b[0m in \u001b[0;36mpandas._libs.tslibs.conversion.datetime_to_datetime64\u001b[0;34m()\u001b[0m\n",
            "\u001b[0;31mTypeError\u001b[0m: Unrecognized value type: <class 'str'>",
            "\nDuring handling of the above exception, another exception occurred:\n",
            "\u001b[0;31mValueError\u001b[0m                                Traceback (most recent call last)",
            "\u001b[0;32m<ipython-input-2-1048077b8333>\u001b[0m in \u001b[0;36m<module>\u001b[0;34m\u001b[0m\n\u001b[1;32m      3\u001b[0m \u001b[0;31m# converting them into a Datetime object\u001b[0m\u001b[0;34m\u001b[0m\u001b[0;34m\u001b[0m\u001b[0;34m\u001b[0m\u001b[0m\n\u001b[1;32m      4\u001b[0m data[\"yearmonth\"] = (pd.to_datetime(data['Date'],\n\u001b[0;32m----> 5\u001b[0;31m                                     format='%d/%m/%Y').dt.year*100)+(pd.to_datetime(data['Date'],format='%d/%m/%Y').dt.month)\n\u001b[0m\u001b[1;32m      6\u001b[0m \u001b[0;34m\u001b[0m\u001b[0m\n\u001b[1;32m      7\u001b[0m \u001b[0;34m\u001b[0m\u001b[0m\n",
            "\u001b[0;32m/usr/local/lib/python3.7/dist-packages/pandas/core/tools/datetimes.py\u001b[0m in \u001b[0;36mto_datetime\u001b[0;34m(arg, errors, dayfirst, yearfirst, utc, format, exact, unit, infer_datetime_format, origin, cache)\u001b[0m\n\u001b[1;32m    881\u001b[0m                 \u001b[0mresult\u001b[0m \u001b[0;34m=\u001b[0m \u001b[0mresult\u001b[0m\u001b[0;34m.\u001b[0m\u001b[0mtz_localize\u001b[0m\u001b[0;34m(\u001b[0m\u001b[0mtz\u001b[0m\u001b[0;34m)\u001b[0m  \u001b[0;31m# type: ignore[call-arg]\u001b[0m\u001b[0;34m\u001b[0m\u001b[0;34m\u001b[0m\u001b[0m\n\u001b[1;32m    882\u001b[0m     \u001b[0;32melif\u001b[0m \u001b[0misinstance\u001b[0m\u001b[0;34m(\u001b[0m\u001b[0marg\u001b[0m\u001b[0;34m,\u001b[0m \u001b[0mABCSeries\u001b[0m\u001b[0;34m)\u001b[0m\u001b[0;34m:\u001b[0m\u001b[0;34m\u001b[0m\u001b[0;34m\u001b[0m\u001b[0m\n\u001b[0;32m--> 883\u001b[0;31m         \u001b[0mcache_array\u001b[0m \u001b[0;34m=\u001b[0m \u001b[0m_maybe_cache\u001b[0m\u001b[0;34m(\u001b[0m\u001b[0marg\u001b[0m\u001b[0;34m,\u001b[0m \u001b[0mformat\u001b[0m\u001b[0;34m,\u001b[0m \u001b[0mcache\u001b[0m\u001b[0;34m,\u001b[0m \u001b[0mconvert_listlike\u001b[0m\u001b[0;34m)\u001b[0m\u001b[0;34m\u001b[0m\u001b[0;34m\u001b[0m\u001b[0m\n\u001b[0m\u001b[1;32m    884\u001b[0m         \u001b[0;32mif\u001b[0m \u001b[0;32mnot\u001b[0m \u001b[0mcache_array\u001b[0m\u001b[0;34m.\u001b[0m\u001b[0mempty\u001b[0m\u001b[0;34m:\u001b[0m\u001b[0;34m\u001b[0m\u001b[0;34m\u001b[0m\u001b[0m\n\u001b[1;32m    885\u001b[0m             \u001b[0mresult\u001b[0m \u001b[0;34m=\u001b[0m \u001b[0marg\u001b[0m\u001b[0;34m.\u001b[0m\u001b[0mmap\u001b[0m\u001b[0;34m(\u001b[0m\u001b[0mcache_array\u001b[0m\u001b[0;34m)\u001b[0m\u001b[0;34m\u001b[0m\u001b[0;34m\u001b[0m\u001b[0m\n",
            "\u001b[0;32m/usr/local/lib/python3.7/dist-packages/pandas/core/tools/datetimes.py\u001b[0m in \u001b[0;36m_maybe_cache\u001b[0;34m(arg, format, cache, convert_listlike)\u001b[0m\n\u001b[1;32m    193\u001b[0m         \u001b[0munique_dates\u001b[0m \u001b[0;34m=\u001b[0m \u001b[0munique\u001b[0m\u001b[0;34m(\u001b[0m\u001b[0marg\u001b[0m\u001b[0;34m)\u001b[0m\u001b[0;34m\u001b[0m\u001b[0;34m\u001b[0m\u001b[0m\n\u001b[1;32m    194\u001b[0m         \u001b[0;32mif\u001b[0m \u001b[0mlen\u001b[0m\u001b[0;34m(\u001b[0m\u001b[0munique_dates\u001b[0m\u001b[0;34m)\u001b[0m \u001b[0;34m<\u001b[0m \u001b[0mlen\u001b[0m\u001b[0;34m(\u001b[0m\u001b[0marg\u001b[0m\u001b[0;34m)\u001b[0m\u001b[0;34m:\u001b[0m\u001b[0;34m\u001b[0m\u001b[0;34m\u001b[0m\u001b[0m\n\u001b[0;32m--> 195\u001b[0;31m             \u001b[0mcache_dates\u001b[0m \u001b[0;34m=\u001b[0m \u001b[0mconvert_listlike\u001b[0m\u001b[0;34m(\u001b[0m\u001b[0munique_dates\u001b[0m\u001b[0;34m,\u001b[0m \u001b[0mformat\u001b[0m\u001b[0;34m)\u001b[0m\u001b[0;34m\u001b[0m\u001b[0;34m\u001b[0m\u001b[0m\n\u001b[0m\u001b[1;32m    196\u001b[0m             \u001b[0mcache_array\u001b[0m \u001b[0;34m=\u001b[0m \u001b[0mSeries\u001b[0m\u001b[0;34m(\u001b[0m\u001b[0mcache_dates\u001b[0m\u001b[0;34m,\u001b[0m \u001b[0mindex\u001b[0m\u001b[0;34m=\u001b[0m\u001b[0munique_dates\u001b[0m\u001b[0;34m)\u001b[0m\u001b[0;34m\u001b[0m\u001b[0;34m\u001b[0m\u001b[0m\n\u001b[1;32m    197\u001b[0m             \u001b[0;31m# GH#39882 and GH#35888 in case of None and NaT we get duplicates\u001b[0m\u001b[0;34m\u001b[0m\u001b[0;34m\u001b[0m\u001b[0;34m\u001b[0m\u001b[0m\n",
            "\u001b[0;32m/usr/local/lib/python3.7/dist-packages/pandas/core/tools/datetimes.py\u001b[0m in \u001b[0;36m_convert_listlike_datetimes\u001b[0;34m(arg, format, name, tz, unit, errors, infer_datetime_format, dayfirst, yearfirst, exact)\u001b[0m\n\u001b[1;32m    392\u001b[0m     \u001b[0;32mif\u001b[0m \u001b[0mformat\u001b[0m \u001b[0;32mis\u001b[0m \u001b[0;32mnot\u001b[0m \u001b[0;32mNone\u001b[0m\u001b[0;34m:\u001b[0m\u001b[0;34m\u001b[0m\u001b[0;34m\u001b[0m\u001b[0m\n\u001b[1;32m    393\u001b[0m         res = _to_datetime_with_format(\n\u001b[0;32m--> 394\u001b[0;31m             \u001b[0marg\u001b[0m\u001b[0;34m,\u001b[0m \u001b[0morig_arg\u001b[0m\u001b[0;34m,\u001b[0m \u001b[0mname\u001b[0m\u001b[0;34m,\u001b[0m \u001b[0mtz\u001b[0m\u001b[0;34m,\u001b[0m \u001b[0mformat\u001b[0m\u001b[0;34m,\u001b[0m \u001b[0mexact\u001b[0m\u001b[0;34m,\u001b[0m \u001b[0merrors\u001b[0m\u001b[0;34m,\u001b[0m \u001b[0minfer_datetime_format\u001b[0m\u001b[0;34m\u001b[0m\u001b[0;34m\u001b[0m\u001b[0m\n\u001b[0m\u001b[1;32m    395\u001b[0m         )\n\u001b[1;32m    396\u001b[0m         \u001b[0;32mif\u001b[0m \u001b[0mres\u001b[0m \u001b[0;32mis\u001b[0m \u001b[0;32mnot\u001b[0m \u001b[0;32mNone\u001b[0m\u001b[0;34m:\u001b[0m\u001b[0;34m\u001b[0m\u001b[0;34m\u001b[0m\u001b[0m\n",
            "\u001b[0;32m/usr/local/lib/python3.7/dist-packages/pandas/core/tools/datetimes.py\u001b[0m in \u001b[0;36m_to_datetime_with_format\u001b[0;34m(arg, orig_arg, name, tz, fmt, exact, errors, infer_datetime_format)\u001b[0m\n\u001b[1;32m    511\u001b[0m             \u001b[0;32mreturn\u001b[0m \u001b[0mDatetimeIndex\u001b[0m\u001b[0;34m.\u001b[0m\u001b[0m_simple_new\u001b[0m\u001b[0;34m(\u001b[0m\u001b[0mdta\u001b[0m\u001b[0;34m,\u001b[0m \u001b[0mname\u001b[0m\u001b[0;34m=\u001b[0m\u001b[0mname\u001b[0m\u001b[0;34m)\u001b[0m\u001b[0;34m\u001b[0m\u001b[0;34m\u001b[0m\u001b[0m\n\u001b[1;32m    512\u001b[0m         \u001b[0;32mexcept\u001b[0m \u001b[0;34m(\u001b[0m\u001b[0mValueError\u001b[0m\u001b[0;34m,\u001b[0m \u001b[0mTypeError\u001b[0m\u001b[0;34m)\u001b[0m\u001b[0;34m:\u001b[0m\u001b[0;34m\u001b[0m\u001b[0;34m\u001b[0m\u001b[0m\n\u001b[0;32m--> 513\u001b[0;31m             \u001b[0;32mraise\u001b[0m \u001b[0merr\u001b[0m\u001b[0;34m\u001b[0m\u001b[0;34m\u001b[0m\u001b[0m\n\u001b[0m\u001b[1;32m    514\u001b[0m \u001b[0;34m\u001b[0m\u001b[0m\n\u001b[1;32m    515\u001b[0m \u001b[0;34m\u001b[0m\u001b[0m\n",
            "\u001b[0;32m/usr/local/lib/python3.7/dist-packages/pandas/core/tools/datetimes.py\u001b[0m in \u001b[0;36m_to_datetime_with_format\u001b[0;34m(arg, orig_arg, name, tz, fmt, exact, errors, infer_datetime_format)\u001b[0m\n\u001b[1;32m    499\u001b[0m         \u001b[0;31m# fallback\u001b[0m\u001b[0;34m\u001b[0m\u001b[0;34m\u001b[0m\u001b[0;34m\u001b[0m\u001b[0m\n\u001b[1;32m    500\u001b[0m         res = _array_strptime_with_fallback(\n\u001b[0;32m--> 501\u001b[0;31m             \u001b[0marg\u001b[0m\u001b[0;34m,\u001b[0m \u001b[0mname\u001b[0m\u001b[0;34m,\u001b[0m \u001b[0mtz\u001b[0m\u001b[0;34m,\u001b[0m \u001b[0mfmt\u001b[0m\u001b[0;34m,\u001b[0m \u001b[0mexact\u001b[0m\u001b[0;34m,\u001b[0m \u001b[0merrors\u001b[0m\u001b[0;34m,\u001b[0m \u001b[0minfer_datetime_format\u001b[0m\u001b[0;34m\u001b[0m\u001b[0;34m\u001b[0m\u001b[0m\n\u001b[0m\u001b[1;32m    502\u001b[0m         )\n\u001b[1;32m    503\u001b[0m         \u001b[0;32mreturn\u001b[0m \u001b[0mres\u001b[0m\u001b[0;34m\u001b[0m\u001b[0;34m\u001b[0m\u001b[0m\n",
            "\u001b[0;32m/usr/local/lib/python3.7/dist-packages/pandas/core/tools/datetimes.py\u001b[0m in \u001b[0;36m_array_strptime_with_fallback\u001b[0;34m(arg, name, tz, fmt, exact, errors, infer_datetime_format)\u001b[0m\n\u001b[1;32m    434\u001b[0m \u001b[0;34m\u001b[0m\u001b[0m\n\u001b[1;32m    435\u001b[0m     \u001b[0;32mtry\u001b[0m\u001b[0;34m:\u001b[0m\u001b[0;34m\u001b[0m\u001b[0;34m\u001b[0m\u001b[0m\n\u001b[0;32m--> 436\u001b[0;31m         \u001b[0mresult\u001b[0m\u001b[0;34m,\u001b[0m \u001b[0mtimezones\u001b[0m \u001b[0;34m=\u001b[0m \u001b[0marray_strptime\u001b[0m\u001b[0;34m(\u001b[0m\u001b[0marg\u001b[0m\u001b[0;34m,\u001b[0m \u001b[0mfmt\u001b[0m\u001b[0;34m,\u001b[0m \u001b[0mexact\u001b[0m\u001b[0;34m=\u001b[0m\u001b[0mexact\u001b[0m\u001b[0;34m,\u001b[0m \u001b[0merrors\u001b[0m\u001b[0;34m=\u001b[0m\u001b[0merrors\u001b[0m\u001b[0;34m)\u001b[0m\u001b[0;34m\u001b[0m\u001b[0;34m\u001b[0m\u001b[0m\n\u001b[0m\u001b[1;32m    437\u001b[0m         \u001b[0;32mif\u001b[0m \u001b[0;34m\"%Z\"\u001b[0m \u001b[0;32min\u001b[0m \u001b[0mfmt\u001b[0m \u001b[0;32mor\u001b[0m \u001b[0;34m\"%z\"\u001b[0m \u001b[0;32min\u001b[0m \u001b[0mfmt\u001b[0m\u001b[0;34m:\u001b[0m\u001b[0;34m\u001b[0m\u001b[0;34m\u001b[0m\u001b[0m\n\u001b[1;32m    438\u001b[0m             \u001b[0;32mreturn\u001b[0m \u001b[0m_return_parsed_timezone_results\u001b[0m\u001b[0;34m(\u001b[0m\u001b[0mresult\u001b[0m\u001b[0;34m,\u001b[0m \u001b[0mtimezones\u001b[0m\u001b[0;34m,\u001b[0m \u001b[0mtz\u001b[0m\u001b[0;34m,\u001b[0m \u001b[0mname\u001b[0m\u001b[0;34m)\u001b[0m\u001b[0;34m\u001b[0m\u001b[0;34m\u001b[0m\u001b[0m\n",
            "\u001b[0;32m/usr/local/lib/python3.7/dist-packages/pandas/_libs/tslibs/strptime.pyx\u001b[0m in \u001b[0;36mpandas._libs.tslibs.strptime.array_strptime\u001b[0;34m()\u001b[0m\n",
            "\u001b[0;31mValueError\u001b[0m: time data '05/072018' does not match format '%d/%m/%Y' (match)"
          ]
        }
      ]
    },
    {
      "cell_type": "markdown",
      "metadata": {
        "id": "FYO_hksB9F5M"
      },
      "source": [
        "## What is the General Amount that Startups get in India?"
      ]
    },
    {
      "cell_type": "code",
      "source": [
        "# lets check the Maximum funding of a startup\n",
        "print(\"Maximum funding to a Startups is : \", data[\"AmountInUSD\"].dropna().sort_values().max())"
      ],
      "metadata": {
        "id": "Vi7NKxi0oZNA"
      },
      "execution_count": null,
      "outputs": []
    },
    {
      "cell_type": "code",
      "source": [
        "# lets check the startups with more than 50crore+ funding\n",
        "\n",
        "@interact\n",
        "def check(column = 'AmountInUSD', x = 500000000): # 50 crore funding of startups\n",
        "    return data[data[column] > x].sort_values(by = 'AmountInUSD', ascending = False)"
      ],
      "metadata": {
        "id": "duPCoRSJodLG"
      },
      "execution_count": null,
      "outputs": []
    },
    {
      "cell_type": "code",
      "source": [
        "# lets check out different ventures of Paytm\n",
        "data[data.StartupName == 'Paytm']"
      ],
      "metadata": {
        "id": "1pihSh90ok48"
      },
      "execution_count": null,
      "outputs": []
    },
    {
      "cell_type": "code",
      "source": [
        "# lets check out different ventures of Flipkart\n",
        "data[data.StartupName == 'Flipkart']"
      ],
      "metadata": {
        "id": "0AS9N7fgooww"
      },
      "execution_count": null,
      "outputs": []
    },
    {
      "cell_type": "code",
      "source": [
        "# lets check the minimum funding in a startup\n",
        "print(\"Minimum funding to a Startups is : \", data[\"AmountInUSD\"].dropna().sort_values().min())"
      ],
      "metadata": {
        "id": "Sm7V5hsWosxL"
      },
      "execution_count": null,
      "outputs": []
    },
    {
      "cell_type": "code",
      "source": [
        "# lets check the startups with least funding\n",
        "data[['AmountInUSD','StartupName']].sort_values(by = 'AmountInUSD', ascending = True).head(5)"
      ],
      "metadata": {
        "id": "th7qvDsZouzM"
      },
      "execution_count": null,
      "outputs": []
    },
    {
      "cell_type": "code",
      "source": [
        "data[data['AmountInUSD'] == -999.0].shape"
      ],
      "metadata": {
        "id": "7GP0e4_pox3a"
      },
      "execution_count": null,
      "outputs": []
    },
    {
      "cell_type": "code",
      "source": [
        "# Average Funding\n",
        "print(\"On Average indian startups got funding of : \", data[\"AmountInUSD\"].dropna().sort_values().mean())"
      ],
      "metadata": {
        "id": "7xRgkqzZoyju"
      },
      "execution_count": null,
      "outputs": []
    },
    {
      "cell_type": "code",
      "source": [
        "# lets check the no. of funding each startsup got\n",
        "\n",
        "print(\"Total startups funded : \", len(data[\"StartupName\"].unique()))\n",
        "print(data[\"StartupName\"].value_counts().head(10))\n",
        "startupname = data['StartupName'].value_counts().head(20)\n",
        "\n",
        "# lets plot the data\n",
        "plt.rcParams['figure.figsize'] = (12, 15)\n",
        "sns.barplot(y = startupname.index, x = startupname.values, alpha=0.9, palette = 'Dark2')\n",
        "plt.xticks(rotation='vertical')\n",
        "plt.xlabel('Startup Name', fontsize=12)\n",
        "plt.ylabel('Number of fundings made', fontsize=12)\n",
        "plt.title(\"Number of fundings Startups Have\", fontsize=16)\n",
        "plt.show()"
      ],
      "metadata": {
        "id": "6G9x-qdPo5-1"
      },
      "execution_count": null,
      "outputs": []
    },
    {
      "cell_type": "markdown",
      "metadata": {
        "id": "Pp4OclAR9F5O"
      },
      "source": [
        "## Which Kind of Industries are more preferred for Startups?"
      ]
    },
    {
      "cell_type": "code",
      "source": [
        "# lets analyze the Industry of the Startups\n",
        "\n",
        "# data cleaning\n",
        "data['IndustryVertical'] = data['IndustryVertical'].replace('nan', 'Consumer Technology')\n",
        "\n",
        "industry = data['IndustryVertical'].value_counts().head(10)\n",
        "print(industry)\n",
        "\n",
        "# lets plot the data\n",
        "plt.rcParams['figure.figsize'] = (15, 5)\n",
        "sns.barplot(industry.index, industry.values, palette = 'autumn')\n",
        "plt.xticks(rotation='vertical')\n",
        "plt.xlabel('Industry vertical of startups', fontsize=12)\n",
        "plt.ylabel('Number of fundings made', fontsize=12)\n",
        "plt.title(\"Industry vertical of startups with number of funding\", fontsize=16)\n",
        "plt.show()"
      ],
      "metadata": {
        "id": "X3xUvx6wo9bY"
      },
      "execution_count": null,
      "outputs": []
    },
    {
      "cell_type": "code",
      "source": [
        "# lets analyze the sub vertical industries\n",
        "\n",
        "industry = data['SubVertical'].value_counts()[1:].head(20)\n",
        "print(industry)\n",
        "\n",
        "# lets plot the data\n",
        "sns.lineplot(industry.index, industry.values, palette = 'winter')\n",
        "plt.xticks(rotation='vertical')\n",
        "plt.xlabel('Subvertical of startups', fontsize=12)\n",
        "plt.ylabel('Number of fundings made', fontsize=12)\n",
        "plt.title(\"Subvertical of startups with number of funding\", fontsize=16)\n",
        "plt.show()"
      ],
      "metadata": {
        "id": "3d0seXpJpFnP"
      },
      "execution_count": null,
      "outputs": []
    },
    {
      "cell_type": "markdown",
      "metadata": {
        "id": "b_7C1UXs9F5P"
      },
      "source": [
        "## Does Location also play a role, In determining the Growth of a Startup?"
      ]
    },
    {
      "cell_type": "code",
      "source": [
        "# analyzing the effect of Cities on a Startup\n",
        "\n",
        "# lets clean the data for better analysis\n",
        "data['City'] = data['City'].replace(('Bengaluru', 'nan'),('Bangalore', 'Bangalore'))\n",
        "\n",
        "city = data['City'].value_counts().head(10)\n",
        "print(city)\n",
        "\n",
        "# lets plot the data\n",
        "sns.barplot(city.index, city.values, palette = 'copper')\n",
        "plt.xticks(rotation='vertical')\n",
        "plt.xlabel('city location of startups', fontsize=12)\n",
        "plt.ylabel('Number of fundings made', fontsize=12)\n",
        "plt.title(\"city location of startups with number of funding\", fontsize=16)\n",
        "plt.show()"
      ],
      "metadata": {
        "id": "wTS4Rw6-pOGE"
      },
      "execution_count": null,
      "outputs": []
    },
    {
      "cell_type": "code",
      "source": [
        "# lets analyze the investors on startups\n",
        "\n",
        "# lets clean the dataset\n",
        "data['InvestorsName'][data['InvestorsName'] == 'Undisclosed investors'] = 'Undisclosed Investors'\n",
        "data['InvestorsName'][data['InvestorsName'] == 'undisclosed Investors'] = 'Undisclosed Investors'\n",
        "data['InvestorsName'][data['InvestorsName'] == 'undisclosed investors'] = 'Undisclosed Investors'\n",
        "data['InvestorsName'][data['InvestorsName'] == 'Undisclosed investor'] = 'Undisclosed Investors'\n",
        "data['InvestorsName'][data['InvestorsName'] == 'Undisclosed Investor'] = 'Undisclosed Investors'\n",
        "data['InvestorsName'][data['InvestorsName'] == 'Undisclosed'] = 'Undisclosed Investors'\n",
        "data['InvestorsName'][data['InvestorsName'] == 'nan'] = 'Undisclosed Investors'\n",
        "\n",
        "# lets check the value counts\n",
        "investors = data['InvestorsName'].value_counts().head(10)\n",
        "print(investors)\n",
        "\n",
        "# lets plot the data\n",
        "sns.barplot(investors.index, investors.values, palette = 'cool')\n",
        "plt.xticks(rotation='vertical')\n",
        "plt.xlabel('Investors Names', fontsize=12)\n",
        "plt.ylabel('Number of fundings made', fontsize=12)\n",
        "plt.title(\"Investors Names with number of funding\", fontsize=16)\n",
        "plt.show()"
      ],
      "metadata": {
        "id": "yyXPn3o_pZnl"
      },
      "execution_count": null,
      "outputs": []
    },
    {
      "cell_type": "markdown",
      "metadata": {
        "id": "WDYwEL329F5P"
      },
      "source": [
        "## What are the different Types of Funding for Startups?"
      ]
    },
    {
      "cell_type": "code",
      "source": [
        "# lets analyze the investment\n",
        "investment = data['InvestmentType'].value_counts().head(10)\n",
        "print(investment)\n",
        "\n",
        "# lets clean the dataset\n",
        "data['InvestmentType'][data['InvestmentType'] == 'SeedFunding'] = 'Seed Funding'\n",
        "data['InvestmentType'][data['InvestmentType'] == 'Crowd funding'] = 'Crowd Funding'\n",
        "data['InvestmentType'][data['InvestmentType'] == 'PrivateEquity'] = 'Private Equity'\n",
        "\n",
        "# lets plot the data\n",
        "sns.barplot(investment.index, investment.values, palette = 'summer')\n",
        "plt.xticks(rotation='vertical')\n",
        "plt.xlabel('Investment Type', fontsize=12)\n",
        "plt.ylabel('Number of fundings made', fontsize=12)\n",
        "plt.title(\"Investment Type with number of funding\", fontsize=16)\n",
        "plt.show()"
      ],
      "metadata": {
        "id": "k9LwOj-Ypfdi"
      },
      "execution_count": null,
      "outputs": []
    }
  ]
}